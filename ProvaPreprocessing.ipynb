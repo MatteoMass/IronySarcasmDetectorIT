{
 "cells": [
  {
   "cell_type": "code",
   "execution_count": 85,
   "metadata": {},
   "outputs": [
    {
     "name": "stdout",
     "output_type": "stream",
     "text": [
      "Requirement already satisfied: emoji in d:\\anaconda\\lib\\site-packages (1.4.2)\n"
     ]
    }
   ],
   "source": [
    "import pandas as pd\n",
    "!pip install emoji\n",
    "import emoji\n",
    "from nltk.corpus import stopwords \n",
    "from nltk.stem import SnowballStemmer\n",
    "from nltk.tokenize import TweetTokenizer  \n",
    "from string import punctuation\n",
    "import re\n",
    "import string\n",
    "import nltk\n",
    "from tensorflow.keras.preprocessing.text import Tokenizer\n",
    "from tensorflow.keras.preprocessing.sequence import pad_sequences"
   ]
  },
  {
   "cell_type": "code",
   "execution_count": 88,
   "metadata": {},
   "outputs": [
    {
     "data": {
      "text/html": [
       "<div>\n",
       "<style scoped>\n",
       "    .dataframe tbody tr th:only-of-type {\n",
       "        vertical-align: middle;\n",
       "    }\n",
       "\n",
       "    .dataframe tbody tr th {\n",
       "        vertical-align: top;\n",
       "    }\n",
       "\n",
       "    .dataframe thead th {\n",
       "        text-align: right;\n",
       "    }\n",
       "</style>\n",
       "<table border=\"1\" class=\"dataframe\">\n",
       "  <thead>\n",
       "    <tr style=\"text-align: right;\">\n",
       "      <th></th>\n",
       "      <th>text</th>\n",
       "      <th>irony</th>\n",
       "      <th>sarcasm</th>\n",
       "    </tr>\n",
       "  </thead>\n",
       "  <tbody>\n",
       "    <tr>\n",
       "      <th>0</th>\n",
       "      <td>Zurigo, trovato morto il presunto autore della...</td>\n",
       "      <td>0</td>\n",
       "      <td>0</td>\n",
       "    </tr>\n",
       "    <tr>\n",
       "      <th>1</th>\n",
       "      <td>Zurigo, trovato morto il presunto autore della...</td>\n",
       "      <td>0</td>\n",
       "      <td>0</td>\n",
       "    </tr>\n",
       "    <tr>\n",
       "      <th>2</th>\n",
       "      <td>Zingari..i soliti \"MERDOSI\"..#cacciamolivia Ro...</td>\n",
       "      <td>0</td>\n",
       "      <td>0</td>\n",
       "    </tr>\n",
       "    <tr>\n",
       "      <th>3</th>\n",
       "      <td>Zingari di merda,tutti al muro...bastardi Spar...</td>\n",
       "      <td>0</td>\n",
       "      <td>0</td>\n",
       "    </tr>\n",
       "    <tr>\n",
       "      <th>4</th>\n",
       "      <td>zero notizie decreto #tfaordinario II ciclo ze...</td>\n",
       "      <td>1</td>\n",
       "      <td>0</td>\n",
       "    </tr>\n",
       "  </tbody>\n",
       "</table>\n",
       "</div>"
      ],
      "text/plain": [
       "                                                text  irony  sarcasm\n",
       "0  Zurigo, trovato morto il presunto autore della...      0        0\n",
       "1  Zurigo, trovato morto il presunto autore della...      0        0\n",
       "2  Zingari..i soliti \"MERDOSI\"..#cacciamolivia Ro...      0        0\n",
       "3  Zingari di merda,tutti al muro...bastardi Spar...      0        0\n",
       "4  zero notizie decreto #tfaordinario II ciclo ze...      1        0"
      ]
     },
     "execution_count": 88,
     "metadata": {},
     "output_type": "execute_result"
    }
   ],
   "source": [
    "df = pd.read_csv(\"datasets/training_ironita2018.csv\")\n",
    "df.head()"
   ]
  },
  {
   "cell_type": "code",
   "execution_count": 89,
   "metadata": {},
   "outputs": [],
   "source": [
    "def textClean(x):\n",
    "    '''Rimozione URLs'''\n",
    "    x = re.sub(r'https?:\\/\\/.*[\\r\\n]*', '', x)\n",
    "    \n",
    "    '''Rimozione simbolo Hashtag, si può migliorare spezzando le parole che lo compongono'''\n",
    "    x = re.sub(r'#', ' ', x)\n",
    "    \n",
    "    '''Rimozione cifre'''\n",
    "    x = re.sub(r'[0-9]', ' ', x)\n",
    "    \n",
    "    '''Sostituzione emoji con il proprio significato, ma non funziona'''\n",
    "    '''x = \"\" + emoji.demojize(x, delimiters=(\" \", \" \"))'''\n",
    "    \n",
    "    \n",
    "    \n",
    "    return x\n"
   ]
  },
  {
   "cell_type": "code",
   "execution_count": 90,
   "metadata": {},
   "outputs": [],
   "source": [
    "def preprocess(sentences):\n",
    "    '''Tokenizer'''\n",
    "    tokenizer = Tokenizer(oov_token=\"<OOV>\")\n",
    "    tokenizer.fit_on_texts(sentences)\n",
    "\n",
    "    '''Rimozione delle stopwords'''\n",
    "    set_stopwords = stopwords.words('italian')\n",
    "    \n",
    "    sentences_clear = []\n",
    "    for sentence in sentences:\n",
    "        sentence_clear = []\n",
    "        for word in sentence:\n",
    "            if (word not in set_stopwords and word not in string.punctuation): \n",
    "                sentence_clear.append(word)\n",
    "        sentences_clear.append(sentence_clear)\n",
    "    \n",
    "    '''Trasformazione di ogni parola in un intero'''\n",
    "    word_index = tokenizer.word_index\n",
    "    sequences = tokenizer.texts_to_sequences(sentences_clear)\n",
    "    \n",
    "    '''Padding di ogni frase alla stessa dimensione'''       \n",
    "        \n",
    "    padded = pad_sequences(sequences, padding='post')\n",
    "    print(padded.shape)\n",
    "    return padded"
   ]
  },
  {
   "cell_type": "code",
   "execution_count": 91,
   "metadata": {},
   "outputs": [],
   "source": [
    "x,y = df['text'],df['irony']"
   ]
  },
  {
   "cell_type": "code",
   "execution_count": 92,
   "metadata": {},
   "outputs": [],
   "source": [
    "x = [textClean(i) for i in x]\n"
   ]
  },
  {
   "cell_type": "code",
   "execution_count": 93,
   "metadata": {},
   "outputs": [
    {
     "name": "stdout",
     "output_type": "stream",
     "text": [
      "(3977, 109)\n"
     ]
    }
   ],
   "source": [
    "x = preprocess(x)"
   ]
  },
  {
   "cell_type": "code",
   "execution_count": 94,
   "metadata": {},
   "outputs": [],
   "source": [
    "\n",
    "from sklearn.model_selection import train_test_split\n",
    "import tensorflow as tf\n",
    "from keras import backend as K\n",
    "from keras.layers import Dense, Conv1D, Flatten, Dropout, GlobalMaxPooling1D, LSTM, Input, merge, Bidirectional\n",
    "from keras.models import Model, Sequential"
   ]
  },
  {
   "cell_type": "code",
   "execution_count": 95,
   "metadata": {},
   "outputs": [],
   "source": [
    "model = Sequential()\n",
    "model.add(Dense(50, input_dim=109, activation='relu'))\n",
    "model.add(Dense(25, activation='relu'))\n",
    "model.add(Dense(12, activation='relu'))\n",
    "model.add(Dense(1, activation='sigmoid'))"
   ]
  },
  {
   "cell_type": "code",
   "execution_count": 96,
   "metadata": {},
   "outputs": [],
   "source": [
    "model.compile(loss='binary_crossentropy', optimizer='adam', metrics=['accuracy'])"
   ]
  },
  {
   "cell_type": "code",
   "execution_count": 97,
   "metadata": {},
   "outputs": [
    {
     "name": "stdout",
     "output_type": "stream",
     "text": [
      "Epoch 1/50\n",
      "398/398 [==============================] - 0s 1ms/step - loss: 16.7625 - accuracy: 0.4865\n",
      "Epoch 2/50\n",
      "398/398 [==============================] - 0s 711us/step - loss: 0.7308 - accuracy: 0.4906\n",
      "Epoch 3/50\n",
      "398/398 [==============================] - 0s 781us/step - loss: 0.6937 - accuracy: 0.4936\n",
      "Epoch 4/50\n",
      "398/398 [==============================] - 0s 1ms/step - loss: 0.6918 - accuracy: 0.5089\n",
      "Epoch 5/50\n",
      "398/398 [==============================] - 1s 2ms/step - loss: 0.6917 - accuracy: 0.5089\n",
      "Epoch 6/50\n",
      "398/398 [==============================] - 1s 2ms/step - loss: 0.6917 - accuracy: 0.5089\n",
      "Epoch 7/50\n",
      "398/398 [==============================] - 1s 2ms/step - loss: 0.6917 - accuracy: 0.5089\n",
      "Epoch 8/50\n",
      "398/398 [==============================] - 1s 2ms/step - loss: 0.6917 - accuracy: 0.5089\n",
      "Epoch 9/50\n",
      "398/398 [==============================] - 1s 2ms/step - loss: 0.6917 - accuracy: 0.5089\n",
      "Epoch 10/50\n",
      "398/398 [==============================] - 1s 2ms/step - loss: 0.6917 - accuracy: 0.5089\n",
      "Epoch 11/50\n",
      "398/398 [==============================] - 1s 2ms/step - loss: 0.6917 - accuracy: 0.5089\n",
      "Epoch 12/50\n",
      "398/398 [==============================] - 1s 2ms/step - loss: 0.6917 - accuracy: 0.5089\n",
      "Epoch 13/50\n",
      "398/398 [==============================] - 1s 2ms/step - loss: 0.6917 - accuracy: 0.5089\n",
      "Epoch 14/50\n",
      "398/398 [==============================] - 1s 2ms/step - loss: 0.6917 - accuracy: 0.5089\n",
      "Epoch 15/50\n",
      "398/398 [==============================] - 1s 2ms/step - loss: 0.6917 - accuracy: 0.5089\n",
      "Epoch 16/50\n",
      "398/398 [==============================] - 1s 2ms/step - loss: 0.6917 - accuracy: 0.5089\n",
      "Epoch 17/50\n",
      "398/398 [==============================] - 1s 2ms/step - loss: 0.6917 - accuracy: 0.5089\n",
      "Epoch 18/50\n",
      "398/398 [==============================] - 1s 2ms/step - loss: 0.6917 - accuracy: 0.5089\n",
      "Epoch 19/50\n",
      "398/398 [==============================] - 1s 2ms/step - loss: 0.6917 - accuracy: 0.5089\n",
      "Epoch 20/50\n",
      "398/398 [==============================] - 1s 2ms/step - loss: 0.6917 - accuracy: 0.5089\n",
      "Epoch 21/50\n",
      "398/398 [==============================] - 1s 2ms/step - loss: 0.6917 - accuracy: 0.5089\n",
      "Epoch 22/50\n",
      "398/398 [==============================] - 1s 2ms/step - loss: 0.6917 - accuracy: 0.5089\n",
      "Epoch 23/50\n",
      "398/398 [==============================] - 1s 2ms/step - loss: 0.6917 - accuracy: 0.5089\n",
      "Epoch 24/50\n",
      "398/398 [==============================] - 1s 2ms/step - loss: 0.6917 - accuracy: 0.5089\n",
      "Epoch 25/50\n",
      "398/398 [==============================] - 0s 742us/step - loss: 0.6917 - accuracy: 0.5089\n",
      "Epoch 26/50\n",
      "398/398 [==============================] - 0s 1ms/step - loss: 0.6917 - accuracy: 0.5089\n",
      "Epoch 27/50\n",
      "398/398 [==============================] - 0s 1ms/step - loss: 0.6917 - accuracy: 0.5089\n",
      "Epoch 28/50\n",
      "398/398 [==============================] - 0s 895us/step - loss: 0.6917 - accuracy: 0.5089\n",
      "Epoch 29/50\n",
      "398/398 [==============================] - 1s 1ms/step - loss: 0.6917 - accuracy: 0.5089\n",
      "Epoch 30/50\n",
      "398/398 [==============================] - 1s 2ms/step - loss: 0.6917 - accuracy: 0.5089\n",
      "Epoch 31/50\n",
      "398/398 [==============================] - 1s 1ms/step - loss: 0.6917 - accuracy: 0.5089\n",
      "Epoch 32/50\n",
      "398/398 [==============================] - 1s 2ms/step - loss: 0.6917 - accuracy: 0.5089\n",
      "Epoch 33/50\n",
      "398/398 [==============================] - 1s 2ms/step - loss: 0.6917 - accuracy: 0.5089\n",
      "Epoch 34/50\n",
      "398/398 [==============================] - 0s 840us/step - loss: 0.6917 - accuracy: 0.50890s - loss: 0.6916 - accuracy: \n",
      "Epoch 35/50\n",
      "398/398 [==============================] - 0s 1ms/step - loss: 0.6917 - accuracy: 0.5089\n",
      "Epoch 36/50\n",
      "398/398 [==============================] - 1s 1ms/step - loss: 0.6917 - accuracy: 0.5089\n",
      "Epoch 37/50\n",
      "398/398 [==============================] - 1s 2ms/step - loss: 0.6917 - accuracy: 0.5089\n",
      "Epoch 38/50\n",
      "398/398 [==============================] - 1s 2ms/step - loss: 0.6917 - accuracy: 0.5089\n",
      "Epoch 39/50\n",
      "398/398 [==============================] - 1s 2ms/step - loss: 0.6917 - accuracy: 0.5089\n",
      "Epoch 40/50\n",
      "398/398 [==============================] - 1s 2ms/step - loss: 0.6917 - accuracy: 0.5089\n",
      "Epoch 41/50\n",
      "398/398 [==============================] - 1s 2ms/step - loss: 0.6917 - accuracy: 0.5089\n",
      "Epoch 42/50\n",
      "398/398 [==============================] - 1s 2ms/step - loss: 0.6917 - accuracy: 0.5089\n",
      "Epoch 43/50\n",
      "398/398 [==============================] - 1s 2ms/step - loss: 0.6917 - accuracy: 0.5089\n",
      "Epoch 44/50\n",
      "398/398 [==============================] - 1s 2ms/step - loss: 0.6917 - accuracy: 0.5089\n",
      "Epoch 45/50\n",
      "398/398 [==============================] - 1s 2ms/step - loss: 0.6917 - accuracy: 0.5089\n",
      "Epoch 46/50\n",
      "398/398 [==============================] - 1s 2ms/step - loss: 0.6917 - accuracy: 0.5089\n",
      "Epoch 47/50\n",
      "398/398 [==============================] - 1s 2ms/step - loss: 0.6917 - accuracy: 0.5089\n",
      "Epoch 48/50\n",
      "398/398 [==============================] - 1s 2ms/step - loss: 0.6917 - accuracy: 0.5089\n",
      "Epoch 49/50\n",
      "398/398 [==============================] - 1s 2ms/step - loss: 0.6917 - accuracy: 0.5089\n",
      "Epoch 50/50\n",
      "398/398 [==============================] - 1s 2ms/step - loss: 0.6917 - accuracy: 0.5089\n"
     ]
    },
    {
     "data": {
      "text/plain": [
       "<tensorflow.python.keras.callbacks.History at 0x23d590ae130>"
      ]
     },
     "execution_count": 97,
     "metadata": {},
     "output_type": "execute_result"
    }
   ],
   "source": [
    "model.fit(x, y, epochs=50, batch_size=10)"
   ]
  },
  {
   "cell_type": "code",
   "execution_count": null,
   "metadata": {},
   "outputs": [],
   "source": []
  },
  {
   "cell_type": "code",
   "execution_count": null,
   "metadata": {},
   "outputs": [],
   "source": []
  }
 ],
 "metadata": {
  "kernelspec": {
   "display_name": "Python 3",
   "language": "python",
   "name": "python3"
  },
  "language_info": {
   "codemirror_mode": {
    "name": "ipython",
    "version": 3
   },
   "file_extension": ".py",
   "mimetype": "text/x-python",
   "name": "python",
   "nbconvert_exporter": "python",
   "pygments_lexer": "ipython3",
   "version": "3.8.5"
  }
 },
 "nbformat": 4,
 "nbformat_minor": 5
}
