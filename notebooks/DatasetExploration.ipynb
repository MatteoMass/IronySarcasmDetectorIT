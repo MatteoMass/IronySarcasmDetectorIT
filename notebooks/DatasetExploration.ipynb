{
 "cells": [
  {
   "cell_type": "markdown",
   "metadata": {},
   "source": [
    "# Dataset Exploration\n",
    "\n",
    "In this notebook we explore the dataset in order to determine which pre-processing steps are required."
   ]
  },
  {
   "cell_type": "code",
   "execution_count": 1,
   "metadata": {},
   "outputs": [],
   "source": [
    "from pathlib import Path\n",
    "import sys\n",
    "sys.path.append(\"../\")\n",
    "\n",
    "from config import Config\n",
    "import pandas as pd\n",
    "\n",
    "import matplotlib.pyplot as plt\n",
    "import seaborn as sns\n",
    "plt.style.use('seaborn')\n",
    "params = {\n",
    "    'figure.figsize': (15, 5),\n",
    "    'legend.fontsize': 'x-large',\n",
    "    'axes.labelsize': 'x-large',\n",
    "    'axes.titlesize':'x-large',\n",
    "}\n",
    "plt.rcParams.update(params)"
   ]
  },
  {
   "cell_type": "code",
   "execution_count": 2,
   "metadata": {},
   "outputs": [
    {
     "data": {
      "text/html": [
       "<div>\n",
       "<style scoped>\n",
       "    .dataframe tbody tr th:only-of-type {\n",
       "        vertical-align: middle;\n",
       "    }\n",
       "\n",
       "    .dataframe tbody tr th {\n",
       "        vertical-align: top;\n",
       "    }\n",
       "\n",
       "    .dataframe thead th {\n",
       "        text-align: right;\n",
       "    }\n",
       "</style>\n",
       "<table border=\"1\" class=\"dataframe\">\n",
       "  <thead>\n",
       "    <tr style=\"text-align: right;\">\n",
       "      <th></th>\n",
       "      <th>text</th>\n",
       "      <th>irony</th>\n",
       "      <th>sarcasm</th>\n",
       "    </tr>\n",
       "  </thead>\n",
       "  <tbody>\n",
       "    <tr>\n",
       "      <th>0</th>\n",
       "      <td>Zurigo, trovato morto il presunto autore della...</td>\n",
       "      <td>0</td>\n",
       "      <td>0</td>\n",
       "    </tr>\n",
       "    <tr>\n",
       "      <th>1</th>\n",
       "      <td>Zurigo, trovato morto il presunto autore della...</td>\n",
       "      <td>0</td>\n",
       "      <td>0</td>\n",
       "    </tr>\n",
       "    <tr>\n",
       "      <th>2</th>\n",
       "      <td>Zingari..i soliti \"MERDOSI\"..#cacciamolivia Ro...</td>\n",
       "      <td>0</td>\n",
       "      <td>0</td>\n",
       "    </tr>\n",
       "    <tr>\n",
       "      <th>3</th>\n",
       "      <td>Zingari di merda,tutti al muro...bastardi Spar...</td>\n",
       "      <td>0</td>\n",
       "      <td>0</td>\n",
       "    </tr>\n",
       "    <tr>\n",
       "      <th>4</th>\n",
       "      <td>zero notizie decreto #tfaordinario II ciclo ze...</td>\n",
       "      <td>1</td>\n",
       "      <td>0</td>\n",
       "    </tr>\n",
       "    <tr>\n",
       "      <th>...</th>\n",
       "      <td>...</td>\n",
       "      <td>...</td>\n",
       "      <td>...</td>\n",
       "    </tr>\n",
       "    <tr>\n",
       "      <th>3972</th>\n",
       "      <td>Casini:Trovare un'intesa tra forze politiche o...</td>\n",
       "      <td>0</td>\n",
       "      <td>0</td>\n",
       "    </tr>\n",
       "    <tr>\n",
       "      <th>3973</th>\n",
       "      <td>Cambiare tutto per non cambiare niente sembra ...</td>\n",
       "      <td>0</td>\n",
       "      <td>0</td>\n",
       "    </tr>\n",
       "    <tr>\n",
       "      <th>3974</th>\n",
       "      <td>Alcuni mettono mani nelle tasche degli italian...</td>\n",
       "      <td>0</td>\n",
       "      <td>0</td>\n",
       "    </tr>\n",
       "    <tr>\n",
       "      <th>3975</th>\n",
       "      <td>A parte che la dieta di #Salvini  dovrebbe ess...</td>\n",
       "      <td>1</td>\n",
       "      <td>0</td>\n",
       "    </tr>\n",
       "    <tr>\n",
       "      <th>3976</th>\n",
       "      <td>@VITAnonprofit CLAMOROSO: MARIO MONTI. L'Itali...</td>\n",
       "      <td>0</td>\n",
       "      <td>0</td>\n",
       "    </tr>\n",
       "  </tbody>\n",
       "</table>\n",
       "<p>3977 rows × 3 columns</p>\n",
       "</div>"
      ],
      "text/plain": [
       "                                                   text  irony  sarcasm\n",
       "0     Zurigo, trovato morto il presunto autore della...      0        0\n",
       "1     Zurigo, trovato morto il presunto autore della...      0        0\n",
       "2     Zingari..i soliti \"MERDOSI\"..#cacciamolivia Ro...      0        0\n",
       "3     Zingari di merda,tutti al muro...bastardi Spar...      0        0\n",
       "4     zero notizie decreto #tfaordinario II ciclo ze...      1        0\n",
       "...                                                 ...    ...      ...\n",
       "3972  Casini:Trovare un'intesa tra forze politiche o...      0        0\n",
       "3973  Cambiare tutto per non cambiare niente sembra ...      0        0\n",
       "3974  Alcuni mettono mani nelle tasche degli italian...      0        0\n",
       "3975  A parte che la dieta di #Salvini  dovrebbe ess...      1        0\n",
       "3976  @VITAnonprofit CLAMOROSO: MARIO MONTI. L'Itali...      0        0\n",
       "\n",
       "[3977 rows x 3 columns]"
      ]
     },
     "execution_count": 2,
     "metadata": {},
     "output_type": "execute_result"
    }
   ],
   "source": [
    "df = pd.read_csv(Config.TRAINING_DATASET_PATH)\n",
    "df"
   ]
  },
  {
   "cell_type": "code",
   "execution_count": 3,
   "metadata": {},
   "outputs": [
    {
     "name": "stdout",
     "output_type": "stream",
     "text": [
      "<class 'pandas.core.frame.DataFrame'>\n",
      "RangeIndex: 3977 entries, 0 to 3976\n",
      "Data columns (total 3 columns):\n",
      " #   Column   Non-Null Count  Dtype \n",
      "---  ------   --------------  ----- \n",
      " 0   text     3977 non-null   object\n",
      " 1   irony    3977 non-null   int64 \n",
      " 2   sarcasm  3977 non-null   int64 \n",
      "dtypes: int64(2), object(1)\n",
      "memory usage: 93.3+ KB\n"
     ]
    }
   ],
   "source": [
    "df.info()"
   ]
  },
  {
   "cell_type": "markdown",
   "metadata": {},
   "source": [
    "we can see that there are no missing data."
   ]
  },
  {
   "cell_type": "code",
   "execution_count": 4,
   "metadata": {},
   "outputs": [],
   "source": [
    "text, irony, sarcasm = df['text'], df['irony'], df['sarcasm']"
   ]
  },
  {
   "cell_type": "code",
   "execution_count": 5,
   "metadata": {},
   "outputs": [
    {
     "data": {
      "text/plain": [
       "'Zurigo, trovato morto il presunto autore della sparatoria nel centro islamico #20dicembre https://t.co/rBjvUi8RJ2'"
      ]
     },
     "execution_count": 5,
     "metadata": {},
     "output_type": "execute_result"
    }
   ],
   "source": [
    "text[0]"
   ]
  },
  {
   "cell_type": "code",
   "execution_count": 6,
   "metadata": {},
   "outputs": [],
   "source": [
    "from preprocessing.frameutils import extract_symbols\n",
    "from prettyprinting import prettyprint_list"
   ]
  },
  {
   "cell_type": "code",
   "execution_count": 7,
   "metadata": {},
   "outputs": [
    {
     "name": "stdout",
     "output_type": "stream",
     "text": [
      "س 🇸 u W ì \" ل ◀ 😏 ✌ \n",
      "⛪ M Y е 🤣 😒 s ~ X 9 \n",
      "❓ о ‍ g n 😶 é 🙏 À 😜 \n",
      "� 🤔 + م o 😔 i 6 z # \n",
      "H T 😭 r ) \\ 😎 😹 V · \n",
      "E 🐐 R c 4 😷 . 5 ” 😃 \n",
      "🤓   8 / ė $ O ò 0 = \n",
      "& І U ✔ » 😄 ê j 1 è \n",
      "😇 🇬 D 🤐 😀 – K f 🤦 🤕 \n",
      "😡 t ° a 😁 F 🇮 🙂 b ️ \n",
      "ª … 👏 ! v 😳 I _ ó ا \n",
      "☺ 2 k | € ü G 💣 ‘ 🙈 \n",
      "p y ] , á L > 🔹 h ù \n",
      "і 📍 😬 A ▶ 🇹 👍 ♂ 😋 - \n",
      "💡 💖 7 😑 : 😟 😉 í 😅 3 \n",
      "B É Z 😨 “ ; < ̀ 😂 N \n",
      "  💪 [ à 💰 w 🇾 ^ 💥 @ \n",
      "😊 Ù 😞 J * ë m ’ e а \n",
      "💩 P ú 😲 « 🏼 ' x 😕 l \n",
      "È ( q 😈 🌹 d 😱 C 🙄 ? \n",
      "🇧 S Q % 👎 "
     ]
    }
   ],
   "source": [
    "symbols = extract_symbols(text)\n",
    "prettyprint_list(symbols)"
   ]
  },
  {
   "cell_type": "markdown",
   "metadata": {},
   "source": [
    "As we can see the tweets contain non-alphanumeric and non ascii symbols, like emoji, which need to be handled."
   ]
  },
  {
   "cell_type": "code",
   "execution_count": 8,
   "metadata": {},
   "outputs": [
    {
     "name": "stdout",
     "output_type": "stream",
     "text": [
      "س 🇸 ì ل ◀ 😏 ✌ ⛪ е 🤣 \n",
      "😒 ❓ о ‍ 😶 é 🙏 À 😜 � \n",
      "🤔 م 😔 😭 😎 😹 · 🐐 😷 ” \n",
      "😃 🤓   ė ò І ✔ » 😄 ê \n",
      "è 😇 🇬 🤐 😀 – 🤦 🤕 😡 ° \n",
      "😁 🇮 🙂 ️ ª … 👏 😳 ó ا \n",
      "☺ € ü 💣 ‘ 🙈 á 🔹 ù і \n",
      "📍 😬 ▶ 🇹 👍 ♂ 😋 💡 💖 😑 \n",
      "😟 😉 í 😅 É 😨 “ ̀ 😂 💪 \n",
      "à 💰 🇾 💥 😊 Ù 😞 ë ’ а \n",
      "💩 ú 😲 « 🏼 😕 È 😈 🌹 😱 \n",
      "🙄 🇧 👎 "
     ]
    }
   ],
   "source": [
    "prettyprint_list(list(filter(lambda x : not x.isascii(), symbols)))"
   ]
  },
  {
   "cell_type": "markdown",
   "metadata": {},
   "source": [
    "Number of tweets classified as ironic/sarcastic."
   ]
  },
  {
   "cell_type": "code",
   "execution_count": 29,
   "metadata": {},
   "outputs": [
    {
     "name": "stdout",
     "output_type": "stream",
     "text": [
      "Total tweets \t= 3977 (100.00%)\n",
      "Ironic \t\t= 2023 (50.87%)\n",
      "Non-ironic \t= 1954 (49.13%)\n",
      "Sarcastic \t= 913  (22.96%)\n",
      "Non-sarcastic \t= 3064 (77.04%)\n"
     ]
    }
   ],
   "source": [
    "total = len(text)\n",
    "ironic = sum(irony)\n",
    "sarcastic = sum(sarcasm)\n",
    "print(f\"Total tweets \\t= {total} ({total/total*100:.2f}%)\")\n",
    "print(f\"Ironic \\t\\t= {ironic} ({ironic/total*100:.2f}%)\")\n",
    "print(f\"Non-ironic \\t= {total - ironic} ({(total - ironic)/total*100:.2f}%)\")\n",
    "print(f\"Sarcastic \\t= {sarcastic}  ({sarcastic/total*100:.2f}%)\")\n",
    "print(f\"Non-sarcastic \\t= {total - sarcastic} ({(total-sarcastic)/total*100:.2f}%)\")"
   ]
  },
  {
   "cell_type": "markdown",
   "metadata": {},
   "source": [
    "Number of ironic tweets that are not sarcastic"
   ]
  },
  {
   "cell_type": "code",
   "execution_count": 31,
   "metadata": {},
   "outputs": [
    {
     "data": {
      "text/plain": [
       "1110"
      ]
     },
     "execution_count": 31,
     "metadata": {},
     "output_type": "execute_result"
    }
   ],
   "source": [
    "len(df[(df[\"sarcasm\"] == 0) & (df['irony'] == 1)].index)"
   ]
  },
  {
   "cell_type": "markdown",
   "metadata": {},
   "source": [
    "Ara all sarcastic tweets also classified as ironic?"
   ]
  },
  {
   "cell_type": "code",
   "execution_count": 33,
   "metadata": {},
   "outputs": [
    {
     "data": {
      "text/plain": [
       "True"
      ]
     },
     "execution_count": 33,
     "metadata": {},
     "output_type": "execute_result"
    }
   ],
   "source": [
    "len(df[(df[\"sarcasm\"] == 1) & (df['irony'] == 1)].index) == sarcastic"
   ]
  }
 ],
 "metadata": {
  "kernelspec": {
   "display_name": "Python 3",
   "language": "python",
   "name": "python3"
  },
  "language_info": {
   "codemirror_mode": {
    "name": "ipython",
    "version": 3
   },
   "file_extension": ".py",
   "mimetype": "text/x-python",
   "name": "python",
   "nbconvert_exporter": "python",
   "pygments_lexer": "ipython3",
   "version": "3.8.5"
  }
 },
 "nbformat": 4,
 "nbformat_minor": 4
}
