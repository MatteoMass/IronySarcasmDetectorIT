{
 "cells": [
  {
   "cell_type": "markdown",
   "metadata": {},
   "source": [
    "# Dataset Exploration\n",
    "\n",
    "In this notebook we explore the dataset in order to determine which pre-processing steps are required."
   ]
  },
  {
   "cell_type": "code",
   "execution_count": 65,
   "metadata": {},
   "outputs": [],
   "source": [
    "from pathlib import Path\n",
    "import sys\n",
    "sys.path.append(\"../\")\n",
    "\n",
    "from config import Config\n",
    "import pandas as pd\n",
    "\n",
    "import matplotlib.pyplot as plt\n",
    "import seaborn as sns\n",
    "plt.style.use('seaborn')\n",
    "params = {\n",
    "    'figure.figsize': (15, 5),\n",
    "    'legend.fontsize': 'x-large',\n",
    "    'axes.labelsize': 'x-large',\n",
    "    'axes.titlesize':'x-large',\n",
    "}\n",
    "plt.rcParams.update(params)"
   ]
  },
  {
   "cell_type": "code",
   "execution_count": 66,
   "metadata": {},
   "outputs": [
    {
     "data": {
      "text/html": [
       "<div>\n",
       "<style scoped>\n",
       "    .dataframe tbody tr th:only-of-type {\n",
       "        vertical-align: middle;\n",
       "    }\n",
       "\n",
       "    .dataframe tbody tr th {\n",
       "        vertical-align: top;\n",
       "    }\n",
       "\n",
       "    .dataframe thead th {\n",
       "        text-align: right;\n",
       "    }\n",
       "</style>\n",
       "<table border=\"1\" class=\"dataframe\">\n",
       "  <thead>\n",
       "    <tr style=\"text-align: right;\">\n",
       "      <th></th>\n",
       "      <th>text</th>\n",
       "      <th>irony</th>\n",
       "      <th>sarcasm</th>\n",
       "    </tr>\n",
       "  </thead>\n",
       "  <tbody>\n",
       "    <tr>\n",
       "      <th>0</th>\n",
       "      <td>Zurigo, trovato morto il presunto autore della...</td>\n",
       "      <td>0</td>\n",
       "      <td>0</td>\n",
       "    </tr>\n",
       "    <tr>\n",
       "      <th>1</th>\n",
       "      <td>Zurigo, trovato morto il presunto autore della...</td>\n",
       "      <td>0</td>\n",
       "      <td>0</td>\n",
       "    </tr>\n",
       "    <tr>\n",
       "      <th>2</th>\n",
       "      <td>Zingari..i soliti \"MERDOSI\"..#cacciamolivia Ro...</td>\n",
       "      <td>0</td>\n",
       "      <td>0</td>\n",
       "    </tr>\n",
       "    <tr>\n",
       "      <th>3</th>\n",
       "      <td>Zingari di merda,tutti al muro...bastardi Spar...</td>\n",
       "      <td>0</td>\n",
       "      <td>0</td>\n",
       "    </tr>\n",
       "    <tr>\n",
       "      <th>4</th>\n",
       "      <td>zero notizie decreto #tfaordinario II ciclo ze...</td>\n",
       "      <td>1</td>\n",
       "      <td>0</td>\n",
       "    </tr>\n",
       "    <tr>\n",
       "      <th>...</th>\n",
       "      <td>...</td>\n",
       "      <td>...</td>\n",
       "      <td>...</td>\n",
       "    </tr>\n",
       "    <tr>\n",
       "      <th>3972</th>\n",
       "      <td>Casini:Trovare un'intesa tra forze politiche o...</td>\n",
       "      <td>0</td>\n",
       "      <td>0</td>\n",
       "    </tr>\n",
       "    <tr>\n",
       "      <th>3973</th>\n",
       "      <td>Cambiare tutto per non cambiare niente sembra ...</td>\n",
       "      <td>0</td>\n",
       "      <td>0</td>\n",
       "    </tr>\n",
       "    <tr>\n",
       "      <th>3974</th>\n",
       "      <td>Alcuni mettono mani nelle tasche degli italian...</td>\n",
       "      <td>0</td>\n",
       "      <td>0</td>\n",
       "    </tr>\n",
       "    <tr>\n",
       "      <th>3975</th>\n",
       "      <td>A parte che la dieta di #Salvini  dovrebbe ess...</td>\n",
       "      <td>1</td>\n",
       "      <td>0</td>\n",
       "    </tr>\n",
       "    <tr>\n",
       "      <th>3976</th>\n",
       "      <td>@VITAnonprofit CLAMOROSO: MARIO MONTI. L'Itali...</td>\n",
       "      <td>0</td>\n",
       "      <td>0</td>\n",
       "    </tr>\n",
       "  </tbody>\n",
       "</table>\n",
       "<p>3977 rows × 3 columns</p>\n",
       "</div>"
      ],
      "text/plain": [
       "                                                   text  irony  sarcasm\n",
       "0     Zurigo, trovato morto il presunto autore della...      0        0\n",
       "1     Zurigo, trovato morto il presunto autore della...      0        0\n",
       "2     Zingari..i soliti \"MERDOSI\"..#cacciamolivia Ro...      0        0\n",
       "3     Zingari di merda,tutti al muro...bastardi Spar...      0        0\n",
       "4     zero notizie decreto #tfaordinario II ciclo ze...      1        0\n",
       "...                                                 ...    ...      ...\n",
       "3972  Casini:Trovare un'intesa tra forze politiche o...      0        0\n",
       "3973  Cambiare tutto per non cambiare niente sembra ...      0        0\n",
       "3974  Alcuni mettono mani nelle tasche degli italian...      0        0\n",
       "3975  A parte che la dieta di #Salvini  dovrebbe ess...      1        0\n",
       "3976  @VITAnonprofit CLAMOROSO: MARIO MONTI. L'Itali...      0        0\n",
       "\n",
       "[3977 rows x 3 columns]"
      ]
     },
     "execution_count": 66,
     "metadata": {},
     "output_type": "execute_result"
    }
   ],
   "source": [
    "df = pd.read_csv(Config.TRAINING_DATASET_PATH)\n",
    "df"
   ]
  },
  {
   "cell_type": "code",
   "execution_count": 67,
   "metadata": {},
   "outputs": [
    {
     "name": "stdout",
     "output_type": "stream",
     "text": [
      "<class 'pandas.core.frame.DataFrame'>\n",
      "RangeIndex: 3977 entries, 0 to 3976\n",
      "Data columns (total 3 columns):\n",
      " #   Column   Non-Null Count  Dtype \n",
      "---  ------   --------------  ----- \n",
      " 0   text     3977 non-null   object\n",
      " 1   irony    3977 non-null   int64 \n",
      " 2   sarcasm  3977 non-null   int64 \n",
      "dtypes: int64(2), object(1)\n",
      "memory usage: 93.3+ KB\n"
     ]
    }
   ],
   "source": [
    "df.info()"
   ]
  },
  {
   "cell_type": "markdown",
   "metadata": {},
   "source": [
    "we can see that there are no missing data."
   ]
  },
  {
   "cell_type": "code",
   "execution_count": 4,
   "metadata": {},
   "outputs": [],
   "source": [
    "text, irony, sarcasm = df['text'], df['irony'], df['sarcasm']"
   ]
  },
  {
   "cell_type": "code",
   "execution_count": 73,
   "metadata": {},
   "outputs": [
    {
     "data": {
      "text/plain": [
       "'Zurigo, trovato morto il presunto autore della sparatoria nel centro islamico #20dicembre https://t.co/rBjvUi8RJ2'"
      ]
     },
     "execution_count": 73,
     "metadata": {},
     "output_type": "execute_result"
    }
   ],
   "source": [
    "text[0]"
   ]
  },
  {
   "cell_type": "code",
   "execution_count": 60,
   "metadata": {},
   "outputs": [],
   "source": [
    "from preprocessing.frameutils import extract_symbols\n",
    "from prettyprinting import prettyprint_list"
   ]
  },
  {
   "cell_type": "code",
   "execution_count": 62,
   "metadata": {},
   "outputs": [
    {
     "name": "stdout",
     "output_type": "stream",
     "text": [
      ") ❓ c ✔ 👎 T 0 ó 😨 س \n",
      "z H 😷 é “ ل І 9 🇹 😇 \n",
      "d 🙏 . m o 😔 ^ Ù * ° \n",
      "Z / 6 ◀ 👏 ª ‍ а J 🤣 \n",
      "_ 2 ò ⛪ … 😡 😞 8 ️ q \n",
      "N 🙈 · ’ ì a À 😟 😁 k \n",
      "💰 l r   1 🤦 🇧 e ا ė \n",
      "W 😱 о ! 🏼   ( \\ n 😶 \n",
      "♂ 😂 \" I » 💥 S 📍 C É \n",
      "L � 🇸 ̀ 🐐 < ê M 🤔 💪 \n",
      "😲 😒 h ] ▶ 😀 😑 5 E s \n",
      "🤕 😈 B & F è 😹 💡 🤐 😜 \n",
      "È @ D ú ‘ е P u A – \n",
      "7 Q [ t R v i á 4 € \n",
      "; O 😃 w 🇮 ~ x ” f + \n",
      ": ? 💩 G $ 3 😋 ☺ 😉 # \n",
      "U - 😊 😭 💣 🤓 ü 😎 🙄 , \n",
      "j ë b X ' = à y 👍 🔹 \n",
      "ù 😅 K 😕 😄 V í ✌ 😬 م \n",
      "💖 🌹 і « 🇬 Y p 🇾 🙂 % \n",
      "😳 > g | 😏 "
     ]
    }
   ],
   "source": [
    "symbols = extract_symbols(text)\n",
    "prettyprint_list(symbols)"
   ]
  },
  {
   "cell_type": "markdown",
   "metadata": {},
   "source": [
    "As we can see the tweets contain non-alphanumeric and non ascii symbols, like emoji, which need to be handled."
   ]
  },
  {
   "cell_type": "code",
   "execution_count": 63,
   "metadata": {},
   "outputs": [
    {
     "name": "stdout",
     "output_type": "stream",
     "text": [
      "❓ ✔ 👎 ó 😨 س 😷 é “ ل \n",
      "І 🇹 😇 🙏 😔 Ù ° ◀ 👏 ª \n",
      "‍ а 🤣 ò ⛪ … 😡 😞 ️ 🙈 \n",
      "· ’ ì À 😟 😁 💰   🤦 🇧 \n",
      "ا ė 😱 о 🏼 😶 ♂ 😂 » 💥 \n",
      "📍 É � 🇸 ̀ 🐐 ê 🤔 💪 😲 \n",
      "😒 ▶ 😀 😑 🤕 😈 è 😹 💡 🤐 \n",
      "😜 È ú ‘ е – á € 😃 🇮 \n",
      "” 💩 😋 ☺ 😉 😊 😭 💣 🤓 ü \n",
      "😎 🙄 ë à 👍 🔹 ù 😅 😕 😄 \n",
      "í ✌ 😬 م 💖 🌹 і « 🇬 🇾 \n",
      "🙂 😳 😏 "
     ]
    }
   ],
   "source": [
    "prettyprint_list(list(filter(lambda x : not x.isascii(), symbols)))"
   ]
  },
  {
   "cell_type": "code",
   "execution_count": null,
   "metadata": {},
   "outputs": [],
   "source": []
  }
 ],
 "metadata": {
  "kernelspec": {
   "display_name": "Python 3",
   "language": "python",
   "name": "python3"
  },
  "language_info": {
   "codemirror_mode": {
    "name": "ipython",
    "version": 3
   },
   "file_extension": ".py",
   "mimetype": "text/x-python",
   "name": "python",
   "nbconvert_exporter": "python",
   "pygments_lexer": "ipython3",
   "version": "3.8.5"
  }
 },
 "nbformat": 4,
 "nbformat_minor": 4
}
