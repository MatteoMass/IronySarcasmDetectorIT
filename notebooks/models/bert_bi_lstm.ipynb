{
  "nbformat": 4,
  "nbformat_minor": 0,
  "metadata": {
    "colab": {
      "name": "IronySarcasmDetector.ipynb",
      "provenance": [],
      "collapsed_sections": []
    },
    "kernelspec": {
      "name": "python3",
      "display_name": "Python 3"
    },
    "language_info": {
      "name": "python"
    },
    "accelerator": "GPU",
    "widgets": {
      "application/vnd.jupyter.widget-state+json": {
        "9c1e1e1df12a4e81af523a225356fba1": {
          "model_module": "@jupyter-widgets/controls",
          "model_name": "HBoxModel",
          "model_module_version": "1.5.0",
          "state": {
            "_view_name": "HBoxView",
            "_dom_classes": [],
            "_model_name": "HBoxModel",
            "_view_module": "@jupyter-widgets/controls",
            "_model_module_version": "1.5.0",
            "_view_count": null,
            "_view_module_version": "1.5.0",
            "box_style": "",
            "layout": "IPY_MODEL_95277a6813004e368b38c7c2a60df126",
            "_model_module": "@jupyter-widgets/controls",
            "children": [
              "IPY_MODEL_c10340c0430c49ad96494125653b4d90",
              "IPY_MODEL_f1b7b2b5bcab472191be758452394d52",
              "IPY_MODEL_8c585c33001d45fdb1d88fda3ceb9fc1"
            ]
          }
        },
        "95277a6813004e368b38c7c2a60df126": {
          "model_module": "@jupyter-widgets/base",
          "model_name": "LayoutModel",
          "model_module_version": "1.2.0",
          "state": {
            "_view_name": "LayoutView",
            "grid_template_rows": null,
            "right": null,
            "justify_content": null,
            "_view_module": "@jupyter-widgets/base",
            "overflow": null,
            "_model_module_version": "1.2.0",
            "_view_count": null,
            "flex_flow": null,
            "width": null,
            "min_width": null,
            "border": null,
            "align_items": null,
            "bottom": null,
            "_model_module": "@jupyter-widgets/base",
            "top": null,
            "grid_column": null,
            "overflow_y": null,
            "overflow_x": null,
            "grid_auto_flow": null,
            "grid_area": null,
            "grid_template_columns": null,
            "flex": null,
            "_model_name": "LayoutModel",
            "justify_items": null,
            "grid_row": null,
            "max_height": null,
            "align_content": null,
            "visibility": null,
            "align_self": null,
            "height": null,
            "min_height": null,
            "padding": null,
            "grid_auto_rows": null,
            "grid_gap": null,
            "max_width": null,
            "order": null,
            "_view_module_version": "1.2.0",
            "grid_template_areas": null,
            "object_position": null,
            "object_fit": null,
            "grid_auto_columns": null,
            "margin": null,
            "display": null,
            "left": null
          }
        },
        "c10340c0430c49ad96494125653b4d90": {
          "model_module": "@jupyter-widgets/controls",
          "model_name": "HTMLModel",
          "model_module_version": "1.5.0",
          "state": {
            "_view_name": "HTMLView",
            "style": "IPY_MODEL_0edfda7b68244345b4afa0745b7fcd4a",
            "_dom_classes": [],
            "description": "",
            "_model_name": "HTMLModel",
            "placeholder": "​",
            "_view_module": "@jupyter-widgets/controls",
            "_model_module_version": "1.5.0",
            "value": "Downloading: 100%",
            "_view_count": null,
            "_view_module_version": "1.5.0",
            "description_tooltip": null,
            "_model_module": "@jupyter-widgets/controls",
            "layout": "IPY_MODEL_dbb37e02ade14fdab109f87db68d48ef"
          }
        },
        "f1b7b2b5bcab472191be758452394d52": {
          "model_module": "@jupyter-widgets/controls",
          "model_name": "FloatProgressModel",
          "model_module_version": "1.5.0",
          "state": {
            "_view_name": "ProgressView",
            "style": "IPY_MODEL_de24c397e35f4aba849fd8b4f93dfcb2",
            "_dom_classes": [],
            "description": "",
            "_model_name": "FloatProgressModel",
            "bar_style": "success",
            "max": 59,
            "_view_module": "@jupyter-widgets/controls",
            "_model_module_version": "1.5.0",
            "value": 59,
            "_view_count": null,
            "_view_module_version": "1.5.0",
            "orientation": "horizontal",
            "min": 0,
            "description_tooltip": null,
            "_model_module": "@jupyter-widgets/controls",
            "layout": "IPY_MODEL_575ca401dec148e6bac587f9c670feab"
          }
        },
        "8c585c33001d45fdb1d88fda3ceb9fc1": {
          "model_module": "@jupyter-widgets/controls",
          "model_name": "HTMLModel",
          "model_module_version": "1.5.0",
          "state": {
            "_view_name": "HTMLView",
            "style": "IPY_MODEL_fccd6bab66254545947a2c566285a1fd",
            "_dom_classes": [],
            "description": "",
            "_model_name": "HTMLModel",
            "placeholder": "​",
            "_view_module": "@jupyter-widgets/controls",
            "_model_module_version": "1.5.0",
            "value": " 59.0/59.0 [00:00&lt;00:00, 1.31kB/s]",
            "_view_count": null,
            "_view_module_version": "1.5.0",
            "description_tooltip": null,
            "_model_module": "@jupyter-widgets/controls",
            "layout": "IPY_MODEL_79c4b532794e4f9fa4173c46add061f2"
          }
        },
        "0edfda7b68244345b4afa0745b7fcd4a": {
          "model_module": "@jupyter-widgets/controls",
          "model_name": "DescriptionStyleModel",
          "model_module_version": "1.5.0",
          "state": {
            "_view_name": "StyleView",
            "_model_name": "DescriptionStyleModel",
            "description_width": "",
            "_view_module": "@jupyter-widgets/base",
            "_model_module_version": "1.5.0",
            "_view_count": null,
            "_view_module_version": "1.2.0",
            "_model_module": "@jupyter-widgets/controls"
          }
        },
        "dbb37e02ade14fdab109f87db68d48ef": {
          "model_module": "@jupyter-widgets/base",
          "model_name": "LayoutModel",
          "model_module_version": "1.2.0",
          "state": {
            "_view_name": "LayoutView",
            "grid_template_rows": null,
            "right": null,
            "justify_content": null,
            "_view_module": "@jupyter-widgets/base",
            "overflow": null,
            "_model_module_version": "1.2.0",
            "_view_count": null,
            "flex_flow": null,
            "width": null,
            "min_width": null,
            "border": null,
            "align_items": null,
            "bottom": null,
            "_model_module": "@jupyter-widgets/base",
            "top": null,
            "grid_column": null,
            "overflow_y": null,
            "overflow_x": null,
            "grid_auto_flow": null,
            "grid_area": null,
            "grid_template_columns": null,
            "flex": null,
            "_model_name": "LayoutModel",
            "justify_items": null,
            "grid_row": null,
            "max_height": null,
            "align_content": null,
            "visibility": null,
            "align_self": null,
            "height": null,
            "min_height": null,
            "padding": null,
            "grid_auto_rows": null,
            "grid_gap": null,
            "max_width": null,
            "order": null,
            "_view_module_version": "1.2.0",
            "grid_template_areas": null,
            "object_position": null,
            "object_fit": null,
            "grid_auto_columns": null,
            "margin": null,
            "display": null,
            "left": null
          }
        },
        "de24c397e35f4aba849fd8b4f93dfcb2": {
          "model_module": "@jupyter-widgets/controls",
          "model_name": "ProgressStyleModel",
          "model_module_version": "1.5.0",
          "state": {
            "_view_name": "StyleView",
            "_model_name": "ProgressStyleModel",
            "description_width": "",
            "_view_module": "@jupyter-widgets/base",
            "_model_module_version": "1.5.0",
            "_view_count": null,
            "_view_module_version": "1.2.0",
            "bar_color": null,
            "_model_module": "@jupyter-widgets/controls"
          }
        },
        "575ca401dec148e6bac587f9c670feab": {
          "model_module": "@jupyter-widgets/base",
          "model_name": "LayoutModel",
          "model_module_version": "1.2.0",
          "state": {
            "_view_name": "LayoutView",
            "grid_template_rows": null,
            "right": null,
            "justify_content": null,
            "_view_module": "@jupyter-widgets/base",
            "overflow": null,
            "_model_module_version": "1.2.0",
            "_view_count": null,
            "flex_flow": null,
            "width": null,
            "min_width": null,
            "border": null,
            "align_items": null,
            "bottom": null,
            "_model_module": "@jupyter-widgets/base",
            "top": null,
            "grid_column": null,
            "overflow_y": null,
            "overflow_x": null,
            "grid_auto_flow": null,
            "grid_area": null,
            "grid_template_columns": null,
            "flex": null,
            "_model_name": "LayoutModel",
            "justify_items": null,
            "grid_row": null,
            "max_height": null,
            "align_content": null,
            "visibility": null,
            "align_self": null,
            "height": null,
            "min_height": null,
            "padding": null,
            "grid_auto_rows": null,
            "grid_gap": null,
            "max_width": null,
            "order": null,
            "_view_module_version": "1.2.0",
            "grid_template_areas": null,
            "object_position": null,
            "object_fit": null,
            "grid_auto_columns": null,
            "margin": null,
            "display": null,
            "left": null
          }
        },
        "fccd6bab66254545947a2c566285a1fd": {
          "model_module": "@jupyter-widgets/controls",
          "model_name": "DescriptionStyleModel",
          "model_module_version": "1.5.0",
          "state": {
            "_view_name": "StyleView",
            "_model_name": "DescriptionStyleModel",
            "description_width": "",
            "_view_module": "@jupyter-widgets/base",
            "_model_module_version": "1.5.0",
            "_view_count": null,
            "_view_module_version": "1.2.0",
            "_model_module": "@jupyter-widgets/controls"
          }
        },
        "79c4b532794e4f9fa4173c46add061f2": {
          "model_module": "@jupyter-widgets/base",
          "model_name": "LayoutModel",
          "model_module_version": "1.2.0",
          "state": {
            "_view_name": "LayoutView",
            "grid_template_rows": null,
            "right": null,
            "justify_content": null,
            "_view_module": "@jupyter-widgets/base",
            "overflow": null,
            "_model_module_version": "1.2.0",
            "_view_count": null,
            "flex_flow": null,
            "width": null,
            "min_width": null,
            "border": null,
            "align_items": null,
            "bottom": null,
            "_model_module": "@jupyter-widgets/base",
            "top": null,
            "grid_column": null,
            "overflow_y": null,
            "overflow_x": null,
            "grid_auto_flow": null,
            "grid_area": null,
            "grid_template_columns": null,
            "flex": null,
            "_model_name": "LayoutModel",
            "justify_items": null,
            "grid_row": null,
            "max_height": null,
            "align_content": null,
            "visibility": null,
            "align_self": null,
            "height": null,
            "min_height": null,
            "padding": null,
            "grid_auto_rows": null,
            "grid_gap": null,
            "max_width": null,
            "order": null,
            "_view_module_version": "1.2.0",
            "grid_template_areas": null,
            "object_position": null,
            "object_fit": null,
            "grid_auto_columns": null,
            "margin": null,
            "display": null,
            "left": null
          }
        },
        "283653377d4241a2a6c9aa02bc709403": {
          "model_module": "@jupyter-widgets/controls",
          "model_name": "HBoxModel",
          "model_module_version": "1.5.0",
          "state": {
            "_view_name": "HBoxView",
            "_dom_classes": [],
            "_model_name": "HBoxModel",
            "_view_module": "@jupyter-widgets/controls",
            "_model_module_version": "1.5.0",
            "_view_count": null,
            "_view_module_version": "1.5.0",
            "box_style": "",
            "layout": "IPY_MODEL_75179f64a1c84f80b9e30f1527f6fdb8",
            "_model_module": "@jupyter-widgets/controls",
            "children": [
              "IPY_MODEL_13682502ecff4626aae0fa2900c5c269",
              "IPY_MODEL_d4453ab1b3e34a9499655d9d67337d70",
              "IPY_MODEL_8f43f226e9ab443a9b6d30102b31c8bf"
            ]
          }
        },
        "75179f64a1c84f80b9e30f1527f6fdb8": {
          "model_module": "@jupyter-widgets/base",
          "model_name": "LayoutModel",
          "model_module_version": "1.2.0",
          "state": {
            "_view_name": "LayoutView",
            "grid_template_rows": null,
            "right": null,
            "justify_content": null,
            "_view_module": "@jupyter-widgets/base",
            "overflow": null,
            "_model_module_version": "1.2.0",
            "_view_count": null,
            "flex_flow": null,
            "width": null,
            "min_width": null,
            "border": null,
            "align_items": null,
            "bottom": null,
            "_model_module": "@jupyter-widgets/base",
            "top": null,
            "grid_column": null,
            "overflow_y": null,
            "overflow_x": null,
            "grid_auto_flow": null,
            "grid_area": null,
            "grid_template_columns": null,
            "flex": null,
            "_model_name": "LayoutModel",
            "justify_items": null,
            "grid_row": null,
            "max_height": null,
            "align_content": null,
            "visibility": null,
            "align_self": null,
            "height": null,
            "min_height": null,
            "padding": null,
            "grid_auto_rows": null,
            "grid_gap": null,
            "max_width": null,
            "order": null,
            "_view_module_version": "1.2.0",
            "grid_template_areas": null,
            "object_position": null,
            "object_fit": null,
            "grid_auto_columns": null,
            "margin": null,
            "display": null,
            "left": null
          }
        },
        "13682502ecff4626aae0fa2900c5c269": {
          "model_module": "@jupyter-widgets/controls",
          "model_name": "HTMLModel",
          "model_module_version": "1.5.0",
          "state": {
            "_view_name": "HTMLView",
            "style": "IPY_MODEL_a6caadb15c224d06b79c2b037cb5965d",
            "_dom_classes": [],
            "description": "",
            "_model_name": "HTMLModel",
            "placeholder": "​",
            "_view_module": "@jupyter-widgets/controls",
            "_model_module_version": "1.5.0",
            "value": "Downloading: 100%",
            "_view_count": null,
            "_view_module_version": "1.5.0",
            "description_tooltip": null,
            "_model_module": "@jupyter-widgets/controls",
            "layout": "IPY_MODEL_35d008b1b4e34de2b3df846fde23be44"
          }
        },
        "d4453ab1b3e34a9499655d9d67337d70": {
          "model_module": "@jupyter-widgets/controls",
          "model_name": "FloatProgressModel",
          "model_module_version": "1.5.0",
          "state": {
            "_view_name": "ProgressView",
            "style": "IPY_MODEL_3d874bc2ff2d42b0bbeab38c433535e1",
            "_dom_classes": [],
            "description": "",
            "_model_name": "FloatProgressModel",
            "bar_style": "success",
            "max": 433,
            "_view_module": "@jupyter-widgets/controls",
            "_model_module_version": "1.5.0",
            "value": 433,
            "_view_count": null,
            "_view_module_version": "1.5.0",
            "orientation": "horizontal",
            "min": 0,
            "description_tooltip": null,
            "_model_module": "@jupyter-widgets/controls",
            "layout": "IPY_MODEL_cea99a94d09a4c64b82981d538f47393"
          }
        },
        "8f43f226e9ab443a9b6d30102b31c8bf": {
          "model_module": "@jupyter-widgets/controls",
          "model_name": "HTMLModel",
          "model_module_version": "1.5.0",
          "state": {
            "_view_name": "HTMLView",
            "style": "IPY_MODEL_8f969b8a0bef4487a4d57d3b1a7982f4",
            "_dom_classes": [],
            "description": "",
            "_model_name": "HTMLModel",
            "placeholder": "​",
            "_view_module": "@jupyter-widgets/controls",
            "_model_module_version": "1.5.0",
            "value": " 433/433 [00:00&lt;00:00, 10.7kB/s]",
            "_view_count": null,
            "_view_module_version": "1.5.0",
            "description_tooltip": null,
            "_model_module": "@jupyter-widgets/controls",
            "layout": "IPY_MODEL_04fafc107d7e4d16b53869b730c64e95"
          }
        },
        "a6caadb15c224d06b79c2b037cb5965d": {
          "model_module": "@jupyter-widgets/controls",
          "model_name": "DescriptionStyleModel",
          "model_module_version": "1.5.0",
          "state": {
            "_view_name": "StyleView",
            "_model_name": "DescriptionStyleModel",
            "description_width": "",
            "_view_module": "@jupyter-widgets/base",
            "_model_module_version": "1.5.0",
            "_view_count": null,
            "_view_module_version": "1.2.0",
            "_model_module": "@jupyter-widgets/controls"
          }
        },
        "35d008b1b4e34de2b3df846fde23be44": {
          "model_module": "@jupyter-widgets/base",
          "model_name": "LayoutModel",
          "model_module_version": "1.2.0",
          "state": {
            "_view_name": "LayoutView",
            "grid_template_rows": null,
            "right": null,
            "justify_content": null,
            "_view_module": "@jupyter-widgets/base",
            "overflow": null,
            "_model_module_version": "1.2.0",
            "_view_count": null,
            "flex_flow": null,
            "width": null,
            "min_width": null,
            "border": null,
            "align_items": null,
            "bottom": null,
            "_model_module": "@jupyter-widgets/base",
            "top": null,
            "grid_column": null,
            "overflow_y": null,
            "overflow_x": null,
            "grid_auto_flow": null,
            "grid_area": null,
            "grid_template_columns": null,
            "flex": null,
            "_model_name": "LayoutModel",
            "justify_items": null,
            "grid_row": null,
            "max_height": null,
            "align_content": null,
            "visibility": null,
            "align_self": null,
            "height": null,
            "min_height": null,
            "padding": null,
            "grid_auto_rows": null,
            "grid_gap": null,
            "max_width": null,
            "order": null,
            "_view_module_version": "1.2.0",
            "grid_template_areas": null,
            "object_position": null,
            "object_fit": null,
            "grid_auto_columns": null,
            "margin": null,
            "display": null,
            "left": null
          }
        },
        "3d874bc2ff2d42b0bbeab38c433535e1": {
          "model_module": "@jupyter-widgets/controls",
          "model_name": "ProgressStyleModel",
          "model_module_version": "1.5.0",
          "state": {
            "_view_name": "StyleView",
            "_model_name": "ProgressStyleModel",
            "description_width": "",
            "_view_module": "@jupyter-widgets/base",
            "_model_module_version": "1.5.0",
            "_view_count": null,
            "_view_module_version": "1.2.0",
            "bar_color": null,
            "_model_module": "@jupyter-widgets/controls"
          }
        },
        "cea99a94d09a4c64b82981d538f47393": {
          "model_module": "@jupyter-widgets/base",
          "model_name": "LayoutModel",
          "model_module_version": "1.2.0",
          "state": {
            "_view_name": "LayoutView",
            "grid_template_rows": null,
            "right": null,
            "justify_content": null,
            "_view_module": "@jupyter-widgets/base",
            "overflow": null,
            "_model_module_version": "1.2.0",
            "_view_count": null,
            "flex_flow": null,
            "width": null,
            "min_width": null,
            "border": null,
            "align_items": null,
            "bottom": null,
            "_model_module": "@jupyter-widgets/base",
            "top": null,
            "grid_column": null,
            "overflow_y": null,
            "overflow_x": null,
            "grid_auto_flow": null,
            "grid_area": null,
            "grid_template_columns": null,
            "flex": null,
            "_model_name": "LayoutModel",
            "justify_items": null,
            "grid_row": null,
            "max_height": null,
            "align_content": null,
            "visibility": null,
            "align_self": null,
            "height": null,
            "min_height": null,
            "padding": null,
            "grid_auto_rows": null,
            "grid_gap": null,
            "max_width": null,
            "order": null,
            "_view_module_version": "1.2.0",
            "grid_template_areas": null,
            "object_position": null,
            "object_fit": null,
            "grid_auto_columns": null,
            "margin": null,
            "display": null,
            "left": null
          }
        },
        "8f969b8a0bef4487a4d57d3b1a7982f4": {
          "model_module": "@jupyter-widgets/controls",
          "model_name": "DescriptionStyleModel",
          "model_module_version": "1.5.0",
          "state": {
            "_view_name": "StyleView",
            "_model_name": "DescriptionStyleModel",
            "description_width": "",
            "_view_module": "@jupyter-widgets/base",
            "_model_module_version": "1.5.0",
            "_view_count": null,
            "_view_module_version": "1.2.0",
            "_model_module": "@jupyter-widgets/controls"
          }
        },
        "04fafc107d7e4d16b53869b730c64e95": {
          "model_module": "@jupyter-widgets/base",
          "model_name": "LayoutModel",
          "model_module_version": "1.2.0",
          "state": {
            "_view_name": "LayoutView",
            "grid_template_rows": null,
            "right": null,
            "justify_content": null,
            "_view_module": "@jupyter-widgets/base",
            "overflow": null,
            "_model_module_version": "1.2.0",
            "_view_count": null,
            "flex_flow": null,
            "width": null,
            "min_width": null,
            "border": null,
            "align_items": null,
            "bottom": null,
            "_model_module": "@jupyter-widgets/base",
            "top": null,
            "grid_column": null,
            "overflow_y": null,
            "overflow_x": null,
            "grid_auto_flow": null,
            "grid_area": null,
            "grid_template_columns": null,
            "flex": null,
            "_model_name": "LayoutModel",
            "justify_items": null,
            "grid_row": null,
            "max_height": null,
            "align_content": null,
            "visibility": null,
            "align_self": null,
            "height": null,
            "min_height": null,
            "padding": null,
            "grid_auto_rows": null,
            "grid_gap": null,
            "max_width": null,
            "order": null,
            "_view_module_version": "1.2.0",
            "grid_template_areas": null,
            "object_position": null,
            "object_fit": null,
            "grid_auto_columns": null,
            "margin": null,
            "display": null,
            "left": null
          }
        },
        "4dbf2ac650114b208a92d9ba6aa53da0": {
          "model_module": "@jupyter-widgets/controls",
          "model_name": "HBoxModel",
          "model_module_version": "1.5.0",
          "state": {
            "_view_name": "HBoxView",
            "_dom_classes": [],
            "_model_name": "HBoxModel",
            "_view_module": "@jupyter-widgets/controls",
            "_model_module_version": "1.5.0",
            "_view_count": null,
            "_view_module_version": "1.5.0",
            "box_style": "",
            "layout": "IPY_MODEL_6f939d4ad9fd40dbb42b6c27b6e6bd19",
            "_model_module": "@jupyter-widgets/controls",
            "children": [
              "IPY_MODEL_13ec2f068a2b400188f49db0d32e601f",
              "IPY_MODEL_38d700c84edf4a93b39247f41590cb08",
              "IPY_MODEL_93ffd563c7ae46cfabcfbd35ed65b672"
            ]
          }
        },
        "6f939d4ad9fd40dbb42b6c27b6e6bd19": {
          "model_module": "@jupyter-widgets/base",
          "model_name": "LayoutModel",
          "model_module_version": "1.2.0",
          "state": {
            "_view_name": "LayoutView",
            "grid_template_rows": null,
            "right": null,
            "justify_content": null,
            "_view_module": "@jupyter-widgets/base",
            "overflow": null,
            "_model_module_version": "1.2.0",
            "_view_count": null,
            "flex_flow": null,
            "width": null,
            "min_width": null,
            "border": null,
            "align_items": null,
            "bottom": null,
            "_model_module": "@jupyter-widgets/base",
            "top": null,
            "grid_column": null,
            "overflow_y": null,
            "overflow_x": null,
            "grid_auto_flow": null,
            "grid_area": null,
            "grid_template_columns": null,
            "flex": null,
            "_model_name": "LayoutModel",
            "justify_items": null,
            "grid_row": null,
            "max_height": null,
            "align_content": null,
            "visibility": null,
            "align_self": null,
            "height": null,
            "min_height": null,
            "padding": null,
            "grid_auto_rows": null,
            "grid_gap": null,
            "max_width": null,
            "order": null,
            "_view_module_version": "1.2.0",
            "grid_template_areas": null,
            "object_position": null,
            "object_fit": null,
            "grid_auto_columns": null,
            "margin": null,
            "display": null,
            "left": null
          }
        },
        "13ec2f068a2b400188f49db0d32e601f": {
          "model_module": "@jupyter-widgets/controls",
          "model_name": "HTMLModel",
          "model_module_version": "1.5.0",
          "state": {
            "_view_name": "HTMLView",
            "style": "IPY_MODEL_3a231b0d75274d1c8545324c901b5759",
            "_dom_classes": [],
            "description": "",
            "_model_name": "HTMLModel",
            "placeholder": "​",
            "_view_module": "@jupyter-widgets/controls",
            "_model_module_version": "1.5.0",
            "value": "Downloading: 100%",
            "_view_count": null,
            "_view_module_version": "1.5.0",
            "description_tooltip": null,
            "_model_module": "@jupyter-widgets/controls",
            "layout": "IPY_MODEL_b5922c4970734eb8a85c9c5e4f595d52"
          }
        },
        "38d700c84edf4a93b39247f41590cb08": {
          "model_module": "@jupyter-widgets/controls",
          "model_name": "FloatProgressModel",
          "model_module_version": "1.5.0",
          "state": {
            "_view_name": "ProgressView",
            "style": "IPY_MODEL_3250ff39e45347a2b27d07b98718a492",
            "_dom_classes": [],
            "description": "",
            "_model_name": "FloatProgressModel",
            "bar_style": "success",
            "max": 235127,
            "_view_module": "@jupyter-widgets/controls",
            "_model_module_version": "1.5.0",
            "value": 235127,
            "_view_count": null,
            "_view_module_version": "1.5.0",
            "orientation": "horizontal",
            "min": 0,
            "description_tooltip": null,
            "_model_module": "@jupyter-widgets/controls",
            "layout": "IPY_MODEL_3916719517d5486cac391cc8a568723b"
          }
        },
        "93ffd563c7ae46cfabcfbd35ed65b672": {
          "model_module": "@jupyter-widgets/controls",
          "model_name": "HTMLModel",
          "model_module_version": "1.5.0",
          "state": {
            "_view_name": "HTMLView",
            "style": "IPY_MODEL_000db48ce50f4f38a4dcbb52a4ec61ff",
            "_dom_classes": [],
            "description": "",
            "_model_name": "HTMLModel",
            "placeholder": "​",
            "_view_module": "@jupyter-widgets/controls",
            "_model_module_version": "1.5.0",
            "value": " 230k/230k [00:00&lt;00:00, 723kB/s]",
            "_view_count": null,
            "_view_module_version": "1.5.0",
            "description_tooltip": null,
            "_model_module": "@jupyter-widgets/controls",
            "layout": "IPY_MODEL_c25c1148fdac4fdab92cdd3e26ed12a0"
          }
        },
        "3a231b0d75274d1c8545324c901b5759": {
          "model_module": "@jupyter-widgets/controls",
          "model_name": "DescriptionStyleModel",
          "model_module_version": "1.5.0",
          "state": {
            "_view_name": "StyleView",
            "_model_name": "DescriptionStyleModel",
            "description_width": "",
            "_view_module": "@jupyter-widgets/base",
            "_model_module_version": "1.5.0",
            "_view_count": null,
            "_view_module_version": "1.2.0",
            "_model_module": "@jupyter-widgets/controls"
          }
        },
        "b5922c4970734eb8a85c9c5e4f595d52": {
          "model_module": "@jupyter-widgets/base",
          "model_name": "LayoutModel",
          "model_module_version": "1.2.0",
          "state": {
            "_view_name": "LayoutView",
            "grid_template_rows": null,
            "right": null,
            "justify_content": null,
            "_view_module": "@jupyter-widgets/base",
            "overflow": null,
            "_model_module_version": "1.2.0",
            "_view_count": null,
            "flex_flow": null,
            "width": null,
            "min_width": null,
            "border": null,
            "align_items": null,
            "bottom": null,
            "_model_module": "@jupyter-widgets/base",
            "top": null,
            "grid_column": null,
            "overflow_y": null,
            "overflow_x": null,
            "grid_auto_flow": null,
            "grid_area": null,
            "grid_template_columns": null,
            "flex": null,
            "_model_name": "LayoutModel",
            "justify_items": null,
            "grid_row": null,
            "max_height": null,
            "align_content": null,
            "visibility": null,
            "align_self": null,
            "height": null,
            "min_height": null,
            "padding": null,
            "grid_auto_rows": null,
            "grid_gap": null,
            "max_width": null,
            "order": null,
            "_view_module_version": "1.2.0",
            "grid_template_areas": null,
            "object_position": null,
            "object_fit": null,
            "grid_auto_columns": null,
            "margin": null,
            "display": null,
            "left": null
          }
        },
        "3250ff39e45347a2b27d07b98718a492": {
          "model_module": "@jupyter-widgets/controls",
          "model_name": "ProgressStyleModel",
          "model_module_version": "1.5.0",
          "state": {
            "_view_name": "StyleView",
            "_model_name": "ProgressStyleModel",
            "description_width": "",
            "_view_module": "@jupyter-widgets/base",
            "_model_module_version": "1.5.0",
            "_view_count": null,
            "_view_module_version": "1.2.0",
            "bar_color": null,
            "_model_module": "@jupyter-widgets/controls"
          }
        },
        "3916719517d5486cac391cc8a568723b": {
          "model_module": "@jupyter-widgets/base",
          "model_name": "LayoutModel",
          "model_module_version": "1.2.0",
          "state": {
            "_view_name": "LayoutView",
            "grid_template_rows": null,
            "right": null,
            "justify_content": null,
            "_view_module": "@jupyter-widgets/base",
            "overflow": null,
            "_model_module_version": "1.2.0",
            "_view_count": null,
            "flex_flow": null,
            "width": null,
            "min_width": null,
            "border": null,
            "align_items": null,
            "bottom": null,
            "_model_module": "@jupyter-widgets/base",
            "top": null,
            "grid_column": null,
            "overflow_y": null,
            "overflow_x": null,
            "grid_auto_flow": null,
            "grid_area": null,
            "grid_template_columns": null,
            "flex": null,
            "_model_name": "LayoutModel",
            "justify_items": null,
            "grid_row": null,
            "max_height": null,
            "align_content": null,
            "visibility": null,
            "align_self": null,
            "height": null,
            "min_height": null,
            "padding": null,
            "grid_auto_rows": null,
            "grid_gap": null,
            "max_width": null,
            "order": null,
            "_view_module_version": "1.2.0",
            "grid_template_areas": null,
            "object_position": null,
            "object_fit": null,
            "grid_auto_columns": null,
            "margin": null,
            "display": null,
            "left": null
          }
        },
        "000db48ce50f4f38a4dcbb52a4ec61ff": {
          "model_module": "@jupyter-widgets/controls",
          "model_name": "DescriptionStyleModel",
          "model_module_version": "1.5.0",
          "state": {
            "_view_name": "StyleView",
            "_model_name": "DescriptionStyleModel",
            "description_width": "",
            "_view_module": "@jupyter-widgets/base",
            "_model_module_version": "1.5.0",
            "_view_count": null,
            "_view_module_version": "1.2.0",
            "_model_module": "@jupyter-widgets/controls"
          }
        },
        "c25c1148fdac4fdab92cdd3e26ed12a0": {
          "model_module": "@jupyter-widgets/base",
          "model_name": "LayoutModel",
          "model_module_version": "1.2.0",
          "state": {
            "_view_name": "LayoutView",
            "grid_template_rows": null,
            "right": null,
            "justify_content": null,
            "_view_module": "@jupyter-widgets/base",
            "overflow": null,
            "_model_module_version": "1.2.0",
            "_view_count": null,
            "flex_flow": null,
            "width": null,
            "min_width": null,
            "border": null,
            "align_items": null,
            "bottom": null,
            "_model_module": "@jupyter-widgets/base",
            "top": null,
            "grid_column": null,
            "overflow_y": null,
            "overflow_x": null,
            "grid_auto_flow": null,
            "grid_area": null,
            "grid_template_columns": null,
            "flex": null,
            "_model_name": "LayoutModel",
            "justify_items": null,
            "grid_row": null,
            "max_height": null,
            "align_content": null,
            "visibility": null,
            "align_self": null,
            "height": null,
            "min_height": null,
            "padding": null,
            "grid_auto_rows": null,
            "grid_gap": null,
            "max_width": null,
            "order": null,
            "_view_module_version": "1.2.0",
            "grid_template_areas": null,
            "object_position": null,
            "object_fit": null,
            "grid_auto_columns": null,
            "margin": null,
            "display": null,
            "left": null
          }
        }
      }
    }
  },
  "cells": [
    {
      "cell_type": "code",
      "metadata": {
        "id": "61AAaBGJRKnl"
      },
      "source": [
        "!git clone https://github.com/gerzin/IronySarcasmDetectorIT.git\n",
        "!cd /content/IronySarcasmDetectorIT\n",
        "!git pull\n",
        "!cd .."
      ],
      "execution_count": null,
      "outputs": []
    },
    {
      "cell_type": "code",
      "metadata": {
        "id": "4BkNRgIDXv9t"
      },
      "source": [
        "import sys\n",
        "sys.path.append('/content/IronySarcasmDetectorIT')"
      ],
      "execution_count": 2,
      "outputs": []
    },
    {
      "cell_type": "code",
      "metadata": {
        "id": "tQUUFi4aYZ1X",
        "colab": {
          "base_uri": "https://localhost:8080/"
        },
        "outputId": "6fbdcd1b-c239-4240-f87e-b9f4fa912f41"
      },
      "source": [
        "import numpy as np\n",
        "import pandas as pd\n",
        "import tensorflow as tf\n",
        "tf.get_logger().setLevel('ERROR')\n",
        "device_name = tf.test.gpu_device_name()\n",
        "print(device_name)"
      ],
      "execution_count": 3,
      "outputs": [
        {
          "output_type": "stream",
          "name": "stdout",
          "text": [
            "/device:GPU:0\n"
          ]
        }
      ]
    },
    {
      "cell_type": "code",
      "metadata": {
        "id": "GoiySbE2WBHt"
      },
      "source": [
        "import tensorflow.keras as keras"
      ],
      "execution_count": null,
      "outputs": []
    },
    {
      "cell_type": "markdown",
      "metadata": {
        "id": "K18APbUaYDP1"
      },
      "source": [
        "LOADING AND PREPROCESSING THE DATA WITH THE PREPROCESSING PIPELINE WE MADE"
      ]
    },
    {
      "cell_type": "code",
      "metadata": {
        "id": "TyXICe8vZGfl"
      },
      "source": [
        "%%capture\n",
        "!pip install emoji\n",
        "!pip install transformers"
      ],
      "execution_count": 4,
      "outputs": []
    },
    {
      "cell_type": "code",
      "metadata": {
        "id": "py0966NrYFcS"
      },
      "source": [
        "from preprocessing.pipeline import ItalianTweetsPreprocessingPipeline\n",
        "pre_pipeline = ItalianTweetsPreprocessingPipeline(to_lowercase=False)\n",
        "df = pd.read_csv(\"/content/IronySarcasmDetectorIT/datasets/training_ironita2018.csv\")\n",
        "#pre-processing the data\n",
        "df = pre_pipeline.apply(df)"
      ],
      "execution_count": 5,
      "outputs": []
    },
    {
      "cell_type": "markdown",
      "metadata": {
        "id": "W9X5azzWaxZf"
      },
      "source": [
        "SPLITTING THE DATASET INTO TEST, TRAIN AND VALIDATION SETS"
      ]
    },
    {
      "cell_type": "code",
      "metadata": {
        "id": "5EUvNoK-Zj9d"
      },
      "source": [
        "from models.utils.model_selection import train_test_validation_split\n",
        "train_set, test_set, validation_set = train_test_validation_split(df)\n",
        "(X_train, y_train), (X_test, y_test), (X_val, y_val) = train_set, test_set, validation_set"
      ],
      "execution_count": 7,
      "outputs": []
    },
    {
      "cell_type": "code",
      "metadata": {
        "id": "lmEijAJjZCRO"
      },
      "source": [
        "from pathlib import Path\n",
        "class ModelsConfig:\n",
        "    SEQUENCE_LENGTH = 50\n",
        "    BERT_ITA_XXL_CASED = \"dbmdz/bert-base-italian-xxl-cased\"\n",
        "    BERT_TOKENIZER_LENGTH = 20\n",
        "    BERT_MODEL_NAME = \"bertlstm.h5\""
      ],
      "execution_count": 8,
      "outputs": []
    },
    {
      "cell_type": "code",
      "metadata": {
        "id": "-PUh_9zWYTor"
      },
      "source": [
        "from transformers import TFBertModel, AutoTokenizer, BertConfig\n",
        "import numpy as np\n",
        "import tensorflow as tf\n",
        "\n",
        "def save_and_download_model(model, name):\n",
        "  \"\"\"utility function to download the weights from colab.\"\"\"\n",
        "  model.save(f\"/content/{name}\", save_format='tf')\n",
        "  !zip -r f\"/content/{name}.zip\" f\"/content/{name}\"\n",
        "  files.download(f\"/content/{name}.zip\")\n",
        "\n",
        "def get_bert_tokenizer(model_url=ModelsConfig.BERT_ITA_XXL_CASED, tok_len=ModelsConfig.BERT_TOKENIZER_LENGTH):\n",
        "    tokenizer = AutoTokenizer.from_pretrained(model_url, add_special_tokens=True, max_length=tok_len,\n",
        "                                              pad_to_max_length=True)\n",
        "\n",
        "    return tokenizer\n",
        "\n",
        "def tokenize(sentences, tokenizer):\n",
        "    input_ids, input_masks, input_segments = [], [], []\n",
        "    for sentence in sentences:\n",
        "        inputs = tokenizer.encode_plus(sentence, add_special_tokens=True, max_length=128, pad_to_max_length=True,\n",
        "                                       return_attention_mask=True, return_token_type_ids=True, truncation=True)\n",
        "        input_ids.append(inputs['input_ids'])\n",
        "        input_masks.append(inputs['attention_mask'])\n",
        "        input_segments.append(inputs['token_type_ids'])\n",
        "\n",
        "    return np.asarray(input_ids, dtype='int32'), np.asarray(input_masks, dtype='int32'), np.asarray(input_segments,\n",
        "                                                                                                    dtype='int32')\n"
      ],
      "execution_count": 9,
      "outputs": []
    },
    {
      "cell_type": "markdown",
      "metadata": {
        "id": "iyBaFWwqR1oq"
      },
      "source": [
        "TOKENIZING THE SEQUENCES"
      ]
    },
    {
      "cell_type": "code",
      "metadata": {
        "id": "LYFHoqd7ql-y",
        "colab": {
          "base_uri": "https://localhost:8080/",
          "height": 167,
          "referenced_widgets": [
            "9c1e1e1df12a4e81af523a225356fba1",
            "95277a6813004e368b38c7c2a60df126",
            "c10340c0430c49ad96494125653b4d90",
            "f1b7b2b5bcab472191be758452394d52",
            "8c585c33001d45fdb1d88fda3ceb9fc1",
            "0edfda7b68244345b4afa0745b7fcd4a",
            "dbb37e02ade14fdab109f87db68d48ef",
            "de24c397e35f4aba849fd8b4f93dfcb2",
            "575ca401dec148e6bac587f9c670feab",
            "fccd6bab66254545947a2c566285a1fd",
            "79c4b532794e4f9fa4173c46add061f2",
            "283653377d4241a2a6c9aa02bc709403",
            "75179f64a1c84f80b9e30f1527f6fdb8",
            "13682502ecff4626aae0fa2900c5c269",
            "d4453ab1b3e34a9499655d9d67337d70",
            "8f43f226e9ab443a9b6d30102b31c8bf",
            "a6caadb15c224d06b79c2b037cb5965d",
            "35d008b1b4e34de2b3df846fde23be44",
            "3d874bc2ff2d42b0bbeab38c433535e1",
            "cea99a94d09a4c64b82981d538f47393",
            "8f969b8a0bef4487a4d57d3b1a7982f4",
            "04fafc107d7e4d16b53869b730c64e95",
            "4dbf2ac650114b208a92d9ba6aa53da0",
            "6f939d4ad9fd40dbb42b6c27b6e6bd19",
            "13ec2f068a2b400188f49db0d32e601f",
            "38d700c84edf4a93b39247f41590cb08",
            "93ffd563c7ae46cfabcfbd35ed65b672",
            "3a231b0d75274d1c8545324c901b5759",
            "b5922c4970734eb8a85c9c5e4f595d52",
            "3250ff39e45347a2b27d07b98718a492",
            "3916719517d5486cac391cc8a568723b",
            "000db48ce50f4f38a4dcbb52a4ec61ff",
            "c25c1148fdac4fdab92cdd3e26ed12a0"
          ]
        },
        "outputId": "ca0977c1-b8c6-49a5-cc25-15217c68f234"
      },
      "source": [
        "tokenizer = get_bert_tokenizer()\n",
        "# we only need the token ids and the attention mask\n",
        "X_train_tok = tokenize(X_train, tokenizer)[:-1]\n",
        "X_val_tok = tokenize(X_val, tokenizer)[:-1]\n",
        "X_test_tok = tokenize(X_test, tokenizer)[:-1]"
      ],
      "execution_count": 10,
      "outputs": [
        {
          "output_type": "display_data",
          "data": {
            "application/vnd.jupyter.widget-view+json": {
              "model_id": "9c1e1e1df12a4e81af523a225356fba1",
              "version_minor": 0,
              "version_major": 2
            },
            "text/plain": [
              "Downloading:   0%|          | 0.00/59.0 [00:00<?, ?B/s]"
            ]
          },
          "metadata": {}
        },
        {
          "output_type": "display_data",
          "data": {
            "application/vnd.jupyter.widget-view+json": {
              "model_id": "283653377d4241a2a6c9aa02bc709403",
              "version_minor": 0,
              "version_major": 2
            },
            "text/plain": [
              "Downloading:   0%|          | 0.00/433 [00:00<?, ?B/s]"
            ]
          },
          "metadata": {}
        },
        {
          "output_type": "display_data",
          "data": {
            "application/vnd.jupyter.widget-view+json": {
              "model_id": "4dbf2ac650114b208a92d9ba6aa53da0",
              "version_minor": 0,
              "version_major": 2
            },
            "text/plain": [
              "Downloading:   0%|          | 0.00/230k [00:00<?, ?B/s]"
            ]
          },
          "metadata": {}
        },
        {
          "output_type": "stream",
          "name": "stderr",
          "text": [
            "/usr/local/lib/python3.7/dist-packages/transformers/tokenization_utils_base.py:2217: FutureWarning: The `pad_to_max_length` argument is deprecated and will be removed in a future version, use `padding=True` or `padding='longest'` to pad to the longest sequence in the batch, or use `padding='max_length'` to pad to a max length. In this case, you can give a specific length with `max_length` (e.g. `max_length=45`) or leave max_length to None to pad to the maximal input size of the model (e.g. 512 for Bert).\n",
            "  FutureWarning,\n"
          ]
        }
      ]
    },
    {
      "cell_type": "markdown",
      "metadata": {
        "id": "VqK4kqGoU4gL"
      },
      "source": [
        "MODEL DEFINITION AND GRID SEARCH"
      ]
    },
    {
      "cell_type": "code",
      "metadata": {
        "id": "iDYdlJ_SU5iC"
      },
      "source": [
        "import itertools\n",
        "\n",
        "lstm_units = [8,16,32,64]\n",
        "lstm_dense = [8,16,32,64]\n",
        "lstm_dropouts = [0.25,0.45]\n",
        "epochs = [5]\n",
        "\n",
        "combinations = list(itertools.product(*[lstm_units, lstm_dense, lstm_dropouts, epochs]))\n",
        "print(f\"tot. combinations = {len(combinations)}\")\n",
        "\n",
        "def get_bert_lstm_classifier(params = [16, 32, 0.45, 5]):\n",
        "    \"\"\"\n",
        "    Return the BERT LSTM model.\n",
        "    params:\n",
        "      params - list containing [#lstm outputspace dimensionality, #dense layer units, dropout, # epochs]\n",
        "    \"\"\"\n",
        "    model_url=ModelsConfig.BERT_ITA_XXL_CASED\n",
        "    bert_config = BertConfig.from_pretrained(ModelsConfig.BERT_ITA_XXL_CASED, output_hidden_states=True)\n",
        "    with tf.device(device_name):\n",
        "      bert = TFBertModel.from_pretrained(model_url, config=bert_config)\n",
        "\n",
        "      input_ids_in = tf.keras.layers.Input(shape=(128,), name='input_token', dtype='int32')\n",
        "      input_masks_in = tf.keras.layers.Input(shape=(128,), name='masked_token', dtype='int32')\n",
        "\n",
        "      embedding_layer = bert(input_ids_in, attention_mask=input_masks_in)[0]\n",
        "\n",
        "      X = tf.keras.layers.Bidirectional(\n",
        "          tf.keras.layers.LSTM(params[0], return_sequences=True, dropout=0.1, recurrent_dropout=0.1))(embedding_layer)\n",
        "      X = tf.keras.layers.Concatenate(axis=-1)([X, embedding_layer])\n",
        "\n",
        "      X = tf.keras.layers.MaxPooling1D(20)(X)\n",
        "      X = tf.keras.layers.SpatialDropout1D(0.4)(X)\n",
        "      X = tf.keras.layers.Flatten()(X)\n",
        "      X = tf.keras.layers.Dense(params[1], activation=\"relu\")(X)\n",
        "\n",
        "      X = tf.keras.layers.Dropout(params[2])(X)\n",
        "      X = tf.keras.layers.Dense(2, activation='softmax')(X)\n",
        "\n",
        "      model = tf.keras.Model(inputs=[input_ids_in, input_masks_in], outputs=X)\n",
        "\n",
        "      for layer in model.layers[:3]:\n",
        "          layer.trainable = False\n",
        "      opt = tf.keras.optimizers.Adam(learning_rate= 2e-5, epsilon= 1e-3)\n",
        "      model.compile(optimizer= opt, loss='categorical_crossentropy', metrics=['acc'])\n",
        "      return model\n",
        "\n",
        "validation_performance = []\n",
        "index = 0\n",
        "for combination in combinations[index:]:\n",
        "  print(index)\n",
        "  model = get_bert_lstm_classifier(params = combination)\n",
        "\n",
        "  model.fit(x =X_train_tok, y = y_train, epochs=combination[3])\n",
        "  result = model.evaluate(x = X_val_tok, y = y_val)\n",
        "  performance = [combination, dict(zip(model.metrics_names, result))] \n",
        "  print(performance)\n",
        "  validation_performance.append(performance)\n",
        "  index +=1"
      ],
      "execution_count": null,
      "outputs": []
    },
    {
      "cell_type": "code",
      "metadata": {
        "id": "_oufSpay2v_z"
      },
      "source": [
        ""
      ],
      "execution_count": null,
      "outputs": []
    },
    {
      "cell_type": "markdown",
      "metadata": {
        "id": "gcF-shye2wgr"
      },
      "source": [
        "RESULTS OF THE GRID SEARCH"
      ]
    },
    {
      "cell_type": "code",
      "metadata": {
        "id": "PNhcIRqQXzAV"
      },
      "source": [
        "metric = 'acc'\n",
        "values = []\n",
        "validation_performance = [\n",
        "  [(8, 8, 0.25, 5), {'loss': 0.5023014545440674, 'acc': 0.9949748516082764}],\n",
        "  [(8, 8, 0.45, 5), {'loss': 0.6422484517097473, 'acc': 1.0}],\n",
        "  [(8, 16, 0.25, 5), {'loss': 0.5010782480239868, 'acc': 0.9698492288589478}],\n",
        "  [(8, 16, 0.45, 5), {'loss': 0.5436665415763855, 'acc': 1.0}],\n",
        "  [(8, 32, 0.25, 5), {'loss': 0.5828566551208496, 'acc': 1.0}],\n",
        "  [(8, 32, 0.45, 5), {'loss': 0.6800474524497986, 'acc': 1.0}],\n",
        "  [(8, 64, 0.25, 5), {'loss': 0.5809416770935059, 'acc': 1.0}],\n",
        "  [(8, 64, 0.45, 5), {'loss': 0.8537607789039612, 'acc': 1.0}],\n",
        "  [(16, 8, 0.25, 5), {'loss': 0.5134936571121216, 'acc': 0.69597989320755}],\n",
        "  [(16, 8, 0.45, 5), {'loss': 0.5282988548278809, 'acc': 1.0}],\n",
        "  [(16, 16, 0.25, 5), {'loss': 0.595130205154419, 'acc': 1.0}],\n",
        "  [(16, 16, 0.45, 5), {'loss': 0.5020710825920105, 'acc': 0.9321607947349548}],\n",
        "  [(16, 32, 0.25, 5), {'loss': 0.5691903233528137, 'acc': 1.0}],\n",
        "  [(16, 32, 0.45, 5), {'loss': 0.4975298345088959, 'acc': 0.9748743772506714}],\n",
        "  [(16, 64, 0.25, 5), {'loss': 0.5888412594795227, 'acc': 1.0}],\n",
        "  [(16, 64, 0.45, 5), {'loss': 0.675396740436554, 'acc': 1.0}],\n",
        "  [(32, 8, 0.25, 5), {'loss': 0.5186547040939331, 'acc': 0.8919597864151001}],\n",
        "  [(32, 8, 0.45, 5), {'loss': 0.5218737125396729, 'acc': 1.0}],\n",
        "  [(32, 16, 0.25, 5), {'loss': 0.5134365558624268, 'acc': 0.8366833925247192}],\n",
        "  [(32, 16, 0.45, 5), {'loss': 0.5705238580703735, 'acc': 1.0}],\n",
        "  [(32, 32, 0.25, 5), {'loss': 0.6709557175636292, 'acc': 1.0}],\n",
        "  [(32, 32, 0.45, 5), {'loss': 0.5036795139312744, 'acc': 0.9447236061096191}],\n",
        "  [(32, 64, 0.25, 5), {'loss': 0.929313600063324, 'acc': 1.0}],\n",
        "  [(32, 64, 0.45, 5), {'loss': 0.8172656297683716, 'acc': 1.0}],\n",
        "  [(64, 8, 0.25, 5), {'loss': 0.6308498978614807, 'acc': 1.0}],\n",
        "  [(64, 8, 0.45, 5), {'loss': 0.7422505021095276, 'acc': 1.0}],\n",
        "  [(64, 16, 0.25, 5), {'loss': 0.5153309106826782, 'acc': 1.0}],\n",
        "  [(64, 16, 0.45, 5), {'loss': 0.5317749381065369, 'acc': 1.0}]                \n",
        "]\n",
        "\n",
        "\n",
        "for i in range(len(validation_performance)):\n",
        "  values.append((validation_performance[i][0], validation_performance[i][1][metric]))\n",
        "\n",
        "values.sort(key=lambda tup: tup[1], reverse = True)\n",
        "\n",
        "\n",
        "print('Best Hyperparameters')\n",
        "for v in values:\n",
        "  print(v[0], v[1])"
      ],
      "execution_count": null,
      "outputs": []
    },
    {
      "cell_type": "markdown",
      "metadata": {
        "id": "MCZ2GnPJZPOm"
      },
      "source": [
        "TEST CON GOLDEN SET"
      ]
    },
    {
      "cell_type": "code",
      "metadata": {
        "id": "tJ1eG7UMo4aH"
      },
      "source": [
        "from custom_metrics import computePerformanceTaskB_2output"
      ],
      "execution_count": 33,
      "outputs": []
    },
    {
      "cell_type": "code",
      "metadata": {
        "id": "i6DVGBrYYK61"
      },
      "source": [
        "gold_dataset = pd.read_csv(\"/content/IronySarcasmDetectorIT/datasets/test_gold_ironita2018.csv\")\n",
        "gold_dataset = pre_pipeline.apply(gold_dataset)"
      ],
      "execution_count": 34,
      "outputs": []
    },
    {
      "cell_type": "code",
      "metadata": {
        "id": "_zD6GIePYTdV"
      },
      "source": [
        "y_test = gold_dataset[['irony', 'sarcasm']]"
      ],
      "execution_count": 35,
      "outputs": []
    },
    {
      "cell_type": "code",
      "metadata": {
        "id": "2m2V6PMKYUUk"
      },
      "source": [
        "x_test = tokenize(gold_dataset['text'], tokenizer)[:-1]"
      ],
      "execution_count": null,
      "outputs": []
    },
    {
      "cell_type": "code",
      "metadata": {
        "id": "8qWhBPrKYkn9"
      },
      "source": [
        "# F1 di entrambi i task\n",
        "computePerformanceTaskB_2output(model, x_test, y_test, y_test['irony'])"
      ],
      "execution_count": null,
      "outputs": []
    }
  ]
}