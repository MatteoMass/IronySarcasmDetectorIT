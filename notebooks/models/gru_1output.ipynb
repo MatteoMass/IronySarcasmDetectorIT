{
 "cells": [
  {
   "cell_type": "markdown",
   "id": "5ca5f7e2-79b8-458c-a2e5-da04e7cd2c7e",
   "metadata": {},
   "source": [
    "# Grid search target irony"
   ]
  },
  {
   "cell_type": "code",
   "execution_count": 1,
   "id": "e43fecb6-41cd-4639-b7bf-f6b7b87bbe52",
   "metadata": {
    "tags": []
   },
   "outputs": [],
   "source": [
    "import sys\n",
    "sys.path.append(\"../\")\n",
    "\n",
    "import itertools\n",
    "import random\n",
    "import pandas as pd\n",
    "import numpy as np\n",
    "from config import Config\n",
    "import keras\n",
    "\n",
    "\n",
    "VALIDATION_SPLIT = 0.1\n",
    "EMBEDDING_SIZE = 128\n",
    "INPUT_LENGHT = 194"
   ]
  },
  {
   "cell_type": "code",
   "execution_count": 2,
   "id": "1aaf8446-c239-4007-a6fc-b0e188b64c55",
   "metadata": {},
   "outputs": [],
   "source": [
    "from preprocessing.tokenizationBagWords import tokenize_frame\n",
    "from keras.layers import Conv1D, Dropout, Flatten, Dense"
   ]
  },
  {
   "cell_type": "code",
   "execution_count": 3,
   "id": "b9436aaf-71ed-4222-8166-6be88591b19d",
   "metadata": {},
   "outputs": [],
   "source": [
    "hidden_layers = [[(128, True, 0.5), (64, True, 0.2), (16, False, 0.0)],\n",
    " [(128, True, 0.5), (32, False, 0.2)],\n",
    " [(128, True, 0.5), (64, False, 0.2)],  \n",
    " [(128, True, 0.0), (32, False, 0.0)],\n",
    " [(128, False, 0.0)],\n",
    " [(128, False, 0.2)]\n",
    " ]\n",
    "loss = ['binary_crossentropy']\n",
    "epochs = [10]\n",
    "\n",
    "\n",
    "combinations = list(itertools.product(*[hidden_layers, loss, epochs]))\n",
    "combinations\n",
    "\n",
    "validation_performance = []\n",
    "\n",
    "training_data = pd.read_csv(Config.TRAINING_DATASET_PATH)\n",
    "\n",
    "from preprocessing.pipeline import ItalianTweetsPreprocessingPipeline\n",
    "pp = ItalianTweetsPreprocessingPipeline()\n",
    "\n",
    "preprocessed_training_data = pp.apply(training_data)\n",
    "\n",
    "x = preprocessed_training_data['text']\n",
    "y = preprocessed_training_data['irony']\n",
    "\n",
    "x, _ , num_words = tokenize_frame(x)\n",
    "\n",
    "\n",
    "tmp = list(zip(x,y))\n",
    "random.shuffle(tmp)\n",
    "x, y = zip(*tmp)\n",
    "\n",
    "\n",
    "validate_size = int(len(x)*VALIDATION_SPLIT)\n",
    "x_train, x_validate = x[:-validate_size], x[-validate_size:]\n",
    "x_train = np.asarray(x_train)\n",
    "x_validate = np.asarray(x_validate)\n",
    "y_train, y_validate = y[:-validate_size], y[-validate_size:]\n",
    "y_train = np.asarray(y_train)\n",
    "y_validate = np.asarray(y_validate)\n",
    "\n"
   ]
  },
  {
   "cell_type": "code",
   "execution_count": 4,
   "id": "a16bdc6c-abfe-42a4-8282-21035c678a19",
   "metadata": {},
   "outputs": [
    {
     "name": "stdout",
     "output_type": "stream",
     "text": [
      "index: 0 Configurazione: ([(128, True, 0.5), (64, True, 0.2), (16, False, 0.0)], 'binary_crossentropy', 10)\n",
      "13/13 [==============================] - 1s 51ms/step - loss: 0.6712 - accuracy: 0.5718\n",
      "index: 1 Configurazione: ([(128, True, 0.5), (32, False, 0.2)], 'binary_crossentropy', 10)\n",
      "13/13 [==============================] - 1s 39ms/step - loss: 0.6682 - accuracy: 0.5844\n",
      "index: 2 Configurazione: ([(128, True, 0.5), (64, False, 0.2)], 'binary_crossentropy', 10)\n",
      "13/13 [==============================] - 1s 55ms/step - loss: 0.6880 - accuracy: 0.5592\n",
      "index: 3 Configurazione: ([(128, True, 0.0), (32, False, 0.0)], 'binary_crossentropy', 10)\n",
      "13/13 [==============================] - 1s 48ms/step - loss: 0.6757 - accuracy: 0.5466\n",
      "index: 4 Configurazione: ([(128, False, 0.0)], 'binary_crossentropy', 10)\n",
      "13/13 [==============================] - 0s 34ms/step - loss: 0.6713 - accuracy: 0.5919\n",
      "index: 5 Configurazione: ([(128, False, 0.2)], 'binary_crossentropy', 10)\n",
      "13/13 [==============================] - 0s 36ms/step - loss: 0.6705 - accuracy: 0.5793\n"
     ]
    }
   ],
   "source": [
    "\n",
    "results = []\n",
    "index = 0\n",
    "for combination in combinations:\n",
    "    print(\"index: \" + str(index) + \" Configurazione: \" + str(combination))\n",
    "    model = keras.Sequential()\n",
    "    model.add(keras.layers.Embedding(num_words, EMBEDDING_SIZE, input_length=INPUT_LENGHT, mask_zero=True))\n",
    "    for e in combination[0]:\n",
    "        model.add(keras.layers.GRU(e[0], return_sequences=e[1]))\n",
    "        if e[2] != 0.0:\n",
    "            model.add(keras.layers.Dropout(e[2]))\n",
    "    model.add(keras.layers.Dense(1, activation='sigmoid'))\n",
    "    model.compile(loss=combination[1], optimizer='adam', metrics=['accuracy'])\n",
    "    \n",
    "    model.fit(x_train, y_train, epochs=combination[2], verbose=0)\n",
    "    result = model.evaluate(x_validate, y_validate)\n",
    "    results.append([combination, dict(zip(model.metrics_names, result))])\n",
    "    index += 1"
   ]
  },
  {
   "cell_type": "code",
   "execution_count": 5,
   "id": "d4cad242-4b71-4480-b245-b69f3832a355",
   "metadata": {},
   "outputs": [
    {
     "name": "stdout",
     "output_type": "stream",
     "text": [
      "Best Hyperparameter\n",
      "([(128, False, 0.0)], 'binary_crossentropy', 10) 0.5919395685195923\n",
      "([(128, True, 0.5), (32, False, 0.2)], 'binary_crossentropy', 10) 0.5843828916549683\n",
      "([(128, False, 0.2)], 'binary_crossentropy', 10) 0.5793451070785522\n",
      "([(128, True, 0.5), (64, True, 0.2), (16, False, 0.0)], 'binary_crossentropy', 10) 0.5717884302139282\n",
      "([(128, True, 0.5), (64, False, 0.2)], 'binary_crossentropy', 10) 0.5591939687728882\n",
      "([(128, True, 0.0), (32, False, 0.0)], 'binary_crossentropy', 10) 0.5465995073318481\n"
     ]
    }
   ],
   "source": [
    "metric = 'accuracy'\n",
    "values = []\n",
    "\n",
    "\n",
    "for i in range(len(results)):\n",
    "    values.append((results[i][0],results[i][1][metric]))\n",
    "                  \n",
    "values.sort(key=lambda tup: tup[1], reverse = True)\n",
    "\n",
    "print('Best Hyperparameter')\n",
    "for v in values:\n",
    "    print(v[0], v[1])"
   ]
  },
  {
   "cell_type": "markdown",
   "id": "8237256c-0ea1-416c-abc8-0933665bd82b",
   "metadata": {},
   "source": [
    "# Grid search target sarcasm"
   ]
  },
  {
   "cell_type": "code",
   "execution_count": null,
   "id": "caec8a28-4ab1-4bdf-97c9-4f02ea66a425",
   "metadata": {},
   "outputs": [],
   "source": [
    "import sys\n",
    "sys.path.append(\"../\")\n",
    "\n",
    "import itertools\n",
    "import random\n",
    "import pandas as pd\n",
    "import numpy as np\n",
    "from config import Config\n",
    "import keras\n",
    "\n",
    "\n",
    "VALIDATION_SPLIT = 0.1\n",
    "EMBEDDING_SIZE = 128\n",
    "INPUT_LENGHT = 194"
   ]
  },
  {
   "cell_type": "code",
   "execution_count": 2,
   "id": "834a6521-35ec-421b-922f-2b73b905c871",
   "metadata": {},
   "outputs": [],
   "source": [
    "from preprocessing.tokenizationBagWords import tokenize_frame\n",
    "from keras.layers import Conv1D, Dropout, Flatten, Dense"
   ]
  },
  {
   "cell_type": "code",
   "execution_count": null,
   "id": "f9f8312c-e95c-4c52-8c00-76bb5644f9ee",
   "metadata": {},
   "outputs": [],
   "source": []
  },
  {
   "cell_type": "code",
   "execution_count": 3,
   "id": "2df695ed-c579-4fe7-b764-761b5e603f65",
   "metadata": {},
   "outputs": [],
   "source": [
    "hidden_layers = [[(128, True, 0.5), (64, True, 0.2), (16, False, 0.0)],\n",
    " [(128, True, 0.5), (32, False, 0.2)],\n",
    " [(128, True, 0.5), (64, False, 0.2)],  \n",
    " [(128, True, 0.0), (32, False, 0.0)],\n",
    " [(128, False, 0.0)],\n",
    " [(128, False, 0.2)]\n",
    " ]\n",
    "loss = ['binary_crossentropy']\n",
    "epochs = [10]\n",
    "\n",
    "\n",
    "combinations = list(itertools.product(*[hidden_layers, loss, epochs]))\n",
    "combinations\n",
    "\n",
    "validation_performance = []\n",
    "\n",
    "training_data = pd.read_csv(Config.TRAINING_DATASET_PATH)\n",
    "\n",
    "from preprocessing.pipeline import ItalianTweetsPreprocessingPipeline\n",
    "pp = ItalianTweetsPreprocessingPipeline()\n",
    "\n",
    "preprocessed_training_data = pp.apply(training_data)\n",
    "\n",
    "x = preprocessed_training_data['text']\n",
    "y = preprocessed_training_data['sarcasm']\n",
    "\n",
    "x, _ , num_words = tokenize_frame(x)\n",
    "\n",
    "\n",
    "tmp = list(zip(x,y))\n",
    "random.shuffle(tmp)\n",
    "x, y = zip(*tmp)\n",
    "\n",
    "\n",
    "validate_size = int(len(x)*VALIDATION_SPLIT)\n",
    "x_train, x_validate = x[:-validate_size], x[-validate_size:]\n",
    "x_train = np.asarray(x_train)\n",
    "x_validate = np.asarray(x_validate)\n",
    "y_train, y_validate = y[:-validate_size], y[-validate_size:]\n",
    "y_train = np.asarray(y_train)\n",
    "y_validate = np.asarray(y_validate)\n",
    "\n"
   ]
  },
  {
   "cell_type": "code",
   "execution_count": 4,
   "id": "a280c24f-e12a-45c4-8293-2cd175d9624d",
   "metadata": {},
   "outputs": [
    {
     "name": "stdout",
     "output_type": "stream",
     "text": [
      "index: 0 Configurazione: ([(128, True, 0.5), (64, True, 0.2), (16, False, 0.0)], 'binary_crossentropy', 10)\n",
      "13/13 [==============================] - 1s 74ms/step - loss: 0.5572 - accuracy: 0.7632\n",
      "index: 1 Configurazione: ([(128, True, 0.5), (32, False, 0.2)], 'binary_crossentropy', 10)\n",
      "13/13 [==============================] - 1s 39ms/step - loss: 0.5522 - accuracy: 0.7632\n",
      "index: 2 Configurazione: ([(128, True, 0.5), (64, False, 0.2)], 'binary_crossentropy', 10)\n",
      "13/13 [==============================] - 3s 217ms/step - loss: 0.5575 - accuracy: 0.7632\n",
      "index: 3 Configurazione: ([(128, True, 0.0), (32, False, 0.0)], 'binary_crossentropy', 10)\n",
      "13/13 [==============================] - 3s 197ms/step - loss: 0.5507 - accuracy: 0.7632\n",
      "index: 4 Configurazione: ([(128, False, 0.0)], 'binary_crossentropy', 10)\n",
      "13/13 [==============================] - 0s 32ms/step - loss: 0.5540 - accuracy: 0.7632 0s - loss: 0.5558 - accuracy: \n",
      "index: 5 Configurazione: ([(128, False, 0.2)], 'binary_crossentropy', 10)\n",
      "13/13 [==============================] - 0s 31ms/step - loss: 0.5517 - accuracy: 0.7632\n"
     ]
    }
   ],
   "source": [
    "\n",
    "results = []\n",
    "index = 0\n",
    "for combination in combinations:\n",
    "    print(\"index: \" + str(index) + \" Configurazione: \" + str(combination))\n",
    "    model = keras.Sequential()\n",
    "    model.add(keras.layers.Embedding(num_words, EMBEDDING_SIZE, input_length=INPUT_LENGHT, mask_zero=True))\n",
    "    for e in combination[0]:\n",
    "        model.add(keras.layers.GRU(e[0], return_sequences=e[1]))\n",
    "        if e[2] != 0.0:\n",
    "            model.add(keras.layers.Dropout(e[2]))\n",
    "    model.add(keras.layers.Dense(1, activation='sigmoid'))\n",
    "    model.compile(loss=combination[1], optimizer='adam', metrics=['accuracy'])\n",
    "    \n",
    "    model.fit(x_train, y_train, epochs=combination[2], verbose=0)\n",
    "    result = model.evaluate(x_validate, y_validate)\n",
    "    results.append([combination, dict(zip(model.metrics_names, result))])\n",
    "    index += 1"
   ]
  },
  {
   "cell_type": "code",
   "execution_count": 5,
   "id": "a7def05c-79f5-4e78-8248-0000b3292cb3",
   "metadata": {},
   "outputs": [
    {
     "name": "stdout",
     "output_type": "stream",
     "text": [
      "Best Hyperparameter\n",
      "([(128, True, 0.5), (64, True, 0.2), (16, False, 0.0)], 'binary_crossentropy', 10) 0.763224184513092\n",
      "([(128, True, 0.5), (32, False, 0.2)], 'binary_crossentropy', 10) 0.763224184513092\n",
      "([(128, True, 0.5), (64, False, 0.2)], 'binary_crossentropy', 10) 0.763224184513092\n",
      "([(128, True, 0.0), (32, False, 0.0)], 'binary_crossentropy', 10) 0.763224184513092\n",
      "([(128, False, 0.0)], 'binary_crossentropy', 10) 0.763224184513092\n",
      "([(128, False, 0.2)], 'binary_crossentropy', 10) 0.763224184513092\n"
     ]
    }
   ],
   "source": [
    "metric = 'accuracy'\n",
    "values = []\n",
    "\n",
    "\n",
    "for i in range(len(results)):\n",
    "    values.append((results[i][0],results[i][1][metric]))\n",
    "                  \n",
    "values.sort(key=lambda tup: tup[1], reverse = True)\n",
    "\n",
    "print('Best Hyperparameter')\n",
    "for v in values:\n",
    "    print(v[0], v[1])"
   ]
  },
  {
   "cell_type": "markdown",
   "id": "1c11cdd7-cdab-4aa0-954c-1d726ee2c1b8",
   "metadata": {},
   "source": [
    "# Best Model"
   ]
  },
  {
   "cell_type": "code",
   "execution_count": 1,
   "id": "ad3e4452-19a2-4e7d-ab87-51fa883213f9",
   "metadata": {},
   "outputs": [],
   "source": [
    "from pathlib import Path\n",
    "import sys\n",
    "sys.path.append(\"../\")\n",
    "\n",
    "\n",
    "from config import Config\n",
    "import pandas as pd"
   ]
  },
  {
   "cell_type": "code",
   "execution_count": null,
   "id": "25d222cb-5359-40b3-868d-9da3480980d0",
   "metadata": {},
   "outputs": [],
   "source": [
    "training_data = pd.read_csv(Config.TRAINING_DATASET_PATH)\n",
    "test_data = pd.read_csv(Config.TEST_DATASET_PATH)\n",
    "del test_data['id']\n",
    "del test_data['topic']"
   ]
  },
  {
   "cell_type": "code",
   "execution_count": null,
   "id": "3a0280d6-df30-4a0e-b1de-c4c92d4897d8",
   "metadata": {},
   "outputs": [],
   "source": [
    "from preprocessing.pipeline import ItalianTweetsPreprocessingPipeline\n",
    "pp = ItalianTweetsPreprocessingPipeline()"
   ]
  },
  {
   "cell_type": "code",
   "execution_count": null,
   "id": "938afba0-3eea-4d42-8338-05d539807cf9",
   "metadata": {},
   "outputs": [],
   "source": [
    "preprocessed_training_data = pp.apply(training_data)\n",
    "preprocessed_test_data = pp.apply(test_data)\n"
   ]
  },
  {
   "cell_type": "code",
   "execution_count": null,
   "id": "7f376eca-00d4-4dbb-80a3-ea0f2d3dc085",
   "metadata": {},
   "outputs": [],
   "source": [
    "x_train = preprocessed_training_data['text']\n",
    "x_test = preprocessed_test_data['text']\n",
    "y_train = preprocessed_training_data[['irony','sarcasm']]\n",
    "y_test = preprocessed_test_data[['irony','sarcasm']]\n"
   ]
  },
  {
   "cell_type": "code",
   "execution_count": null,
   "id": "34cf1f9c-3739-4a69-9a76-41236340d65d",
   "metadata": {},
   "outputs": [],
   "source": [
    "import tensorflow as tk\n",
    "from tensorflow import keras\n",
    "from config import Config\n",
    "\n",
    "from preprocessing.tokenizationBagWords import tokenize_frame\n",
    "import numpy as np\n",
    "\n",
    "\n",
    "INPUT_LENGHT = 194\n",
    "EMBEDDING_SIZE = 128\n",
    "VALIDATION_SIZE = 0.1"
   ]
  },
  {
   "cell_type": "code",
   "execution_count": null,
   "id": "22aa7158-ccb4-4e26-bea0-df9d334b3299",
   "metadata": {},
   "outputs": [],
   "source": [
    "# Seed value\n",
    "seed_value= 450\n",
    "\n",
    "# 1. Set the `PYTHONHASHSEED` environment variable at a fixed value\n",
    "import os\n",
    "os.environ['PYTHONHASHSEED']=str(seed_value)\n",
    "\n",
    "# 2. Set the `python` built-in pseudo-random generator at a fixed value\n",
    "import random\n",
    "random.seed(seed_value)\n",
    "\n",
    "# 3. Set the `numpy` pseudo-random generator at a fixed value\n",
    "import numpy as np\n",
    "np.random.seed(seed_value)\n",
    "\n",
    "# 4. Set the `tensorflow` pseudo-random generator at a fixed value\n",
    "import tensorflow as tf\n",
    "tf.random.set_seed(seed_value)\n",
    "# for later versions: \n",
    "# tf.compat.v1.set_random_seed(seed_value)\n",
    "\n",
    "# 5. Configure a new global `tensorflow` session\n",
    "from keras import backend as K\n",
    "session_conf = tf.compat.v1.ConfigProto(intra_op_parallelism_threads=1, inter_op_parallelism_threads=1)\n",
    "sess = tf.compat.v1.Session(graph=tf.compat.v1.get_default_graph(), config=session_conf)\n",
    "K.set_session(sess)"
   ]
  },
  {
   "cell_type": "code",
   "execution_count": null,
   "id": "6e0c848b-fbf6-4857-87a9-bd22ceeb7a6b",
   "metadata": {},
   "outputs": [],
   "source": [
    "def model_gru(x, y, num_words: int, combination, embedding_size=EMBEDDING_SIZE):\n",
    "    \n",
    "    model = keras.Sequential()\n",
    "    model.add(keras.layers.Embedding(num_words, EMBEDDING_SIZE, input_length=INPUT_LENGHT, mask_zero=True))\n",
    "    for e in combination[0]:\n",
    "        model.add(keras.layers.GRU(e[0], return_sequences=e[1]))\n",
    "        if e[2] != 0.0:\n",
    "            model.add(keras.layers.Dropout(e[2]))\n",
    "    model.add(keras.layers.Dense(1, activation='sigmoid'))\n",
    "    model.compile(loss=combination[1], optimizer='adam', metrics=['accuracy'])\n",
    "\n",
    "    history = model.fit(x, y, epochs=combination[2], validation_split = VALIDATION_SIZE)\n",
    "    \n",
    "    \n",
    "    return model\n"
   ]
  },
  {
   "cell_type": "code",
   "execution_count": 17,
   "id": "7d6f5a1a-3d88-4cba-8dfd-98eb4eb70719",
   "metadata": {},
   "outputs": [
    {
     "name": "stdout",
     "output_type": "stream",
     "text": [
      "Epoch 1/10\n",
      "112/112 [==============================] - 14s 123ms/step - loss: 0.6887 - accuracy: 0.5328 - val_loss: 0.6970 - val_accuracy: 0.4975\n",
      "Epoch 2/10\n",
      "112/112 [==============================] - 12s 108ms/step - loss: 0.6799 - accuracy: 0.5591 - val_loss: 0.7023 - val_accuracy: 0.4950\n",
      "Epoch 3/10\n",
      "112/112 [==============================] - 12s 108ms/step - loss: 0.6744 - accuracy: 0.5728 - val_loss: 0.7020 - val_accuracy: 0.5101\n",
      "Epoch 4/10\n",
      "112/112 [==============================] - 12s 111ms/step - loss: 0.6697 - accuracy: 0.5761 - val_loss: 0.6981 - val_accuracy: 0.5276\n",
      "Epoch 5/10\n",
      "112/112 [==============================] - 13s 115ms/step - loss: 0.6643 - accuracy: 0.5854 - val_loss: 0.7033 - val_accuracy: 0.5327\n",
      "Epoch 6/10\n",
      "112/112 [==============================] - 13s 115ms/step - loss: 0.6616 - accuracy: 0.5845 - val_loss: 0.6964 - val_accuracy: 0.5276\n",
      "Epoch 7/10\n",
      "112/112 [==============================] - 13s 115ms/step - loss: 0.6533 - accuracy: 0.5907 - val_loss: 0.6969 - val_accuracy: 0.5704\n",
      "Epoch 8/10\n",
      "112/112 [==============================] - 13s 115ms/step - loss: 0.6479 - accuracy: 0.6013 - val_loss: 0.6944 - val_accuracy: 0.5226\n",
      "Epoch 9/10\n",
      "112/112 [==============================] - 13s 114ms/step - loss: 0.6417 - accuracy: 0.6085 - val_loss: 0.6997 - val_accuracy: 0.5704\n",
      "Epoch 10/10\n",
      "112/112 [==============================] - 13s 115ms/step - loss: 0.6307 - accuracy: 0.6203 - val_loss: 0.6934 - val_accuracy: 0.5553\n",
      "Epoch 1/10\n",
      "112/112 [==============================] - 30s 264ms/step - loss: 0.5449 - accuracy: 0.7703 - val_loss: 0.5371 - val_accuracy: 0.7739\n",
      "Epoch 2/10\n",
      "112/112 [==============================] - 27s 239ms/step - loss: 0.5419 - accuracy: 0.7700 - val_loss: 0.5336 - val_accuracy: 0.7739\n",
      "Epoch 3/10\n",
      "112/112 [==============================] - 27s 244ms/step - loss: 0.5408 - accuracy: 0.7700 - val_loss: 0.5324 - val_accuracy: 0.7739\n",
      "Epoch 4/10\n",
      "112/112 [==============================] - 28s 249ms/step - loss: 0.5400 - accuracy: 0.7700 - val_loss: 0.5317 - val_accuracy: 0.7739\n",
      "Epoch 5/10\n",
      "112/112 [==============================] - 27s 243ms/step - loss: 0.5397 - accuracy: 0.7700 - val_loss: 0.5347 - val_accuracy: 0.7739\n",
      "Epoch 6/10\n",
      "112/112 [==============================] - 27s 242ms/step - loss: 0.5388 - accuracy: 0.7700 - val_loss: 0.5334 - val_accuracy: 0.7739\n",
      "Epoch 7/10\n",
      "112/112 [==============================] - 27s 244ms/step - loss: 0.5370 - accuracy: 0.7703 - val_loss: 0.5353 - val_accuracy: 0.7739\n",
      "Epoch 8/10\n",
      "112/112 [==============================] - 27s 242ms/step - loss: 0.5376 - accuracy: 0.7723 - val_loss: 0.5375 - val_accuracy: 0.7739\n",
      "Epoch 9/10\n",
      "112/112 [==============================] - 27s 242ms/step - loss: 0.5381 - accuracy: 0.7703 - val_loss: 0.5348 - val_accuracy: 0.7739\n",
      "Epoch 10/10\n",
      "112/112 [==============================] - 27s 241ms/step - loss: 0.5358 - accuracy: 0.7714 - val_loss: 0.5454 - val_accuracy: 0.7613\n"
     ]
    }
   ],
   "source": [
    "x_train_gru, x_test_gru, num_words = tokenize_frame(x_train.tolist(), x_test.tolist())\n",
    "\n",
    "x_train_gru = np.asarray(x_train_gru)\n",
    "x_test_gru = np.asarray(x_test_gru)\n",
    "\n",
    "hyperparameters_irony = [[(128, False, 0.0)], 'binary_crossentropy', 10]\n",
    "model_irony = model_gru(x_train_gru, y_train['irony'], num_words, hyperparameters_irony)\n",
    "\n",
    "hyperparameters_sarcasm = [[(128, True, 0.5), (64, True, 0.2), (16, False, 0.0)], 'binary_crossentropy', 10]\n",
    "model_sarcasm = model_gru(x_train_gru, y_train['sarcasm'], num_words, hyperparameters_sarcasm)\n",
    "\n",
    "\n"
   ]
  },
  {
   "cell_type": "code",
   "execution_count": null,
   "id": "9ea7026d-1c33-4bae-939d-392b9733e954",
   "metadata": {},
   "outputs": [],
   "source": []
  },
  {
   "cell_type": "code",
   "execution_count": 18,
   "id": "2f1e1201-6e45-45fb-807d-747e0e1b5640",
   "metadata": {},
   "outputs": [
    {
     "name": "stdout",
     "output_type": "stream",
     "text": [
      "F1 Average Task A\n"
     ]
    },
    {
     "data": {
      "text/plain": [
       "0.5872034221259326"
      ]
     },
     "execution_count": 18,
     "metadata": {},
     "output_type": "execute_result"
    }
   ],
   "source": [
    "from custom_metrics import model_test\n",
    "\n",
    "print(\"F1 Average Task A\")\n",
    "model_test(model_irony, x_test_gru, y_test['irony'])"
   ]
  },
  {
   "cell_type": "code",
   "execution_count": null,
   "id": "57325302-ba73-46b4-8410-a896f954be01",
   "metadata": {},
   "outputs": [],
   "source": []
  },
  {
   "cell_type": "code",
   "execution_count": 19,
   "id": "44930066-c8e1-4bd4-b383-b5eac5339c3e",
   "metadata": {},
   "outputs": [
    {
     "name": "stdout",
     "output_type": "stream",
     "text": [
      "F1 Average Task B\n"
     ]
    },
    {
     "data": {
      "text/plain": [
       "0.344492553938744"
      ]
     },
     "execution_count": 19,
     "metadata": {},
     "output_type": "execute_result"
    }
   ],
   "source": [
    "from custom_metrics import computePerformanceTaskB_2model\n",
    "\n",
    "print(\"F1 Average Task B\")\n",
    "computePerformanceTaskB_2model(model_irony, model_sarcasm, x_test_gru, y_test)"
   ]
  }
 ],
 "metadata": {
  "kernelspec": {
   "display_name": "Python 3",
   "language": "python",
   "name": "python3"
  },
  "language_info": {
   "codemirror_mode": {
    "name": "ipython",
    "version": 3
   },
   "file_extension": ".py",
   "mimetype": "text/x-python",
   "name": "python",
   "nbconvert_exporter": "python",
   "pygments_lexer": "ipython3",
   "version": "3.8.8"
  }
 },
 "nbformat": 4,
 "nbformat_minor": 5
}
