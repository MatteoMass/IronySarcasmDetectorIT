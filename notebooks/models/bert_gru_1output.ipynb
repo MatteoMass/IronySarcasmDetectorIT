{
 "cells": [
  {
   "cell_type": "code",
   "execution_count": null,
   "metadata": {
    "colab": {
     "base_uri": "https://localhost:8080/"
    },
    "id": "61AAaBGJRKnl",
    "outputId": "29a3d04d-de09-4c18-c1a1-790817508bfd"
   },
   "outputs": [
    {
     "name": "stdout",
     "output_type": "stream",
     "text": [
      "Cloning into 'IronySarcasmDetectorIT'...\n",
      "remote: Enumerating objects: 305, done.\u001b[K\n",
      "remote: Counting objects: 100% (305/305), done.\u001b[K\n",
      "remote: Compressing objects: 100% (219/219), done.\u001b[K\n",
      "remote: Total 305 (delta 161), reused 169 (delta 74), pack-reused 0\u001b[K\n",
      "Receiving objects: 100% (305/305), 1.14 MiB | 8.83 MiB/s, done.\n",
      "Resolving deltas: 100% (161/161), done.\n",
      "fatal: not a git repository (or any of the parent directories): .git\n"
     ]
    }
   ],
   "source": [
    "!git clone https://github.com/gerzin/IronySarcasmDetectorIT.git\n",
    "!cd /content/IronySarcasmDetectorIT\n",
    "!git pull\n",
    "!cd .."
   ]
  },
  {
   "cell_type": "code",
   "execution_count": null,
   "metadata": {
    "id": "4BkNRgIDXv9t"
   },
   "outputs": [],
   "source": [
    "import sys\n",
    "sys.path.append('/content/IronySarcasmDetectorIT')"
   ]
  },
  {
   "cell_type": "code",
   "execution_count": null,
   "metadata": {
    "colab": {
     "base_uri": "https://localhost:8080/"
    },
    "id": "tQUUFi4aYZ1X",
    "outputId": "e3542a65-d838-4fae-ca5a-f3943cf91ab8"
   },
   "outputs": [
    {
     "name": "stdout",
     "output_type": "stream",
     "text": [
      "/device:GPU:0\n"
     ]
    }
   ],
   "source": [
    "import numpy as np\n",
    "import pandas as pd\n",
    "import tensorflow as tf\n",
    "tf.get_logger().setLevel('ERROR')\n",
    "device_name = tf.test.gpu_device_name()\n",
    "print(device_name)"
   ]
  },
  {
   "cell_type": "code",
   "execution_count": null,
   "metadata": {
    "id": "hYaBKnFabteZ"
   },
   "outputs": [],
   "source": []
  },
  {
   "cell_type": "markdown",
   "metadata": {
    "id": "K18APbUaYDP1"
   },
   "source": [
    "# DEFINE MODELS"
   ]
  },
  {
   "cell_type": "code",
   "execution_count": null,
   "metadata": {
    "id": "TyXICe8vZGfl"
   },
   "outputs": [],
   "source": [
    "%%capture\n",
    "!pip install emoji\n",
    "!pip install transformers"
   ]
  },
  {
   "cell_type": "code",
   "execution_count": null,
   "metadata": {
    "id": "py0966NrYFcS"
   },
   "outputs": [],
   "source": [
    "from preprocessing.pipeline import ItalianTweetsPreprocessingPipeline\n",
    "pre_pipeline = ItalianTweetsPreprocessingPipeline(to_lowercase=False)\n",
    "df = pd.read_csv(\"/content/IronySarcasmDetectorIT/datasets/training_ironita2018.csv\")\n",
    "#pre-processing the data\n",
    "df = pre_pipeline.apply(df)"
   ]
  },
  {
   "cell_type": "code",
   "execution_count": null,
   "metadata": {
    "id": "5EUvNoK-Zj9d"
   },
   "outputs": [],
   "source": []
  },
  {
   "cell_type": "code",
   "execution_count": null,
   "metadata": {
    "id": "lmEijAJjZCRO"
   },
   "outputs": [],
   "source": [
    "from pathlib import Path\n",
    "class ModelsConfig:\n",
    "    SEQUENCE_LENGTH = 50\n",
    "    BERT_ITA_XXL_CASED = \"dbmdz/bert-base-italian-xxl-cased\"\n",
    "    BERT_TOKENIZER_LENGTH = 80\n",
    "    BERT_MODEL_NAME = \"bertlstm.h5\""
   ]
  },
  {
   "cell_type": "code",
   "execution_count": null,
   "metadata": {
    "id": "-PUh_9zWYTor"
   },
   "outputs": [],
   "source": [
    "from transformers import TFBertModel, AutoTokenizer\n",
    "import numpy as np\n",
    "import tensorflow as tf\n",
    "\n",
    "\n",
    "def get_bert_tokenizer(model_url=ModelsConfig.BERT_ITA_XXL_CASED, tok_len=ModelsConfig.BERT_TOKENIZER_LENGTH):\n",
    "    tokenizer = AutoTokenizer.from_pretrained(model_url, add_special_tokens=True, max_length=tok_len,\n",
    "                                              pad_to_max_length=True)\n",
    "\n",
    "    return tokenizer\n",
    "\n",
    "def tokenize(sentences, tokenizer):\n",
    "    input_ids, input_masks, input_segments = [], [], []\n",
    "    for sentence in sentences:\n",
    "        inputs = tokenizer.encode_plus(sentence, add_special_tokens=True, max_length=128, pad_to_max_length=True,\n",
    "                                       return_attention_mask=True, return_token_type_ids=True, truncation=True)\n",
    "        input_ids.append(inputs['input_ids'])\n",
    "        input_masks.append(inputs['attention_mask'])\n",
    "        input_segments.append(inputs['token_type_ids'])\n",
    "\n",
    "    return np.asarray(input_ids, dtype='int32'), np.asarray(input_masks, dtype='int32'), np.asarray(input_segments,\n",
    "                                                                                                    dtype='int32')\n",
    "\n",
    "\n",
    "def get_bert_gru_classifier(hidden_layers, model_url=ModelsConfig.BERT_ITA_XXL_CASED):\n",
    "    with tf.device(device_name):\n",
    "      bert = TFBertModel.from_pretrained(model_url)\n",
    "\n",
    "      input_ids_in = tf.keras.layers.Input(shape=(128,), name='input_token', dtype='int32')\n",
    "      input_masks_in = tf.keras.layers.Input(shape=(128,), name='masked_token', dtype='int32')\n",
    "\n",
    "      embedding_layer = bert(input_ids_in, attention_mask=input_masks_in)[0]\n",
    "      \n",
    "      first = True\n",
    "      for layer in hidden_layers:\n",
    "        if first:\n",
    "           X =  tf.keras.layers.GRU(layer[0], return_sequences=layer[1])(embedding_layer)\n",
    "           first = False\n",
    "        else: \n",
    "          X =  tf.keras.layers.GRU(layer[0], return_sequences=layer[1])(X)\n",
    "        if layer[2] != 0.0:\n",
    "           X = tf.keras.layers.Dropout(layer[2])(X)\n",
    "      \n",
    "      X = tf.keras.layers.Dense(1, activation = 'sigmoid')(X)\n",
    "\n",
    "      model = tf.keras.Model(inputs=[input_ids_in, input_masks_in], outputs=X)\n",
    "\n",
    "      for layer in model.layers[:3]:\n",
    "          layer.trainable = False\n",
    "\n",
    "      return model"
   ]
  },
  {
   "cell_type": "code",
   "execution_count": null,
   "metadata": {
    "colab": {
     "base_uri": "https://localhost:8080/",
     "height": 113,
     "referenced_widgets": [
      "9e8328130f0540d2a0abbaad457a15bc",
      "2f88035947b24eecb9c73d89098588ac",
      "50224341d4d4433a928af6b5dd307bd3",
      "3e567438e70b4b1993541ceccffdb357",
      "edeaa0f2ec43410bbbbce406a6af2dd9",
      "2820309404c1449ea88dcced2469ba71",
      "1c6a7c3c57644c408e1d4ede39cdec6d",
      "e735afdf74354bb4ae754c8bcff08f7a",
      "42885140cf154b47adae149db878193c",
      "dcfb01b9abb94fd7ae461cfe32c6cee4",
      "8efb1156c0274688a3a9bd834d5cd22b",
      "8099e453f25443c8a60f3a103076a89a",
      "4830f6bd449447518a5779284966938f",
      "09283bc2b34947fb996c8a2f9ac607b0",
      "f38c109021974c7480327710ee766e05",
      "9970f61360ec4163a36326d42e081dd6",
      "f63a4dc736e54f9d9847b102c9562581",
      "ec5edb9ce30540028d51597c5ad526be",
      "83460774557b459ba330f3f88bfb3a50",
      "3c6efb38a9a648358eff4da91d20104b",
      "0d0ad01661bf40d88ccc97cd78e3a23c",
      "1ff6ec891bc84862b705cf70a87deec3",
      "6244ebfa77f34b04b9230aa3e882b460",
      "6a8e296f4e6a4099a5e0765897d1beb9",
      "2791d2314a0a438ea8efeda8c34363a8",
      "745a05fbec2841c79d545d70a2ec4c1b",
      "1e8b51b61dcb4d18be2884ac48fa41f5",
      "23ebf567fc8145ad9c96643e0e9f1bf2",
      "4f8c5fcd516e410ab5d97024417d8a1f",
      "a3874e05ce7943b1ae1501d7f95ccfc5",
      "afaec04dfe2944c4977f54ad9207cc6f",
      "8c49b37a4631442bb4e651e7ae1604b6",
      "c0436339c77a4a6fba19f47ffb16c2a0"
     ]
    },
    "id": "mz4SZYfzMGPG",
    "outputId": "2123feed-413f-4796-a974-1491737a758d"
   },
   "outputs": [
    {
     "data": {
      "application/vnd.jupyter.widget-view+json": {
       "model_id": "9e8328130f0540d2a0abbaad457a15bc",
       "version_major": 2,
       "version_minor": 0
      },
      "text/plain": [
       "Downloading:   0%|          | 0.00/59.0 [00:00<?, ?B/s]"
      ]
     },
     "metadata": {},
     "output_type": "display_data"
    },
    {
     "data": {
      "application/vnd.jupyter.widget-view+json": {
       "model_id": "8099e453f25443c8a60f3a103076a89a",
       "version_major": 2,
       "version_minor": 0
      },
      "text/plain": [
       "Downloading:   0%|          | 0.00/433 [00:00<?, ?B/s]"
      ]
     },
     "metadata": {},
     "output_type": "display_data"
    },
    {
     "data": {
      "application/vnd.jupyter.widget-view+json": {
       "model_id": "6244ebfa77f34b04b9230aa3e882b460",
       "version_major": 2,
       "version_minor": 0
      },
      "text/plain": [
       "Downloading:   0%|          | 0.00/230k [00:00<?, ?B/s]"
      ]
     },
     "metadata": {},
     "output_type": "display_data"
    }
   ],
   "source": [
    "tokenizer = get_bert_tokenizer()"
   ]
  },
  {
   "cell_type": "markdown",
   "metadata": {
    "id": "ZuuTArb4pGBb"
   },
   "source": [
    "# GRID SEARCH"
   ]
  },
  {
   "cell_type": "code",
   "execution_count": null,
   "metadata": {
    "colab": {
     "base_uri": "https://localhost:8080/",
     "height": 885,
     "referenced_widgets": [
      "c4a50c32e5d04682a0eaed383556b4fd"
     ]
    },
    "id": "aCwZiVwlpFfe",
    "outputId": "6006d76f-7cc6-4758-a9d3-d2c1e17d4182"
   },
   "outputs": [],
   "source": [
    "import itertools\n",
    "from sklearn.utils import shuffle\n",
    "\n",
    "VALIDATION_SPLIT = 0.1\n",
    "df_gridSearch = shuffle(df)\n",
    "validation_size = int(len(df)*VALIDATION_SPLIT)\n",
    "x_train_gs = df_gridSearch['text'][validation_size:]\n",
    "y_train_gs = df_gridSearch['irony'][validation_size:]\n",
    "x_vali_gs = df_gridSearch['text'][:validation_size]\n",
    "y_vali_gs = df_gridSearch['irony'][:validation_size]\n",
    "\n",
    "x_train_gs = tokenize(x_train_gs, tokenizer)[:-1]\n",
    "x_vali_gs = tokenize(x_vali_gs, tokenizer)[:-1]\n",
    "\n",
    "hidden_layers = [\n",
    "                 [(128, True, 0.5), (64, True, 0.2), (16, False, 0.0)],\n",
    "                 [(128, True, 0.5), (32, False, 0.2)],\n",
    "                 [(128, True, 0.5), (16, False, 0.2)],\n",
    "                 [(128, True, 0.5), (32, False, 0.0)],\n",
    "                 [(128, False, 0.0)],\n",
    "]\n",
    "\n",
    "loss = ['binary_crossentropy']\n",
    "epochs = [20]\n",
    "\n",
    "combinations = list(itertools.product(*[hidden_layers, loss, epochs]))\n",
    "\n",
    "\n",
    "early_stopping_cb = tf.keras.callbacks.EarlyStopping(patience=3, restore_best_weights=True, monitor='val_loss')\n",
    "\n",
    "validation_performance = []\n",
    "index = 0\n",
    "for combination in combinations:\n",
    "  print(index)\n",
    "  model = get_bert_gru_classifier(hidden_layers = combination[0])\n",
    "  model.compile(loss=combination[1], optimizer='adam', metrics =['acc'])\n",
    "\n",
    "  model.fit(x = (x_train_gs[0], x_train_gs[1]), y = np.asarray(y_train_gs), epochs=combination[2], verbose = 0, callbacks=[early_stopping_cb])\n",
    "  result = model.evaluate(x = (x_vali_gs[0], x_vali_gs[1]), y = y_vali_gs)\n",
    "  performance = [combination, dict(zip(model.metrics_names, result))] \n",
    "  print(performance)\n",
    "  validation_performance.append(performance)\n",
    "  index +=1 \n",
    "\n",
    "metric = 'acc'\n",
    "values = []\n",
    "\n",
    "for i in range(len(validation_performance)):\n",
    "  values.append((validation_performance[i][0], validation_performance[i][1][metric]))\n",
    "\n",
    "values.sort(key=lambda tup: tup[1], reverse = True)\n",
    "\n",
    "\n",
    "print('Best Hyperparameters Irony')\n",
    "for v in values:\n",
    "  print(v[0], v[1])"
   ]
  },
  {
   "cell_type": "code",
   "execution_count": null,
   "metadata": {
    "colab": {
     "base_uri": "https://localhost:8080/"
    },
    "id": "JRDbXZo2q6AI",
    "outputId": "7506fa1c-81c5-4731-9afc-242be5750d65"
   },
   "outputs": [],
   "source": [
    "import itertools\n",
    "from sklearn.utils import shuffle\n",
    "\n",
    "VALIDATION_SPLIT = 0.1\n",
    "df_gridSearch = shuffle(df)\n",
    "validation_size = int(len(df)*VALIDATION_SPLIT)\n",
    "x_train_gs = df_gridSearch['text'][validation_size:]\n",
    "y_train_gs = df_gridSearch['sarcasm'][validation_size:]\n",
    "x_vali_gs = df_gridSearch['text'][:validation_size]\n",
    "y_vali_gs = df_gridSearch['sarcasm'][:validation_size]\n",
    "\n",
    "x_train_gs = tokenize(x_train_gs, tokenizer)[:-1]\n",
    "x_vali_gs = tokenize(x_vali_gs, tokenizer)[:-1]\n",
    "\n",
    "hidden_layers = [\n",
    "                 [(128, True, 0.5), (64, True, 0.2), (16, False, 0.0)],\n",
    "                 [(128, True, 0.5), (32, False, 0.2)],\n",
    "                 [(128, True, 0.5), (16, False, 0.2)],\n",
    "                 [(128, True, 0.5), (32, False, 0.0)],\n",
    "                 [(128, False, 0.0)],\n",
    "]\n",
    "\n",
    "loss = ['binary_crossentropy']\n",
    "epochs = [20]\n",
    "\n",
    "combinations = list(itertools.product(*[hidden_layers, loss, epochs]))\n",
    "\n",
    "\n",
    "early_stopping_cb = tf.keras.callbacks.EarlyStopping(patience=3, restore_best_weights=True, monitor='val_loss')\n",
    "\n",
    "validation_performance = []\n",
    "index = 0\n",
    "for combination in combinations:\n",
    "  print(index)\n",
    "  model = get_bert_gru_classifier(hidden_layers = combination[0])\n",
    "  model.compile(loss=combination[1], optimizer='adam', metrics =['acc'])\n",
    "\n",
    "  model.fit(x = (x_train_gs[0], x_train_gs[1]), y = np.asarray(y_train_gs), epochs=combination[2], verbose = 0, callbacks=[early_stopping_cb])\n",
    "  result = model.evaluate(x = (x_vali_gs[0], x_vali_gs[1]), y = y_vali_gs)\n",
    "  performance = [combination, dict(zip(model.metrics_names, result))] \n",
    "  print(performance)\n",
    "  validation_performance.append(performance)\n",
    "  index +=1 \n",
    "\n",
    "metric = 'acc'\n",
    "values = []\n",
    "\n",
    "for i in range(len(validation_performance)):\n",
    "  values.append((validation_performance[i][0], validation_performance[i][1][metric]))\n",
    "\n",
    "values.sort(key=lambda tup: tup[1], reverse = True)\n",
    "\n",
    "\n",
    "print('Best Hyperparameters Sarcasm')\n",
    "for v in values:\n",
    "  print(v[0], v[1])"
   ]
  },
  {
   "cell_type": "code",
   "execution_count": null,
   "metadata": {
    "id": "LoM_sfPotuo2"
   },
   "outputs": [],
   "source": [
    "#RISULTATI GREED SEARCH\n",
    "\n",
    "irony_evaluations = [\n",
    "[([(128, True, 0.5), (64, True, 0.2), (16, False, 0.0)], 'binary_crossentropy', 10), {'loss': 0.5113739371299744, 'acc': 0.7959697842597961}],\n",
    "[([(128, True, 0.5), (32, False, 0.2)], 'binary_crossentropy', 10), {'loss': 0.7333301901817322, 'acc': 0.7304785847663879}],\n",
    "[([(128, True, 0.5), (16, False, 0.2)], 'binary_crossentropy', 10), {'loss': 0.6317560076713562, 'acc': 0.75314861536026}],\n",
    "[([(128, True, 0.5), (32, False, 0.0)], 'binary_crossentropy', 10), {'loss': 0.6505503058433533, 'acc': 0.750629723072052}],\n",
    "[([(128, False, 0.0)], 'binary_crossentropy', 10), {'loss': 0.7161769270896912, 'acc': 0.7178841233253479}],\n",
    "[([(128, True, 0.5), (64, True, 0.2), (16, False, 0.0)], 'binary_crossentropy', 20), {'loss': 1.0052123069763184, 'acc': 0.7279596924781799}],\n",
    "[([(128, True, 0.5), (32, False, 0.2)], 'binary_crossentropy', 20), {'loss': 1.2487032413482666, 'acc': 0.7052896618843079}],\n",
    "[([(128, True, 0.5), (16, False, 0.2)], 'binary_crossentropy', 20), {'loss': 1.0360223054885864, 'acc': 0.7304785847663879}],\n",
    "[([(128, True, 0.5), (32, False, 0.0)], 'binary_crossentropy', 20), {'loss': 1.0536763668060303, 'acc': 0.732997477054596}],\n",
    "[([(128, False, 0.0)], 'binary_crossentropy', 20), {'loss': 1.0814464092254639, 'acc': 0.7204030156135559}]\n",
    "]\n",
    "\n",
    "sarcasm_evaluations = [\n",
    "[([(128, True, 0.5), (64, True, 0.2), (16, False, 0.0)], 'binary_crossentropy', 10), {'loss': 0.6838492155075073, 'acc': 0.7279596924781799}],\n",
    "[([(128, True, 0.5), (32, False, 0.2)], 'binary_crossentropy', 10), {'loss': 0.7170308828353882, 'acc': 0.748110830783844}],\n",
    "[([(128, True, 0.5), (16, False, 0.2)], 'binary_crossentropy', 10), {'loss': 0.6712967157363892, 'acc': 0.743073046207428}],\n",
    "[([(128, True, 0.5), (32, False, 0.0)], 'binary_crossentropy', 10), {'loss': 0.7501422762870789, 'acc': 0.7078085541725159}],\n",
    "[([(128, False, 0.0)], 'binary_crossentropy', 10), {'loss': 0.8842348456382751, 'acc': 0.6851385235786438}],\n",
    "[([(128, True, 0.5), (64, True, 0.2), (16, False, 0.0)], 'binary_crossentropy', 20), {'loss': 1.1755075454711914, 'acc': 0.6801007390022278}],\n",
    "[([(128, True, 0.5), (32, False, 0.2)], 'binary_crossentropy', 20), {'loss': 1.3208746910095215, 'acc': 0.7002518773078918}],\n",
    "[([(128, True, 0.5), (16, False, 0.2)], 'binary_crossentropy', 20), {'loss': 1.2237690687179565, 'acc': 0.7027707695960999}]\n",
    "]"
   ]
  },
  {
   "cell_type": "code",
   "execution_count": null,
   "metadata": {
    "id": "6Ny132met7v9"
   },
   "outputs": [],
   "source": [
    "metric = 'acc'\n",
    "values = []\n",
    "\n",
    "for i in range(len(sarcasm_evaluations)):\n",
    "  values.append((sarcasm_evaluations[i][0], sarcasm_evaluations[i][1][metric]))\n",
    "\n",
    "values.sort(key=lambda tup: tup[1], reverse = True)\n",
    "\n",
    "\n",
    "print('Best Hyperparameters Sarcasm')\n",
    "for v in values:\n",
    "  print(v[0], v[1])"
   ]
  },
  {
   "cell_type": "code",
   "execution_count": null,
   "metadata": {
    "colab": {
     "base_uri": "https://localhost:8080/"
    },
    "id": "0mb4hs2l2Ysf",
    "outputId": "a2fa74b8-4c0d-4214-9bb6-163f5fc1df36"
   },
   "outputs": [
    {
     "name": "stdout",
     "output_type": "stream",
     "text": [
      "Best Hyperparameters Irony\n",
      "([(128, True, 0.5), (64, True, 0.2), (16, False, 0.0)], 'binary_crossentropy', 10) 0.7959697842597961\n",
      "([(128, True, 0.5), (16, False, 0.2)], 'binary_crossentropy', 10) 0.75314861536026\n",
      "([(128, True, 0.5), (32, False, 0.0)], 'binary_crossentropy', 10) 0.750629723072052\n",
      "([(128, True, 0.5), (32, False, 0.0)], 'binary_crossentropy', 20) 0.732997477054596\n",
      "([(128, True, 0.5), (32, False, 0.2)], 'binary_crossentropy', 10) 0.7304785847663879\n",
      "([(128, True, 0.5), (16, False, 0.2)], 'binary_crossentropy', 20) 0.7304785847663879\n",
      "([(128, True, 0.5), (64, True, 0.2), (16, False, 0.0)], 'binary_crossentropy', 20) 0.7279596924781799\n",
      "([(128, False, 0.0)], 'binary_crossentropy', 20) 0.7204030156135559\n",
      "([(128, False, 0.0)], 'binary_crossentropy', 10) 0.7178841233253479\n",
      "([(128, True, 0.5), (32, False, 0.2)], 'binary_crossentropy', 20) 0.7052896618843079\n"
     ]
    }
   ],
   "source": [
    "metric = 'acc'\n",
    "values = []\n",
    "\n",
    "for i in range(len(irony_evaluations)):\n",
    "  values.append((irony_evaluations[i][0], irony_evaluations[i][1][metric]))\n",
    "\n",
    "values.sort(key=lambda tup: tup[1], reverse = True)\n",
    "\n",
    "\n",
    "print('Best Hyperparameters Irony')\n",
    "for v in values:\n",
    "  print(v[0], v[1])"
   ]
  },
  {
   "cell_type": "markdown",
   "metadata": {
    "id": "2R9UeJOLS79Q"
   },
   "source": [
    "# FITTING THE BEST MODEL"
   ]
  },
  {
   "cell_type": "code",
   "execution_count": null,
   "metadata": {
    "colab": {
     "base_uri": "https://localhost:8080/"
    },
    "id": "d4h2jgSQTB3x",
    "outputId": "e34ab185-8ca8-4721-8181-1e4bf1ea2825"
   },
   "outputs": [
    {
     "name": "stderr",
     "output_type": "stream",
     "text": [
      "/usr/local/lib/python3.7/dist-packages/transformers/tokenization_utils_base.py:2217: FutureWarning: The `pad_to_max_length` argument is deprecated and will be removed in a future version, use `padding=True` or `padding='longest'` to pad to the longest sequence in the batch, or use `padding='max_length'` to pad to a max length. In this case, you can give a specific length with `max_length` (e.g. `max_length=45`) or leave max_length to None to pad to the maximal input size of the model (e.g. 512 for Bert).\n",
      "  FutureWarning,\n"
     ]
    }
   ],
   "source": [
    "from custom_metrics import computePerformanceTaskB_2output\n",
    "df_train = pd.read_csv(\"/content/IronySarcasmDetectorIT/datasets/training_ironita2018.csv\")\n",
    "#pre-processing the data\n",
    "df_train = pre_pipeline.apply(df_train)\n",
    "\n",
    "df_test = pd.read_csv(\"/content/IronySarcasmDetectorIT/datasets/test_gold_ironita2018.csv\")\n",
    "df_test = pre_pipeline.apply(df_test)\n",
    "\n",
    "x_train = df_train['text']\n",
    "y_train = df_train[['irony','sarcasm']]\n",
    "\n",
    "x_test = df_test['text']\n",
    "y_test = df_test[['irony','sarcasm']]\n",
    "x_test = tokenize(x_test, tokenizer)[:-1]\n",
    "x_train = tokenize(x_train, tokenizer)[:-1]\n",
    "\n",
    "\n",
    "\n",
    "\n",
    "\n",
    "\n"
   ]
  },
  {
   "cell_type": "code",
   "execution_count": null,
   "metadata": {
    "id": "6Rz58AP83WII"
   },
   "outputs": [],
   "source": [
    "# Seed value\n",
    "seed_value= 450\n",
    "\n",
    "# 1. Set the `PYTHONHASHSEED` environment variable at a fixed value\n",
    "import os\n",
    "os.environ['PYTHONHASHSEED']=str(seed_value)\n",
    "\n",
    "# 2. Set the `python` built-in pseudo-random generator at a fixed value\n",
    "import random\n",
    "random.seed(seed_value)\n",
    "\n",
    "# 3. Set the `numpy` pseudo-random generator at a fixed value\n",
    "import numpy as np\n",
    "np.random.seed(seed_value)\n",
    "\n",
    "# 4. Set the `tensorflow` pseudo-random generator at a fixed value\n",
    "import tensorflow as tf\n",
    "tf.random.set_seed(seed_value)\n",
    "# for later versions: \n",
    "# tf.compat.v1.set_random_seed(seed_value)\n",
    "\n",
    "# 5. Configure a new global `tensorflow` session\n",
    "from keras import backend as K\n",
    "session_conf = tf.compat.v1.ConfigProto(intra_op_parallelism_threads=1, inter_op_parallelism_threads=1)\n",
    "sess = tf.compat.v1.Session(graph=tf.compat.v1.get_default_graph(), config=session_conf)\n",
    "K.set_session(sess)"
   ]
  },
  {
   "cell_type": "code",
   "execution_count": null,
   "metadata": {
    "colab": {
     "base_uri": "https://localhost:8080/",
     "height": 511,
     "referenced_widgets": [
      "d7bdf0c5c8c34760b52ac4a2e782b7f0",
      "f33d4ce2b9d84708ac102551892a1f0e",
      "e6263ce38a3f418cbc6066078153933e",
      "293ae5944ec54a80b2e8fffe55056a6f",
      "f1f4bd740da64b50a03a94b345ec29e4",
      "447d99647fc9425496fa81e66b1fed5a",
      "2362ce961bdd401ebff0b900ddf4e6f7",
      "0e650073130c4f3e91bba14065f47d95",
      "00998cea228c4b7f80a577017869f744",
      "bb445cc9cb8d465085f89051d7d5b4f1",
      "5967025d603a4fac887b9d258753bc1f"
     ]
    },
    "id": "_49NZpO_el0g",
    "outputId": "ccfa022c-1658-4bcd-b0cf-dc2f9d5cc477"
   },
   "outputs": [
    {
     "data": {
      "application/vnd.jupyter.widget-view+json": {
       "model_id": "d7bdf0c5c8c34760b52ac4a2e782b7f0",
       "version_major": 2,
       "version_minor": 0
      },
      "text/plain": [
       "Downloading:   0%|          | 0.00/520M [00:00<?, ?B/s]"
      ]
     },
     "metadata": {},
     "output_type": "display_data"
    },
    {
     "name": "stderr",
     "output_type": "stream",
     "text": [
      "Some layers from the model checkpoint at dbmdz/bert-base-italian-xxl-cased were not used when initializing TFBertModel: ['mlm___cls', 'nsp___cls']\n",
      "- This IS expected if you are initializing TFBertModel from the checkpoint of a model trained on another task or with another architecture (e.g. initializing a BertForSequenceClassification model from a BertForPreTraining model).\n",
      "- This IS NOT expected if you are initializing TFBertModel from the checkpoint of a model that you expect to be exactly identical (initializing a BertForSequenceClassification model from a BertForSequenceClassification model).\n",
      "All the layers of TFBertModel were initialized from the model checkpoint at dbmdz/bert-base-italian-xxl-cased.\n",
      "If your task is similar to the task the model of the checkpoint was trained on, you can already use TFBertModel for predictions without further training.\n"
     ]
    },
    {
     "name": "stdout",
     "output_type": "stream",
     "text": [
      "Epoch 1/10\n",
      "125/125 [==============================] - 95s 590ms/step - loss: 0.6140 - acc: 0.6585\n",
      "Epoch 2/10\n",
      "125/125 [==============================] - 75s 601ms/step - loss: 0.5434 - acc: 0.7242\n",
      "Epoch 3/10\n",
      "125/125 [==============================] - 75s 601ms/step - loss: 0.4988 - acc: 0.7538\n",
      "Epoch 4/10\n",
      "125/125 [==============================] - 74s 593ms/step - loss: 0.4725 - acc: 0.7762\n",
      "Epoch 5/10\n",
      "125/125 [==============================] - 74s 591ms/step - loss: 0.4313 - acc: 0.7973\n",
      "Epoch 6/10\n",
      "125/125 [==============================] - 74s 592ms/step - loss: 0.3923 - acc: 0.8220\n",
      "Epoch 7/10\n",
      "125/125 [==============================] - 74s 592ms/step - loss: 0.3684 - acc: 0.8423\n",
      "Epoch 8/10\n",
      "125/125 [==============================] - 74s 590ms/step - loss: 0.3162 - acc: 0.8594\n",
      "Epoch 9/10\n",
      "125/125 [==============================] - 74s 590ms/step - loss: 0.2684 - acc: 0.8853\n",
      "Epoch 10/10\n",
      "125/125 [==============================] - 74s 589ms/step - loss: 0.2430 - acc: 0.8969\n"
     ]
    },
    {
     "data": {
      "text/plain": [
       "<keras.callbacks.History at 0x7f8d6ec88290>"
      ]
     },
     "execution_count": 12,
     "metadata": {},
     "output_type": "execute_result"
    }
   ],
   "source": [
    "best_combination_irony = ([(128, True, 0.5), (64, True, 0.2), (16, False, 0.0)], 'binary_crossentropy', 10)\n",
    "model_irony = get_bert_gru_classifier(hidden_layers = best_combination_irony[0])\n",
    "model_irony.compile(loss=best_combination_irony[1], optimizer='adam', metrics =['acc'])\n",
    "early_stopping_cb = tf.keras.callbacks.EarlyStopping(patience=3, restore_best_weights=True, monitor='val_loss')\n",
    "\n",
    "model_irony.fit(x = (x_train[0], x_train[1]), y = np.asarray(y_train['irony']), epochs=best_combination_irony[2], verbose = 1, callbacks=[early_stopping_cb])"
   ]
  },
  {
   "cell_type": "code",
   "execution_count": null,
   "metadata": {
    "colab": {
     "base_uri": "https://localhost:8080/"
    },
    "id": "WqJYAGTebK8J",
    "outputId": "8b8c7c58-f2bb-43b4-a9d7-088a9efd6874"
   },
   "outputs": [
    {
     "name": "stderr",
     "output_type": "stream",
     "text": [
      "Some layers from the model checkpoint at dbmdz/bert-base-italian-xxl-cased were not used when initializing TFBertModel: ['mlm___cls', 'nsp___cls']\n",
      "- This IS expected if you are initializing TFBertModel from the checkpoint of a model trained on another task or with another architecture (e.g. initializing a BertForSequenceClassification model from a BertForPreTraining model).\n",
      "- This IS NOT expected if you are initializing TFBertModel from the checkpoint of a model that you expect to be exactly identical (initializing a BertForSequenceClassification model from a BertForSequenceClassification model).\n",
      "All the layers of TFBertModel were initialized from the model checkpoint at dbmdz/bert-base-italian-xxl-cased.\n",
      "If your task is similar to the task the model of the checkpoint was trained on, you can already use TFBertModel for predictions without further training.\n"
     ]
    },
    {
     "name": "stdout",
     "output_type": "stream",
     "text": [
      "Epoch 1/10\n",
      "125/125 [==============================] - 88s 569ms/step - loss: 0.5350 - acc: 0.7576\n",
      "Epoch 2/10\n",
      "125/125 [==============================] - 72s 572ms/step - loss: 0.5032 - acc: 0.7667\n",
      "Epoch 3/10\n",
      "125/125 [==============================] - 71s 571ms/step - loss: 0.4804 - acc: 0.7740\n",
      "Epoch 4/10\n",
      "125/125 [==============================] - 72s 574ms/step - loss: 0.4549 - acc: 0.7888\n",
      "Epoch 5/10\n",
      "125/125 [==============================] - 72s 573ms/step - loss: 0.4480 - acc: 0.7956\n",
      "Epoch 6/10\n",
      "125/125 [==============================] - 71s 572ms/step - loss: 0.4282 - acc: 0.7956\n",
      "Epoch 7/10\n",
      "125/125 [==============================] - 71s 572ms/step - loss: 0.4004 - acc: 0.8177\n",
      "Epoch 8/10\n",
      "125/125 [==============================] - 71s 572ms/step - loss: 0.3724 - acc: 0.8298\n",
      "Epoch 9/10\n",
      "125/125 [==============================] - 72s 574ms/step - loss: 0.3330 - acc: 0.8476\n",
      "Epoch 10/10\n",
      "125/125 [==============================] - 72s 572ms/step - loss: 0.3027 - acc: 0.8682\n"
     ]
    },
    {
     "data": {
      "text/plain": [
       "<keras.callbacks.History at 0x7f8d436a6590>"
      ]
     },
     "execution_count": 13,
     "metadata": {},
     "output_type": "execute_result"
    }
   ],
   "source": [
    "best_combination_sarcasm = ([(128, True, 0.5), (32, False, 0.2)], 'binary_crossentropy', 10)\n",
    "model_sarcasm = get_bert_gru_classifier(hidden_layers = best_combination_sarcasm[0])\n",
    "model_sarcasm.compile(loss=best_combination_sarcasm[1], optimizer='adam', metrics =['acc'])\n",
    "early_stopping_cb = tf.keras.callbacks.EarlyStopping(patience=3, restore_best_weights=True, monitor='val_loss')\n",
    "\n",
    "model_sarcasm.fit(x = (x_train[0], x_train[1]), y = np.asarray(y_train['sarcasm']), epochs=best_combination_sarcasm[2], verbose = 1, callbacks=[early_stopping_cb])"
   ]
  },
  {
   "cell_type": "code",
   "execution_count": null,
   "metadata": {
    "colab": {
     "base_uri": "https://localhost:8080/"
    },
    "id": "0xdqKMcTbK-e",
    "outputId": "d9e55737-5877-455a-a629-cb7cea34853c"
   },
   "outputs": [
    {
     "name": "stdout",
     "output_type": "stream",
     "text": [
      "F1 Average Task A\n",
      "0.7052438304202404\n",
      "F1 Average Task B\n",
      "0.49626910207369246\n"
     ]
    }
   ],
   "source": [
    "from custom_metrics import model_test, computePerformanceTaskB_2model\n",
    "print(\"F1 Average Task A\")\n",
    "print(model_test(model_irony, x_test, y_test['irony']))\n",
    "print(\"F1 Average Task B\")\n",
    "print(computePerformanceTaskB_2model(model_irony, model_sarcasm, x_test, y_test))"
   ]
  },
  {
   "cell_type": "markdown",
   "metadata": {
    "id": "C9lWRVNibLBJ"
   },
   "source": []
  },
  {
   "cell_type": "code",
   "execution_count": null,
   "metadata": {
    "colab": {
     "base_uri": "https://localhost:8080/"
    },
    "id": "S6TvsNyILPWu",
    "outputId": "df656dc1-cb27-4d06-f337-19c68be3f85e"
   },
   "outputs": [],
   "source": []
  },
  {
   "cell_type": "code",
   "execution_count": null,
   "metadata": {
    "colab": {
     "base_uri": "https://localhost:8080/"
    },
    "id": "9NR_lqRrbewB",
    "outputId": "57232b35-ecda-453f-d748-7bb9e9ed3c8c"
   },
   "outputs": [],
   "source": []
  },
  {
   "cell_type": "code",
   "execution_count": null,
   "metadata": {
    "colab": {
     "base_uri": "https://localhost:8080/",
     "height": 17
    },
    "id": "qQu6Nh86a5Rq",
    "outputId": "87c02df0-addf-431d-f863-0b07810f1848"
   },
   "outputs": [],
   "source": []
  }
 ],
 "metadata": {
  "accelerator": "GPU",
  "colab": {
   "collapsed_sections": [],
   "name": "1outGRU_gs_test_.ipynb",
   "provenance": []
  },
  "kernelspec": {
   "display_name": "Python 3",
   "language": "python",
   "name": "python3"
  },
  "language_info": {
   "codemirror_mode": {
    "name": "ipython",
    "version": 3
   },
   "file_extension": ".py",
   "mimetype": "text/x-python",
   "name": "python",
   "nbconvert_exporter": "python",
   "pygments_lexer": "ipython3",
   "version": "3.8.8"
  },
  "widgets": {
   "application/vnd.jupyter.widget-state+json": {
    "00998cea228c4b7f80a577017869f744": {
     "model_module": "@jupyter-widgets/base",
     "model_module_version": "1.2.0",
     "model_name": "LayoutModel",
     "state": {
      "_model_module": "@jupyter-widgets/base",
      "_model_module_version": "1.2.0",
      "_model_name": "LayoutModel",
      "_view_count": null,
      "_view_module": "@jupyter-widgets/base",
      "_view_module_version": "1.2.0",
      "_view_name": "LayoutView",
      "align_content": null,
      "align_items": null,
      "align_self": null,
      "border": null,
      "bottom": null,
      "display": null,
      "flex": null,
      "flex_flow": null,
      "grid_area": null,
      "grid_auto_columns": null,
      "grid_auto_flow": null,
      "grid_auto_rows": null,
      "grid_column": null,
      "grid_gap": null,
      "grid_row": null,
      "grid_template_areas": null,
      "grid_template_columns": null,
      "grid_template_rows": null,
      "height": null,
      "justify_content": null,
      "justify_items": null,
      "left": null,
      "margin": null,
      "max_height": null,
      "max_width": null,
      "min_height": null,
      "min_width": null,
      "object_fit": null,
      "object_position": null,
      "order": null,
      "overflow": null,
      "overflow_x": null,
      "overflow_y": null,
      "padding": null,
      "right": null,
      "top": null,
      "visibility": null,
      "width": null
     }
    },
    "09283bc2b34947fb996c8a2f9ac607b0": {
     "model_module": "@jupyter-widgets/controls",
     "model_module_version": "1.5.0",
     "model_name": "HTMLModel",
     "state": {
      "_dom_classes": [],
      "_model_module": "@jupyter-widgets/controls",
      "_model_module_version": "1.5.0",
      "_model_name": "HTMLModel",
      "_view_count": null,
      "_view_module": "@jupyter-widgets/controls",
      "_view_module_version": "1.5.0",
      "_view_name": "HTMLView",
      "description": "",
      "description_tooltip": null,
      "layout": "IPY_MODEL_ec5edb9ce30540028d51597c5ad526be",
      "placeholder": "​",
      "style": "IPY_MODEL_f63a4dc736e54f9d9847b102c9562581",
      "value": "Downloading: 100%"
     }
    },
    "0d0ad01661bf40d88ccc97cd78e3a23c": {
     "model_module": "@jupyter-widgets/controls",
     "model_module_version": "1.5.0",
     "model_name": "DescriptionStyleModel",
     "state": {
      "_model_module": "@jupyter-widgets/controls",
      "_model_module_version": "1.5.0",
      "_model_name": "DescriptionStyleModel",
      "_view_count": null,
      "_view_module": "@jupyter-widgets/base",
      "_view_module_version": "1.2.0",
      "_view_name": "StyleView",
      "description_width": ""
     }
    },
    "0e650073130c4f3e91bba14065f47d95": {
     "model_module": "@jupyter-widgets/controls",
     "model_module_version": "1.5.0",
     "model_name": "ProgressStyleModel",
     "state": {
      "_model_module": "@jupyter-widgets/controls",
      "_model_module_version": "1.5.0",
      "_model_name": "ProgressStyleModel",
      "_view_count": null,
      "_view_module": "@jupyter-widgets/base",
      "_view_module_version": "1.2.0",
      "_view_name": "StyleView",
      "bar_color": null,
      "description_width": ""
     }
    },
    "1c6a7c3c57644c408e1d4ede39cdec6d": {
     "model_module": "@jupyter-widgets/base",
     "model_module_version": "1.2.0",
     "model_name": "LayoutModel",
     "state": {
      "_model_module": "@jupyter-widgets/base",
      "_model_module_version": "1.2.0",
      "_model_name": "LayoutModel",
      "_view_count": null,
      "_view_module": "@jupyter-widgets/base",
      "_view_module_version": "1.2.0",
      "_view_name": "LayoutView",
      "align_content": null,
      "align_items": null,
      "align_self": null,
      "border": null,
      "bottom": null,
      "display": null,
      "flex": null,
      "flex_flow": null,
      "grid_area": null,
      "grid_auto_columns": null,
      "grid_auto_flow": null,
      "grid_auto_rows": null,
      "grid_column": null,
      "grid_gap": null,
      "grid_row": null,
      "grid_template_areas": null,
      "grid_template_columns": null,
      "grid_template_rows": null,
      "height": null,
      "justify_content": null,
      "justify_items": null,
      "left": null,
      "margin": null,
      "max_height": null,
      "max_width": null,
      "min_height": null,
      "min_width": null,
      "object_fit": null,
      "object_position": null,
      "order": null,
      "overflow": null,
      "overflow_x": null,
      "overflow_y": null,
      "padding": null,
      "right": null,
      "top": null,
      "visibility": null,
      "width": null
     }
    },
    "1e8b51b61dcb4d18be2884ac48fa41f5": {
     "model_module": "@jupyter-widgets/controls",
     "model_module_version": "1.5.0",
     "model_name": "HTMLModel",
     "state": {
      "_dom_classes": [],
      "_model_module": "@jupyter-widgets/controls",
      "_model_module_version": "1.5.0",
      "_model_name": "HTMLModel",
      "_view_count": null,
      "_view_module": "@jupyter-widgets/controls",
      "_view_module_version": "1.5.0",
      "_view_name": "HTMLView",
      "description": "",
      "description_tooltip": null,
      "layout": "IPY_MODEL_c0436339c77a4a6fba19f47ffb16c2a0",
      "placeholder": "​",
      "style": "IPY_MODEL_8c49b37a4631442bb4e651e7ae1604b6",
      "value": " 230k/230k [00:00&lt;00:00, 681kB/s]"
     }
    },
    "1ff6ec891bc84862b705cf70a87deec3": {
     "model_module": "@jupyter-widgets/base",
     "model_module_version": "1.2.0",
     "model_name": "LayoutModel",
     "state": {
      "_model_module": "@jupyter-widgets/base",
      "_model_module_version": "1.2.0",
      "_model_name": "LayoutModel",
      "_view_count": null,
      "_view_module": "@jupyter-widgets/base",
      "_view_module_version": "1.2.0",
      "_view_name": "LayoutView",
      "align_content": null,
      "align_items": null,
      "align_self": null,
      "border": null,
      "bottom": null,
      "display": null,
      "flex": null,
      "flex_flow": null,
      "grid_area": null,
      "grid_auto_columns": null,
      "grid_auto_flow": null,
      "grid_auto_rows": null,
      "grid_column": null,
      "grid_gap": null,
      "grid_row": null,
      "grid_template_areas": null,
      "grid_template_columns": null,
      "grid_template_rows": null,
      "height": null,
      "justify_content": null,
      "justify_items": null,
      "left": null,
      "margin": null,
      "max_height": null,
      "max_width": null,
      "min_height": null,
      "min_width": null,
      "object_fit": null,
      "object_position": null,
      "order": null,
      "overflow": null,
      "overflow_x": null,
      "overflow_y": null,
      "padding": null,
      "right": null,
      "top": null,
      "visibility": null,
      "width": null
     }
    },
    "2362ce961bdd401ebff0b900ddf4e6f7": {
     "model_module": "@jupyter-widgets/base",
     "model_module_version": "1.2.0",
     "model_name": "LayoutModel",
     "state": {
      "_model_module": "@jupyter-widgets/base",
      "_model_module_version": "1.2.0",
      "_model_name": "LayoutModel",
      "_view_count": null,
      "_view_module": "@jupyter-widgets/base",
      "_view_module_version": "1.2.0",
      "_view_name": "LayoutView",
      "align_content": null,
      "align_items": null,
      "align_self": null,
      "border": null,
      "bottom": null,
      "display": null,
      "flex": null,
      "flex_flow": null,
      "grid_area": null,
      "grid_auto_columns": null,
      "grid_auto_flow": null,
      "grid_auto_rows": null,
      "grid_column": null,
      "grid_gap": null,
      "grid_row": null,
      "grid_template_areas": null,
      "grid_template_columns": null,
      "grid_template_rows": null,
      "height": null,
      "justify_content": null,
      "justify_items": null,
      "left": null,
      "margin": null,
      "max_height": null,
      "max_width": null,
      "min_height": null,
      "min_width": null,
      "object_fit": null,
      "object_position": null,
      "order": null,
      "overflow": null,
      "overflow_x": null,
      "overflow_y": null,
      "padding": null,
      "right": null,
      "top": null,
      "visibility": null,
      "width": null
     }
    },
    "23ebf567fc8145ad9c96643e0e9f1bf2": {
     "model_module": "@jupyter-widgets/controls",
     "model_module_version": "1.5.0",
     "model_name": "DescriptionStyleModel",
     "state": {
      "_model_module": "@jupyter-widgets/controls",
      "_model_module_version": "1.5.0",
      "_model_name": "DescriptionStyleModel",
      "_view_count": null,
      "_view_module": "@jupyter-widgets/base",
      "_view_module_version": "1.2.0",
      "_view_name": "StyleView",
      "description_width": ""
     }
    },
    "2791d2314a0a438ea8efeda8c34363a8": {
     "model_module": "@jupyter-widgets/controls",
     "model_module_version": "1.5.0",
     "model_name": "HTMLModel",
     "state": {
      "_dom_classes": [],
      "_model_module": "@jupyter-widgets/controls",
      "_model_module_version": "1.5.0",
      "_model_name": "HTMLModel",
      "_view_count": null,
      "_view_module": "@jupyter-widgets/controls",
      "_view_module_version": "1.5.0",
      "_view_name": "HTMLView",
      "description": "",
      "description_tooltip": null,
      "layout": "IPY_MODEL_4f8c5fcd516e410ab5d97024417d8a1f",
      "placeholder": "​",
      "style": "IPY_MODEL_23ebf567fc8145ad9c96643e0e9f1bf2",
      "value": "Downloading: 100%"
     }
    },
    "2820309404c1449ea88dcced2469ba71": {
     "model_module": "@jupyter-widgets/controls",
     "model_module_version": "1.5.0",
     "model_name": "DescriptionStyleModel",
     "state": {
      "_model_module": "@jupyter-widgets/controls",
      "_model_module_version": "1.5.0",
      "_model_name": "DescriptionStyleModel",
      "_view_count": null,
      "_view_module": "@jupyter-widgets/base",
      "_view_module_version": "1.2.0",
      "_view_name": "StyleView",
      "description_width": ""
     }
    },
    "293ae5944ec54a80b2e8fffe55056a6f": {
     "model_module": "@jupyter-widgets/controls",
     "model_module_version": "1.5.0",
     "model_name": "FloatProgressModel",
     "state": {
      "_dom_classes": [],
      "_model_module": "@jupyter-widgets/controls",
      "_model_module_version": "1.5.0",
      "_model_name": "FloatProgressModel",
      "_view_count": null,
      "_view_module": "@jupyter-widgets/controls",
      "_view_module_version": "1.5.0",
      "_view_name": "ProgressView",
      "bar_style": "success",
      "description": "",
      "description_tooltip": null,
      "layout": "IPY_MODEL_00998cea228c4b7f80a577017869f744",
      "max": 545777488,
      "min": 0,
      "orientation": "horizontal",
      "style": "IPY_MODEL_0e650073130c4f3e91bba14065f47d95",
      "value": 545777488
     }
    },
    "2f88035947b24eecb9c73d89098588ac": {
     "model_module": "@jupyter-widgets/base",
     "model_module_version": "1.2.0",
     "model_name": "LayoutModel",
     "state": {
      "_model_module": "@jupyter-widgets/base",
      "_model_module_version": "1.2.0",
      "_model_name": "LayoutModel",
      "_view_count": null,
      "_view_module": "@jupyter-widgets/base",
      "_view_module_version": "1.2.0",
      "_view_name": "LayoutView",
      "align_content": null,
      "align_items": null,
      "align_self": null,
      "border": null,
      "bottom": null,
      "display": null,
      "flex": null,
      "flex_flow": null,
      "grid_area": null,
      "grid_auto_columns": null,
      "grid_auto_flow": null,
      "grid_auto_rows": null,
      "grid_column": null,
      "grid_gap": null,
      "grid_row": null,
      "grid_template_areas": null,
      "grid_template_columns": null,
      "grid_template_rows": null,
      "height": null,
      "justify_content": null,
      "justify_items": null,
      "left": null,
      "margin": null,
      "max_height": null,
      "max_width": null,
      "min_height": null,
      "min_width": null,
      "object_fit": null,
      "object_position": null,
      "order": null,
      "overflow": null,
      "overflow_x": null,
      "overflow_y": null,
      "padding": null,
      "right": null,
      "top": null,
      "visibility": null,
      "width": null
     }
    },
    "3c6efb38a9a648358eff4da91d20104b": {
     "model_module": "@jupyter-widgets/base",
     "model_module_version": "1.2.0",
     "model_name": "LayoutModel",
     "state": {
      "_model_module": "@jupyter-widgets/base",
      "_model_module_version": "1.2.0",
      "_model_name": "LayoutModel",
      "_view_count": null,
      "_view_module": "@jupyter-widgets/base",
      "_view_module_version": "1.2.0",
      "_view_name": "LayoutView",
      "align_content": null,
      "align_items": null,
      "align_self": null,
      "border": null,
      "bottom": null,
      "display": null,
      "flex": null,
      "flex_flow": null,
      "grid_area": null,
      "grid_auto_columns": null,
      "grid_auto_flow": null,
      "grid_auto_rows": null,
      "grid_column": null,
      "grid_gap": null,
      "grid_row": null,
      "grid_template_areas": null,
      "grid_template_columns": null,
      "grid_template_rows": null,
      "height": null,
      "justify_content": null,
      "justify_items": null,
      "left": null,
      "margin": null,
      "max_height": null,
      "max_width": null,
      "min_height": null,
      "min_width": null,
      "object_fit": null,
      "object_position": null,
      "order": null,
      "overflow": null,
      "overflow_x": null,
      "overflow_y": null,
      "padding": null,
      "right": null,
      "top": null,
      "visibility": null,
      "width": null
     }
    },
    "3e567438e70b4b1993541ceccffdb357": {
     "model_module": "@jupyter-widgets/controls",
     "model_module_version": "1.5.0",
     "model_name": "FloatProgressModel",
     "state": {
      "_dom_classes": [],
      "_model_module": "@jupyter-widgets/controls",
      "_model_module_version": "1.5.0",
      "_model_name": "FloatProgressModel",
      "_view_count": null,
      "_view_module": "@jupyter-widgets/controls",
      "_view_module_version": "1.5.0",
      "_view_name": "ProgressView",
      "bar_style": "success",
      "description": "",
      "description_tooltip": null,
      "layout": "IPY_MODEL_42885140cf154b47adae149db878193c",
      "max": 59,
      "min": 0,
      "orientation": "horizontal",
      "style": "IPY_MODEL_e735afdf74354bb4ae754c8bcff08f7a",
      "value": 59
     }
    },
    "42885140cf154b47adae149db878193c": {
     "model_module": "@jupyter-widgets/base",
     "model_module_version": "1.2.0",
     "model_name": "LayoutModel",
     "state": {
      "_model_module": "@jupyter-widgets/base",
      "_model_module_version": "1.2.0",
      "_model_name": "LayoutModel",
      "_view_count": null,
      "_view_module": "@jupyter-widgets/base",
      "_view_module_version": "1.2.0",
      "_view_name": "LayoutView",
      "align_content": null,
      "align_items": null,
      "align_self": null,
      "border": null,
      "bottom": null,
      "display": null,
      "flex": null,
      "flex_flow": null,
      "grid_area": null,
      "grid_auto_columns": null,
      "grid_auto_flow": null,
      "grid_auto_rows": null,
      "grid_column": null,
      "grid_gap": null,
      "grid_row": null,
      "grid_template_areas": null,
      "grid_template_columns": null,
      "grid_template_rows": null,
      "height": null,
      "justify_content": null,
      "justify_items": null,
      "left": null,
      "margin": null,
      "max_height": null,
      "max_width": null,
      "min_height": null,
      "min_width": null,
      "object_fit": null,
      "object_position": null,
      "order": null,
      "overflow": null,
      "overflow_x": null,
      "overflow_y": null,
      "padding": null,
      "right": null,
      "top": null,
      "visibility": null,
      "width": null
     }
    },
    "447d99647fc9425496fa81e66b1fed5a": {
     "model_module": "@jupyter-widgets/controls",
     "model_module_version": "1.5.0",
     "model_name": "DescriptionStyleModel",
     "state": {
      "_model_module": "@jupyter-widgets/controls",
      "_model_module_version": "1.5.0",
      "_model_name": "DescriptionStyleModel",
      "_view_count": null,
      "_view_module": "@jupyter-widgets/base",
      "_view_module_version": "1.2.0",
      "_view_name": "StyleView",
      "description_width": ""
     }
    },
    "4830f6bd449447518a5779284966938f": {
     "model_module": "@jupyter-widgets/base",
     "model_module_version": "1.2.0",
     "model_name": "LayoutModel",
     "state": {
      "_model_module": "@jupyter-widgets/base",
      "_model_module_version": "1.2.0",
      "_model_name": "LayoutModel",
      "_view_count": null,
      "_view_module": "@jupyter-widgets/base",
      "_view_module_version": "1.2.0",
      "_view_name": "LayoutView",
      "align_content": null,
      "align_items": null,
      "align_self": null,
      "border": null,
      "bottom": null,
      "display": null,
      "flex": null,
      "flex_flow": null,
      "grid_area": null,
      "grid_auto_columns": null,
      "grid_auto_flow": null,
      "grid_auto_rows": null,
      "grid_column": null,
      "grid_gap": null,
      "grid_row": null,
      "grid_template_areas": null,
      "grid_template_columns": null,
      "grid_template_rows": null,
      "height": null,
      "justify_content": null,
      "justify_items": null,
      "left": null,
      "margin": null,
      "max_height": null,
      "max_width": null,
      "min_height": null,
      "min_width": null,
      "object_fit": null,
      "object_position": null,
      "order": null,
      "overflow": null,
      "overflow_x": null,
      "overflow_y": null,
      "padding": null,
      "right": null,
      "top": null,
      "visibility": null,
      "width": null
     }
    },
    "4f8c5fcd516e410ab5d97024417d8a1f": {
     "model_module": "@jupyter-widgets/base",
     "model_module_version": "1.2.0",
     "model_name": "LayoutModel",
     "state": {
      "_model_module": "@jupyter-widgets/base",
      "_model_module_version": "1.2.0",
      "_model_name": "LayoutModel",
      "_view_count": null,
      "_view_module": "@jupyter-widgets/base",
      "_view_module_version": "1.2.0",
      "_view_name": "LayoutView",
      "align_content": null,
      "align_items": null,
      "align_self": null,
      "border": null,
      "bottom": null,
      "display": null,
      "flex": null,
      "flex_flow": null,
      "grid_area": null,
      "grid_auto_columns": null,
      "grid_auto_flow": null,
      "grid_auto_rows": null,
      "grid_column": null,
      "grid_gap": null,
      "grid_row": null,
      "grid_template_areas": null,
      "grid_template_columns": null,
      "grid_template_rows": null,
      "height": null,
      "justify_content": null,
      "justify_items": null,
      "left": null,
      "margin": null,
      "max_height": null,
      "max_width": null,
      "min_height": null,
      "min_width": null,
      "object_fit": null,
      "object_position": null,
      "order": null,
      "overflow": null,
      "overflow_x": null,
      "overflow_y": null,
      "padding": null,
      "right": null,
      "top": null,
      "visibility": null,
      "width": null
     }
    },
    "50224341d4d4433a928af6b5dd307bd3": {
     "model_module": "@jupyter-widgets/controls",
     "model_module_version": "1.5.0",
     "model_name": "HTMLModel",
     "state": {
      "_dom_classes": [],
      "_model_module": "@jupyter-widgets/controls",
      "_model_module_version": "1.5.0",
      "_model_name": "HTMLModel",
      "_view_count": null,
      "_view_module": "@jupyter-widgets/controls",
      "_view_module_version": "1.5.0",
      "_view_name": "HTMLView",
      "description": "",
      "description_tooltip": null,
      "layout": "IPY_MODEL_1c6a7c3c57644c408e1d4ede39cdec6d",
      "placeholder": "​",
      "style": "IPY_MODEL_2820309404c1449ea88dcced2469ba71",
      "value": "Downloading: 100%"
     }
    },
    "5967025d603a4fac887b9d258753bc1f": {
     "model_module": "@jupyter-widgets/base",
     "model_module_version": "1.2.0",
     "model_name": "LayoutModel",
     "state": {
      "_model_module": "@jupyter-widgets/base",
      "_model_module_version": "1.2.0",
      "_model_name": "LayoutModel",
      "_view_count": null,
      "_view_module": "@jupyter-widgets/base",
      "_view_module_version": "1.2.0",
      "_view_name": "LayoutView",
      "align_content": null,
      "align_items": null,
      "align_self": null,
      "border": null,
      "bottom": null,
      "display": null,
      "flex": null,
      "flex_flow": null,
      "grid_area": null,
      "grid_auto_columns": null,
      "grid_auto_flow": null,
      "grid_auto_rows": null,
      "grid_column": null,
      "grid_gap": null,
      "grid_row": null,
      "grid_template_areas": null,
      "grid_template_columns": null,
      "grid_template_rows": null,
      "height": null,
      "justify_content": null,
      "justify_items": null,
      "left": null,
      "margin": null,
      "max_height": null,
      "max_width": null,
      "min_height": null,
      "min_width": null,
      "object_fit": null,
      "object_position": null,
      "order": null,
      "overflow": null,
      "overflow_x": null,
      "overflow_y": null,
      "padding": null,
      "right": null,
      "top": null,
      "visibility": null,
      "width": null
     }
    },
    "6244ebfa77f34b04b9230aa3e882b460": {
     "model_module": "@jupyter-widgets/controls",
     "model_module_version": "1.5.0",
     "model_name": "HBoxModel",
     "state": {
      "_dom_classes": [],
      "_model_module": "@jupyter-widgets/controls",
      "_model_module_version": "1.5.0",
      "_model_name": "HBoxModel",
      "_view_count": null,
      "_view_module": "@jupyter-widgets/controls",
      "_view_module_version": "1.5.0",
      "_view_name": "HBoxView",
      "box_style": "",
      "children": [
       "IPY_MODEL_2791d2314a0a438ea8efeda8c34363a8",
       "IPY_MODEL_745a05fbec2841c79d545d70a2ec4c1b",
       "IPY_MODEL_1e8b51b61dcb4d18be2884ac48fa41f5"
      ],
      "layout": "IPY_MODEL_6a8e296f4e6a4099a5e0765897d1beb9"
     }
    },
    "6a8e296f4e6a4099a5e0765897d1beb9": {
     "model_module": "@jupyter-widgets/base",
     "model_module_version": "1.2.0",
     "model_name": "LayoutModel",
     "state": {
      "_model_module": "@jupyter-widgets/base",
      "_model_module_version": "1.2.0",
      "_model_name": "LayoutModel",
      "_view_count": null,
      "_view_module": "@jupyter-widgets/base",
      "_view_module_version": "1.2.0",
      "_view_name": "LayoutView",
      "align_content": null,
      "align_items": null,
      "align_self": null,
      "border": null,
      "bottom": null,
      "display": null,
      "flex": null,
      "flex_flow": null,
      "grid_area": null,
      "grid_auto_columns": null,
      "grid_auto_flow": null,
      "grid_auto_rows": null,
      "grid_column": null,
      "grid_gap": null,
      "grid_row": null,
      "grid_template_areas": null,
      "grid_template_columns": null,
      "grid_template_rows": null,
      "height": null,
      "justify_content": null,
      "justify_items": null,
      "left": null,
      "margin": null,
      "max_height": null,
      "max_width": null,
      "min_height": null,
      "min_width": null,
      "object_fit": null,
      "object_position": null,
      "order": null,
      "overflow": null,
      "overflow_x": null,
      "overflow_y": null,
      "padding": null,
      "right": null,
      "top": null,
      "visibility": null,
      "width": null
     }
    },
    "745a05fbec2841c79d545d70a2ec4c1b": {
     "model_module": "@jupyter-widgets/controls",
     "model_module_version": "1.5.0",
     "model_name": "FloatProgressModel",
     "state": {
      "_dom_classes": [],
      "_model_module": "@jupyter-widgets/controls",
      "_model_module_version": "1.5.0",
      "_model_name": "FloatProgressModel",
      "_view_count": null,
      "_view_module": "@jupyter-widgets/controls",
      "_view_module_version": "1.5.0",
      "_view_name": "ProgressView",
      "bar_style": "success",
      "description": "",
      "description_tooltip": null,
      "layout": "IPY_MODEL_afaec04dfe2944c4977f54ad9207cc6f",
      "max": 235127,
      "min": 0,
      "orientation": "horizontal",
      "style": "IPY_MODEL_a3874e05ce7943b1ae1501d7f95ccfc5",
      "value": 235127
     }
    },
    "8099e453f25443c8a60f3a103076a89a": {
     "model_module": "@jupyter-widgets/controls",
     "model_module_version": "1.5.0",
     "model_name": "HBoxModel",
     "state": {
      "_dom_classes": [],
      "_model_module": "@jupyter-widgets/controls",
      "_model_module_version": "1.5.0",
      "_model_name": "HBoxModel",
      "_view_count": null,
      "_view_module": "@jupyter-widgets/controls",
      "_view_module_version": "1.5.0",
      "_view_name": "HBoxView",
      "box_style": "",
      "children": [
       "IPY_MODEL_09283bc2b34947fb996c8a2f9ac607b0",
       "IPY_MODEL_f38c109021974c7480327710ee766e05",
       "IPY_MODEL_9970f61360ec4163a36326d42e081dd6"
      ],
      "layout": "IPY_MODEL_4830f6bd449447518a5779284966938f"
     }
    },
    "83460774557b459ba330f3f88bfb3a50": {
     "model_module": "@jupyter-widgets/controls",
     "model_module_version": "1.5.0",
     "model_name": "ProgressStyleModel",
     "state": {
      "_model_module": "@jupyter-widgets/controls",
      "_model_module_version": "1.5.0",
      "_model_name": "ProgressStyleModel",
      "_view_count": null,
      "_view_module": "@jupyter-widgets/base",
      "_view_module_version": "1.2.0",
      "_view_name": "StyleView",
      "bar_color": null,
      "description_width": ""
     }
    },
    "8c49b37a4631442bb4e651e7ae1604b6": {
     "model_module": "@jupyter-widgets/controls",
     "model_module_version": "1.5.0",
     "model_name": "DescriptionStyleModel",
     "state": {
      "_model_module": "@jupyter-widgets/controls",
      "_model_module_version": "1.5.0",
      "_model_name": "DescriptionStyleModel",
      "_view_count": null,
      "_view_module": "@jupyter-widgets/base",
      "_view_module_version": "1.2.0",
      "_view_name": "StyleView",
      "description_width": ""
     }
    },
    "8efb1156c0274688a3a9bd834d5cd22b": {
     "model_module": "@jupyter-widgets/base",
     "model_module_version": "1.2.0",
     "model_name": "LayoutModel",
     "state": {
      "_model_module": "@jupyter-widgets/base",
      "_model_module_version": "1.2.0",
      "_model_name": "LayoutModel",
      "_view_count": null,
      "_view_module": "@jupyter-widgets/base",
      "_view_module_version": "1.2.0",
      "_view_name": "LayoutView",
      "align_content": null,
      "align_items": null,
      "align_self": null,
      "border": null,
      "bottom": null,
      "display": null,
      "flex": null,
      "flex_flow": null,
      "grid_area": null,
      "grid_auto_columns": null,
      "grid_auto_flow": null,
      "grid_auto_rows": null,
      "grid_column": null,
      "grid_gap": null,
      "grid_row": null,
      "grid_template_areas": null,
      "grid_template_columns": null,
      "grid_template_rows": null,
      "height": null,
      "justify_content": null,
      "justify_items": null,
      "left": null,
      "margin": null,
      "max_height": null,
      "max_width": null,
      "min_height": null,
      "min_width": null,
      "object_fit": null,
      "object_position": null,
      "order": null,
      "overflow": null,
      "overflow_x": null,
      "overflow_y": null,
      "padding": null,
      "right": null,
      "top": null,
      "visibility": null,
      "width": null
     }
    },
    "9970f61360ec4163a36326d42e081dd6": {
     "model_module": "@jupyter-widgets/controls",
     "model_module_version": "1.5.0",
     "model_name": "HTMLModel",
     "state": {
      "_dom_classes": [],
      "_model_module": "@jupyter-widgets/controls",
      "_model_module_version": "1.5.0",
      "_model_name": "HTMLModel",
      "_view_count": null,
      "_view_module": "@jupyter-widgets/controls",
      "_view_module_version": "1.5.0",
      "_view_name": "HTMLView",
      "description": "",
      "description_tooltip": null,
      "layout": "IPY_MODEL_1ff6ec891bc84862b705cf70a87deec3",
      "placeholder": "​",
      "style": "IPY_MODEL_0d0ad01661bf40d88ccc97cd78e3a23c",
      "value": " 433/433 [00:00&lt;00:00, 7.17kB/s]"
     }
    },
    "9e8328130f0540d2a0abbaad457a15bc": {
     "model_module": "@jupyter-widgets/controls",
     "model_module_version": "1.5.0",
     "model_name": "HBoxModel",
     "state": {
      "_dom_classes": [],
      "_model_module": "@jupyter-widgets/controls",
      "_model_module_version": "1.5.0",
      "_model_name": "HBoxModel",
      "_view_count": null,
      "_view_module": "@jupyter-widgets/controls",
      "_view_module_version": "1.5.0",
      "_view_name": "HBoxView",
      "box_style": "",
      "children": [
       "IPY_MODEL_50224341d4d4433a928af6b5dd307bd3",
       "IPY_MODEL_3e567438e70b4b1993541ceccffdb357",
       "IPY_MODEL_edeaa0f2ec43410bbbbce406a6af2dd9"
      ],
      "layout": "IPY_MODEL_2f88035947b24eecb9c73d89098588ac"
     }
    },
    "a3874e05ce7943b1ae1501d7f95ccfc5": {
     "model_module": "@jupyter-widgets/controls",
     "model_module_version": "1.5.0",
     "model_name": "ProgressStyleModel",
     "state": {
      "_model_module": "@jupyter-widgets/controls",
      "_model_module_version": "1.5.0",
      "_model_name": "ProgressStyleModel",
      "_view_count": null,
      "_view_module": "@jupyter-widgets/base",
      "_view_module_version": "1.2.0",
      "_view_name": "StyleView",
      "bar_color": null,
      "description_width": ""
     }
    },
    "afaec04dfe2944c4977f54ad9207cc6f": {
     "model_module": "@jupyter-widgets/base",
     "model_module_version": "1.2.0",
     "model_name": "LayoutModel",
     "state": {
      "_model_module": "@jupyter-widgets/base",
      "_model_module_version": "1.2.0",
      "_model_name": "LayoutModel",
      "_view_count": null,
      "_view_module": "@jupyter-widgets/base",
      "_view_module_version": "1.2.0",
      "_view_name": "LayoutView",
      "align_content": null,
      "align_items": null,
      "align_self": null,
      "border": null,
      "bottom": null,
      "display": null,
      "flex": null,
      "flex_flow": null,
      "grid_area": null,
      "grid_auto_columns": null,
      "grid_auto_flow": null,
      "grid_auto_rows": null,
      "grid_column": null,
      "grid_gap": null,
      "grid_row": null,
      "grid_template_areas": null,
      "grid_template_columns": null,
      "grid_template_rows": null,
      "height": null,
      "justify_content": null,
      "justify_items": null,
      "left": null,
      "margin": null,
      "max_height": null,
      "max_width": null,
      "min_height": null,
      "min_width": null,
      "object_fit": null,
      "object_position": null,
      "order": null,
      "overflow": null,
      "overflow_x": null,
      "overflow_y": null,
      "padding": null,
      "right": null,
      "top": null,
      "visibility": null,
      "width": null
     }
    },
    "bb445cc9cb8d465085f89051d7d5b4f1": {
     "model_module": "@jupyter-widgets/controls",
     "model_module_version": "1.5.0",
     "model_name": "DescriptionStyleModel",
     "state": {
      "_model_module": "@jupyter-widgets/controls",
      "_model_module_version": "1.5.0",
      "_model_name": "DescriptionStyleModel",
      "_view_count": null,
      "_view_module": "@jupyter-widgets/base",
      "_view_module_version": "1.2.0",
      "_view_name": "StyleView",
      "description_width": ""
     }
    },
    "c0436339c77a4a6fba19f47ffb16c2a0": {
     "model_module": "@jupyter-widgets/base",
     "model_module_version": "1.2.0",
     "model_name": "LayoutModel",
     "state": {
      "_model_module": "@jupyter-widgets/base",
      "_model_module_version": "1.2.0",
      "_model_name": "LayoutModel",
      "_view_count": null,
      "_view_module": "@jupyter-widgets/base",
      "_view_module_version": "1.2.0",
      "_view_name": "LayoutView",
      "align_content": null,
      "align_items": null,
      "align_self": null,
      "border": null,
      "bottom": null,
      "display": null,
      "flex": null,
      "flex_flow": null,
      "grid_area": null,
      "grid_auto_columns": null,
      "grid_auto_flow": null,
      "grid_auto_rows": null,
      "grid_column": null,
      "grid_gap": null,
      "grid_row": null,
      "grid_template_areas": null,
      "grid_template_columns": null,
      "grid_template_rows": null,
      "height": null,
      "justify_content": null,
      "justify_items": null,
      "left": null,
      "margin": null,
      "max_height": null,
      "max_width": null,
      "min_height": null,
      "min_width": null,
      "object_fit": null,
      "object_position": null,
      "order": null,
      "overflow": null,
      "overflow_x": null,
      "overflow_y": null,
      "padding": null,
      "right": null,
      "top": null,
      "visibility": null,
      "width": null
     }
    },
    "d7bdf0c5c8c34760b52ac4a2e782b7f0": {
     "model_module": "@jupyter-widgets/controls",
     "model_module_version": "1.5.0",
     "model_name": "HBoxModel",
     "state": {
      "_dom_classes": [],
      "_model_module": "@jupyter-widgets/controls",
      "_model_module_version": "1.5.0",
      "_model_name": "HBoxModel",
      "_view_count": null,
      "_view_module": "@jupyter-widgets/controls",
      "_view_module_version": "1.5.0",
      "_view_name": "HBoxView",
      "box_style": "",
      "children": [
       "IPY_MODEL_e6263ce38a3f418cbc6066078153933e",
       "IPY_MODEL_293ae5944ec54a80b2e8fffe55056a6f",
       "IPY_MODEL_f1f4bd740da64b50a03a94b345ec29e4"
      ],
      "layout": "IPY_MODEL_f33d4ce2b9d84708ac102551892a1f0e"
     }
    },
    "dcfb01b9abb94fd7ae461cfe32c6cee4": {
     "model_module": "@jupyter-widgets/controls",
     "model_module_version": "1.5.0",
     "model_name": "DescriptionStyleModel",
     "state": {
      "_model_module": "@jupyter-widgets/controls",
      "_model_module_version": "1.5.0",
      "_model_name": "DescriptionStyleModel",
      "_view_count": null,
      "_view_module": "@jupyter-widgets/base",
      "_view_module_version": "1.2.0",
      "_view_name": "StyleView",
      "description_width": ""
     }
    },
    "e6263ce38a3f418cbc6066078153933e": {
     "model_module": "@jupyter-widgets/controls",
     "model_module_version": "1.5.0",
     "model_name": "HTMLModel",
     "state": {
      "_dom_classes": [],
      "_model_module": "@jupyter-widgets/controls",
      "_model_module_version": "1.5.0",
      "_model_name": "HTMLModel",
      "_view_count": null,
      "_view_module": "@jupyter-widgets/controls",
      "_view_module_version": "1.5.0",
      "_view_name": "HTMLView",
      "description": "",
      "description_tooltip": null,
      "layout": "IPY_MODEL_2362ce961bdd401ebff0b900ddf4e6f7",
      "placeholder": "​",
      "style": "IPY_MODEL_447d99647fc9425496fa81e66b1fed5a",
      "value": "Downloading: 100%"
     }
    },
    "e735afdf74354bb4ae754c8bcff08f7a": {
     "model_module": "@jupyter-widgets/controls",
     "model_module_version": "1.5.0",
     "model_name": "ProgressStyleModel",
     "state": {
      "_model_module": "@jupyter-widgets/controls",
      "_model_module_version": "1.5.0",
      "_model_name": "ProgressStyleModel",
      "_view_count": null,
      "_view_module": "@jupyter-widgets/base",
      "_view_module_version": "1.2.0",
      "_view_name": "StyleView",
      "bar_color": null,
      "description_width": ""
     }
    },
    "ec5edb9ce30540028d51597c5ad526be": {
     "model_module": "@jupyter-widgets/base",
     "model_module_version": "1.2.0",
     "model_name": "LayoutModel",
     "state": {
      "_model_module": "@jupyter-widgets/base",
      "_model_module_version": "1.2.0",
      "_model_name": "LayoutModel",
      "_view_count": null,
      "_view_module": "@jupyter-widgets/base",
      "_view_module_version": "1.2.0",
      "_view_name": "LayoutView",
      "align_content": null,
      "align_items": null,
      "align_self": null,
      "border": null,
      "bottom": null,
      "display": null,
      "flex": null,
      "flex_flow": null,
      "grid_area": null,
      "grid_auto_columns": null,
      "grid_auto_flow": null,
      "grid_auto_rows": null,
      "grid_column": null,
      "grid_gap": null,
      "grid_row": null,
      "grid_template_areas": null,
      "grid_template_columns": null,
      "grid_template_rows": null,
      "height": null,
      "justify_content": null,
      "justify_items": null,
      "left": null,
      "margin": null,
      "max_height": null,
      "max_width": null,
      "min_height": null,
      "min_width": null,
      "object_fit": null,
      "object_position": null,
      "order": null,
      "overflow": null,
      "overflow_x": null,
      "overflow_y": null,
      "padding": null,
      "right": null,
      "top": null,
      "visibility": null,
      "width": null
     }
    },
    "edeaa0f2ec43410bbbbce406a6af2dd9": {
     "model_module": "@jupyter-widgets/controls",
     "model_module_version": "1.5.0",
     "model_name": "HTMLModel",
     "state": {
      "_dom_classes": [],
      "_model_module": "@jupyter-widgets/controls",
      "_model_module_version": "1.5.0",
      "_model_name": "HTMLModel",
      "_view_count": null,
      "_view_module": "@jupyter-widgets/controls",
      "_view_module_version": "1.5.0",
      "_view_name": "HTMLView",
      "description": "",
      "description_tooltip": null,
      "layout": "IPY_MODEL_8efb1156c0274688a3a9bd834d5cd22b",
      "placeholder": "​",
      "style": "IPY_MODEL_dcfb01b9abb94fd7ae461cfe32c6cee4",
      "value": " 59.0/59.0 [00:00&lt;00:00, 1.25kB/s]"
     }
    },
    "f1f4bd740da64b50a03a94b345ec29e4": {
     "model_module": "@jupyter-widgets/controls",
     "model_module_version": "1.5.0",
     "model_name": "HTMLModel",
     "state": {
      "_dom_classes": [],
      "_model_module": "@jupyter-widgets/controls",
      "_model_module_version": "1.5.0",
      "_model_name": "HTMLModel",
      "_view_count": null,
      "_view_module": "@jupyter-widgets/controls",
      "_view_module_version": "1.5.0",
      "_view_name": "HTMLView",
      "description": "",
      "description_tooltip": null,
      "layout": "IPY_MODEL_5967025d603a4fac887b9d258753bc1f",
      "placeholder": "​",
      "style": "IPY_MODEL_bb445cc9cb8d465085f89051d7d5b4f1",
      "value": " 520M/520M [00:18&lt;00:00, 29.3MB/s]"
     }
    },
    "f33d4ce2b9d84708ac102551892a1f0e": {
     "model_module": "@jupyter-widgets/base",
     "model_module_version": "1.2.0",
     "model_name": "LayoutModel",
     "state": {
      "_model_module": "@jupyter-widgets/base",
      "_model_module_version": "1.2.0",
      "_model_name": "LayoutModel",
      "_view_count": null,
      "_view_module": "@jupyter-widgets/base",
      "_view_module_version": "1.2.0",
      "_view_name": "LayoutView",
      "align_content": null,
      "align_items": null,
      "align_self": null,
      "border": null,
      "bottom": null,
      "display": null,
      "flex": null,
      "flex_flow": null,
      "grid_area": null,
      "grid_auto_columns": null,
      "grid_auto_flow": null,
      "grid_auto_rows": null,
      "grid_column": null,
      "grid_gap": null,
      "grid_row": null,
      "grid_template_areas": null,
      "grid_template_columns": null,
      "grid_template_rows": null,
      "height": null,
      "justify_content": null,
      "justify_items": null,
      "left": null,
      "margin": null,
      "max_height": null,
      "max_width": null,
      "min_height": null,
      "min_width": null,
      "object_fit": null,
      "object_position": null,
      "order": null,
      "overflow": null,
      "overflow_x": null,
      "overflow_y": null,
      "padding": null,
      "right": null,
      "top": null,
      "visibility": null,
      "width": null
     }
    },
    "f38c109021974c7480327710ee766e05": {
     "model_module": "@jupyter-widgets/controls",
     "model_module_version": "1.5.0",
     "model_name": "FloatProgressModel",
     "state": {
      "_dom_classes": [],
      "_model_module": "@jupyter-widgets/controls",
      "_model_module_version": "1.5.0",
      "_model_name": "FloatProgressModel",
      "_view_count": null,
      "_view_module": "@jupyter-widgets/controls",
      "_view_module_version": "1.5.0",
      "_view_name": "ProgressView",
      "bar_style": "success",
      "description": "",
      "description_tooltip": null,
      "layout": "IPY_MODEL_3c6efb38a9a648358eff4da91d20104b",
      "max": 433,
      "min": 0,
      "orientation": "horizontal",
      "style": "IPY_MODEL_83460774557b459ba330f3f88bfb3a50",
      "value": 433
     }
    },
    "f63a4dc736e54f9d9847b102c9562581": {
     "model_module": "@jupyter-widgets/controls",
     "model_module_version": "1.5.0",
     "model_name": "DescriptionStyleModel",
     "state": {
      "_model_module": "@jupyter-widgets/controls",
      "_model_module_version": "1.5.0",
      "_model_name": "DescriptionStyleModel",
      "_view_count": null,
      "_view_module": "@jupyter-widgets/base",
      "_view_module_version": "1.2.0",
      "_view_name": "StyleView",
      "description_width": ""
     }
    }
   }
  }
 },
 "nbformat": 4,
 "nbformat_minor": 4
}
