{
 "cells": [
  {
   "cell_type": "code",
   "execution_count": 1,
   "metadata": {
    "collapsed": false,
    "jupyter": {
     "outputs_hidden": false
    },
    "pycharm": {
     "name": "#%%\n"
    }
   },
   "outputs": [],
   "source": [
    "from pathlib import Path\n",
    "import sys\n",
    "sys.path.append(\"../\")"
   ]
  },
  {
   "cell_type": "code",
   "execution_count": 2,
   "metadata": {
    "collapsed": false,
    "jupyter": {
     "outputs_hidden": false
    },
    "pycharm": {
     "name": "#%%\n"
    }
   },
   "outputs": [],
   "source": [
    "from config import Config\n",
    "import pandas as pd\n",
    "import pipeline\n",
    "from datautils import remove_urls, find_hashtags"
   ]
  },
  {
   "cell_type": "code",
   "execution_count": 3,
   "metadata": {},
   "outputs": [],
   "source": [
    "data = pd.read_csv(Config.TRAINING_DATASET_PATH)"
   ]
  },
  {
   "cell_type": "code",
   "execution_count": 4,
   "metadata": {},
   "outputs": [],
   "source": [
    "txt = data['text']"
   ]
  },
  {
   "cell_type": "code",
   "execution_count": 5,
   "metadata": {},
   "outputs": [],
   "source": [
    "nourl = data['text'].apply(remove_urls)"
   ]
  },
  {
   "cell_type": "markdown",
   "metadata": {},
   "source": [
    "Test of the url remotion function."
   ]
  },
  {
   "cell_type": "code",
   "execution_count": 6,
   "metadata": {},
   "outputs": [
    {
     "data": {
      "text/plain": [
       "'Zurigo, trovato morto il presunto autore della sparatoria nel centro islamico #20dicembre https://t.co/rBjvUi8RJ2'"
      ]
     },
     "execution_count": 6,
     "metadata": {},
     "output_type": "execute_result"
    }
   ],
   "source": [
    "data['text'][0]"
   ]
  },
  {
   "cell_type": "code",
   "execution_count": 7,
   "metadata": {},
   "outputs": [
    {
     "data": {
      "text/plain": [
       "'Zurigo, trovato morto il presunto autore della sparatoria nel centro islamico #20dicembre'"
      ]
     },
     "execution_count": 7,
     "metadata": {},
     "output_type": "execute_result"
    }
   ],
   "source": [
    "nourl[0]"
   ]
  },
  {
   "cell_type": "markdown",
   "metadata": {},
   "source": [
    "Test of the hashtag finder function"
   ]
  },
  {
   "cell_type": "code",
   "execution_count": 8,
   "metadata": {},
   "outputs": [
    {
     "data": {
      "text/plain": [
       "['20dicembre']"
      ]
     },
     "execution_count": 8,
     "metadata": {},
     "output_type": "execute_result"
    }
   ],
   "source": [
    "find_hashtags(nourl[0])"
   ]
  },
  {
   "cell_type": "code",
   "execution_count": 9,
   "metadata": {},
   "outputs": [],
   "source": [
    "import pipeline"
   ]
  },
  {
   "cell_type": "code",
   "execution_count": 10,
   "metadata": {},
   "outputs": [],
   "source": [
    "pp = pipeline.ItalianTweetsPreprocessingPipeline()"
   ]
  },
  {
   "cell_type": "code",
   "execution_count": 11,
   "metadata": {},
   "outputs": [
    {
     "data": {
      "text/html": [
       "<div>\n",
       "<style scoped>\n",
       "    .dataframe tbody tr th:only-of-type {\n",
       "        vertical-align: middle;\n",
       "    }\n",
       "\n",
       "    .dataframe tbody tr th {\n",
       "        vertical-align: top;\n",
       "    }\n",
       "\n",
       "    .dataframe thead th {\n",
       "        text-align: right;\n",
       "    }\n",
       "</style>\n",
       "<table border=\"1\" class=\"dataframe\">\n",
       "  <thead>\n",
       "    <tr style=\"text-align: right;\">\n",
       "      <th></th>\n",
       "      <th>text</th>\n",
       "      <th>irony</th>\n",
       "      <th>sarcasm</th>\n",
       "      <th>hashtags</th>\n",
       "    </tr>\n",
       "  </thead>\n",
       "  <tbody>\n",
       "    <tr>\n",
       "      <th>0</th>\n",
       "      <td>Zurigo, trovato morto il presunto autore della...</td>\n",
       "      <td>0</td>\n",
       "      <td>0</td>\n",
       "      <td>[20dicembre]</td>\n",
       "    </tr>\n",
       "    <tr>\n",
       "      <th>1</th>\n",
       "      <td>Zurigo, trovato morto il presunto autore della...</td>\n",
       "      <td>0</td>\n",
       "      <td>0</td>\n",
       "      <td>[]</td>\n",
       "    </tr>\n",
       "    <tr>\n",
       "      <th>2</th>\n",
       "      <td>Zingari..i soliti \"MERDOSI\"..cacciamolivia Rom...</td>\n",
       "      <td>0</td>\n",
       "      <td>0</td>\n",
       "      <td>[cacciamolivia]</td>\n",
       "    </tr>\n",
       "    <tr>\n",
       "      <th>3</th>\n",
       "      <td>Zingari di merda,tutti al muro...bastardi Spar...</td>\n",
       "      <td>0</td>\n",
       "      <td>0</td>\n",
       "      <td>[]</td>\n",
       "    </tr>\n",
       "    <tr>\n",
       "      <th>4</th>\n",
       "      <td>zero notizie decreto tfaordinario II ciclo zer...</td>\n",
       "      <td>1</td>\n",
       "      <td>0</td>\n",
       "      <td>[tfaordinario, labuonascuola, matteorenzi]</td>\n",
       "    </tr>\n",
       "    <tr>\n",
       "      <th>...</th>\n",
       "      <td>...</td>\n",
       "      <td>...</td>\n",
       "      <td>...</td>\n",
       "      <td>...</td>\n",
       "    </tr>\n",
       "    <tr>\n",
       "      <th>3972</th>\n",
       "      <td>Casini:Trovare un'intesa tra forze politiche o...</td>\n",
       "      <td>0</td>\n",
       "      <td>0</td>\n",
       "      <td>[Monti]</td>\n",
       "    </tr>\n",
       "    <tr>\n",
       "      <th>3973</th>\n",
       "      <td>Cambiare tutto per non cambiare niente sembra ...</td>\n",
       "      <td>0</td>\n",
       "      <td>0</td>\n",
       "      <td>[Monti, liberalizzazionitaxi, stipendipolitici]</td>\n",
       "    </tr>\n",
       "    <tr>\n",
       "      <th>3974</th>\n",
       "      <td>Alcuni mettono mani nelle tasche degli italian...</td>\n",
       "      <td>0</td>\n",
       "      <td>0</td>\n",
       "      <td>[Monti]</td>\n",
       "    </tr>\n",
       "    <tr>\n",
       "      <th>3975</th>\n",
       "      <td>A parte che la dieta di Salvini  dovrebbe esse...</td>\n",
       "      <td>1</td>\n",
       "      <td>0</td>\n",
       "      <td>[Salvini]</td>\n",
       "    </tr>\n",
       "    <tr>\n",
       "      <th>3976</th>\n",
       "      <td>@VITAnonprofit CLAMOROSO: MARIO MONTI. L'Itali...</td>\n",
       "      <td>0</td>\n",
       "      <td>0</td>\n",
       "      <td>[tassalafinanza]</td>\n",
       "    </tr>\n",
       "  </tbody>\n",
       "</table>\n",
       "<p>3977 rows × 4 columns</p>\n",
       "</div>"
      ],
      "text/plain": [
       "                                                   text  irony  sarcasm  \\\n",
       "0     Zurigo, trovato morto il presunto autore della...      0        0   \n",
       "1     Zurigo, trovato morto il presunto autore della...      0        0   \n",
       "2     Zingari..i soliti \"MERDOSI\"..cacciamolivia Rom...      0        0   \n",
       "3     Zingari di merda,tutti al muro...bastardi Spar...      0        0   \n",
       "4     zero notizie decreto tfaordinario II ciclo zer...      1        0   \n",
       "...                                                 ...    ...      ...   \n",
       "3972  Casini:Trovare un'intesa tra forze politiche o...      0        0   \n",
       "3973  Cambiare tutto per non cambiare niente sembra ...      0        0   \n",
       "3974  Alcuni mettono mani nelle tasche degli italian...      0        0   \n",
       "3975  A parte che la dieta di Salvini  dovrebbe esse...      1        0   \n",
       "3976  @VITAnonprofit CLAMOROSO: MARIO MONTI. L'Itali...      0        0   \n",
       "\n",
       "                                             hashtags  \n",
       "0                                        [20dicembre]  \n",
       "1                                                  []  \n",
       "2                                     [cacciamolivia]  \n",
       "3                                                  []  \n",
       "4          [tfaordinario, labuonascuola, matteorenzi]  \n",
       "...                                               ...  \n",
       "3972                                          [Monti]  \n",
       "3973  [Monti, liberalizzazionitaxi, stipendipolitici]  \n",
       "3974                                          [Monti]  \n",
       "3975                                        [Salvini]  \n",
       "3976                                 [tassalafinanza]  \n",
       "\n",
       "[3977 rows x 4 columns]"
      ]
     },
     "execution_count": 11,
     "metadata": {},
     "output_type": "execute_result"
    }
   ],
   "source": [
    "pp.apply(data)"
   ]
  },
  {
   "cell_type": "code",
   "execution_count": null,
   "metadata": {},
   "outputs": [],
   "source": []
  }
 ],
 "metadata": {
  "kernelspec": {
   "display_name": "Python 3",
   "language": "python",
   "name": "python3"
  },
  "language_info": {
   "codemirror_mode": {
    "name": "ipython",
    "version": 3
   },
   "file_extension": ".py",
   "mimetype": "text/x-python",
   "name": "python",
   "nbconvert_exporter": "python",
   "pygments_lexer": "ipython3",
   "version": "3.8.5"
  }
 },
 "nbformat": 4,
 "nbformat_minor": 4
}
